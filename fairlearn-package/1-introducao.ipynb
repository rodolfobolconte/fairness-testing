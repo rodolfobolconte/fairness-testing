{
 "cells": [
  {
   "cell_type": "markdown",
   "metadata": {},
   "source": [
    "# Introdução ao Fairlearn\n",
    "## Link: [https://fairlearn.org/v0.7.0/quickstart.html]()\n",
    "\n",
    "<br>\n",
    "\n",
    "# Conjunto de Dados\n",
    "\n",
    "### [Census Income 1994](https://archive.ics.uci.edu/ml/datasets/Adult), se os indivíduos ultrapassam a receita de 50K dolares por ano.\n",
    "\n",
    "### 48842 indivíduos: Feminino (16192) e Masculino (32650)\n",
    "\n",
    "### O sexo é a variável sensível da execução do tutorial!"
   ]
  },
  {
   "cell_type": "code",
   "execution_count": null,
   "metadata": {},
   "outputs": [],
   "source": [
    "import numpy as np\n",
    "import pandas as pd\n",
    "import matplotlib.pyplot as plt\n",
    "from sklearn.datasets import fetch_openml"
   ]
  },
  {
   "cell_type": "code",
   "execution_count": 2,
   "metadata": {},
   "outputs": [
    {
     "data": {
      "text/plain": [
       "Male      32650\n",
       "Female    16192\n",
       "Name: sex, dtype: int64"
      ]
     },
     "execution_count": 2,
     "metadata": {},
     "output_type": "execute_result"
    }
   ],
   "source": [
    "#carregamento dos dados\n",
    "dados = fetch_openml(data_id=1590, as_frame=True)\n",
    "\n",
    "#conversão de variáveis\n",
    "x = pd.get_dummies(dados.data)\n",
    "\n",
    "#pegando os rotulos dos dados (ganhos de 50K) localizados na variável target do dataframe\n",
    "y_true = (dados.target=='>50K') * 1\n",
    "\n",
    "#variável somente com o sexo dos indivíduos do conjunto\n",
    "sex = dados.data['sex']\n",
    "sex.value_counts()"
   ]
  },
  {
   "cell_type": "code",
   "execution_count": 3,
   "metadata": {},
   "outputs": [
    {
     "data": {
      "text/plain": [
       "['age',\n",
       " 'workclass',\n",
       " 'fnlwgt',\n",
       " 'education',\n",
       " 'education-num',\n",
       " 'marital-status',\n",
       " 'occupation',\n",
       " 'relationship',\n",
       " 'race',\n",
       " 'sex',\n",
       " 'capital-gain',\n",
       " 'capital-loss',\n",
       " 'hours-per-week',\n",
       " 'native-country']"
      ]
     },
     "execution_count": 3,
     "metadata": {},
     "output_type": "execute_result"
    }
   ],
   "source": [
    "dados.feature_names"
   ]
  },
  {
   "cell_type": "code",
   "execution_count": 4,
   "metadata": {},
   "outputs": [
    {
     "data": {
      "text/plain": [
       "<AxesSubplot:title={'center':'Quantidade de Indivíduos'}>"
      ]
     },
     "execution_count": 4,
     "metadata": {},
     "output_type": "execute_result"
    },
    {
     "data": {
      "image/png": "[encoded data removed]",
      "text/plain": [
       "<Figure size 432x288 with 1 Axes>"
      ]
     },
     "metadata": {
      "needs_background": "light"
     },
     "output_type": "display_data"
    }
   ],
   "source": [
    "sex.value_counts().sort_values().plot(kind='barh', title='Quantidade de Indivíduos')"
   ]
  },
  {
   "cell_type": "markdown",
   "metadata": {},
   "source": [
    "# Avaliando métricas relacionadas à Fairness\n",
    "\n",
    "### O Fairlearn fornece métricas relacionadas à justiça que podem ser comparadas entre grupos e para a população em geral. Usando as definições de métricas existentes do scikit-learn, podemos avaliar as métricas para subgrupos dentro dos dados"
   ]
  },
  {
   "cell_type": "code",
   "execution_count": 5,
   "metadata": {},
   "outputs": [],
   "source": [
    "from fairlearn.metrics import MetricFrame\n",
    "from sklearn.metrics import accuracy_score, accuracy_score, precision_score, recall_score\n",
    "from sklearn.tree import DecisionTreeClassifier"
   ]
  },
  {
   "cell_type": "code",
   "execution_count": 6,
   "metadata": {},
   "outputs": [
    {
     "data": {
      "text/plain": [
       "0.8443552680070431"
      ]
     },
     "execution_count": 6,
     "metadata": {},
     "output_type": "execute_result"
    }
   ],
   "source": [
    "#criação, treino e previsão do classificador de árvore de decisão\n",
    "classificador = DecisionTreeClassifier(min_samples_leaf=10, max_depth=4)\n",
    "\n",
    "classificador.fit(x, y_true)\n",
    "\n",
    "y_pred = classificador.predict(x)\n",
    "\n",
    "accuracy_score(y_true, y_pred)"
   ]
  },
  {
   "cell_type": "code",
   "execution_count": 7,
   "metadata": {},
   "outputs": [
    {
     "name": "stdout",
     "output_type": "stream",
     "text": [
      "0.8443552680070431\n"
     ]
    },
    {
     "data": {
      "text/plain": [
       "sex\n",
       "Female    0.925148\n",
       "Male      0.804288\n",
       "Name: accuracy_score, dtype: object"
      ]
     },
     "execution_count": 7,
     "metadata": {},
     "output_type": "execute_result"
    }
   ],
   "source": [
    "#utilizando fairlearn para calcular acurácia\n",
    "#função de valores métricos desagregados\n",
    "acc = MetricFrame(metrics=accuracy_score, y_true=y_true, y_pred=y_pred, sensitive_features=sex)\n",
    "\n",
    "#acurácia para todos os dados do conjunto, a mesma quando utilizando apenas accuracy_score()\n",
    "print(acc.overall)\n",
    "#acurácia calculada para cada classe dos atributos sensíveis passados, nesse caso o sexo\n",
    "acc.by_group"
   ]
  },
  {
   "cell_type": "code",
   "execution_count": 8,
   "metadata": {},
   "outputs": [
    {
     "name": "stdout",
     "output_type": "stream",
     "text": [
      "0.16385487899758405\n",
      "sex\n",
      "Female     0.06355\n",
      "Male      0.213599\n",
      "Name: selection_rate, dtype: object\n"
     ]
    }
   ],
   "source": [
    "from fairlearn.metrics import selection_rate\n",
    "#selection rate (taxa de seleção): porcentagem da população que tem '1' como rótulo\n",
    "\n",
    "sr = MetricFrame(metrics=selection_rate, y_true=y_true, y_pred=y_pred, sensitive_features=sex)\n",
    "print(sr.overall)\n",
    "print(sr.by_group)"
   ]
  },
  {
   "cell_type": "code",
   "execution_count": 9,
   "metadata": {},
   "outputs": [
    {
     "name": "stdout",
     "output_type": "stream",
     "text": [
      "accuracy               0.844355\n",
      "precision              0.755217\n",
      "recall                 0.517156\n",
      "false positive rate    0.052725\n",
      "true positive rate     0.517156\n",
      "selection rate         0.163855\n",
      "count                     48842\n",
      "dtype: object\n"
     ]
    },
    {
     "data": {
      "text/html": [
       "<div>\n",
       "<style scoped>\n",
       "    .dataframe tbody tr th:only-of-type {\n",
       "        vertical-align: middle;\n",
       "    }\n",
       "\n",
       "    .dataframe tbody tr th {\n",
       "        vertical-align: top;\n",
       "    }\n",
       "\n",
       "    .dataframe thead th {\n",
       "        text-align: right;\n",
       "    }\n",
       "</style>\n",
       "<table border=\"1\" class=\"dataframe\">\n",
       "  <thead>\n",
       "    <tr style=\"text-align: right;\">\n",
       "      <th></th>\n",
       "      <th>accuracy</th>\n",
       "      <th>precision</th>\n",
       "      <th>recall</th>\n",
       "      <th>false positive rate</th>\n",
       "      <th>true positive rate</th>\n",
       "      <th>selection rate</th>\n",
       "      <th>count</th>\n",
       "    </tr>\n",
       "    <tr>\n",
       "      <th>sex</th>\n",
       "      <th></th>\n",
       "      <th></th>\n",
       "      <th></th>\n",
       "      <th></th>\n",
       "      <th></th>\n",
       "      <th></th>\n",
       "      <th></th>\n",
       "    </tr>\n",
       "  </thead>\n",
       "  <tbody>\n",
       "    <tr>\n",
       "      <th>Female</th>\n",
       "      <td>0.925148</td>\n",
       "      <td>0.770651</td>\n",
       "      <td>0.448276</td>\n",
       "      <td>0.016363</td>\n",
       "      <td>0.448276</td>\n",
       "      <td>0.06355</td>\n",
       "      <td>16192</td>\n",
       "    </tr>\n",
       "    <tr>\n",
       "      <th>Male</th>\n",
       "      <td>0.804288</td>\n",
       "      <td>0.752939</td>\n",
       "      <td>0.529441</td>\n",
       "      <td>0.075796</td>\n",
       "      <td>0.529441</td>\n",
       "      <td>0.213599</td>\n",
       "      <td>32650</td>\n",
       "    </tr>\n",
       "  </tbody>\n",
       "</table>\n",
       "</div>"
      ],
      "text/plain": [
       "        accuracy precision    recall false positive rate true positive rate  \\\n",
       "sex                                                                           \n",
       "Female  0.925148  0.770651  0.448276            0.016363           0.448276   \n",
       "Male    0.804288  0.752939  0.529441            0.075796           0.529441   \n",
       "\n",
       "       selection rate  count  \n",
       "sex                           \n",
       "Female        0.06355  16192  \n",
       "Male         0.213599  32650  "
      ]
     },
     "execution_count": 9,
     "metadata": {},
     "output_type": "execute_result"
    },
    {
     "data": {
      "image/png": "[encoded data removed]",
      "text/plain": [
       "<Figure size 864x576 with 9 Axes>"
      ]
     },
     "metadata": {
      "needs_background": "light"
     },
     "output_type": "display_data"
    }
   ],
   "source": [
    "from fairlearn.metrics import false_positive_rate, true_positive_rate, count\n",
    "\n",
    "#agrupamento de métricas para cálculo com MetricFrame\n",
    "metrics = {\n",
    "    'accuracy': accuracy_score,\n",
    "    'precision': precision_score,\n",
    "    'recall': recall_score,\n",
    "    'false positive rate': false_positive_rate,\n",
    "    'true positive rate': true_positive_rate,\n",
    "    'selection rate': selection_rate,\n",
    "    'count': count\n",
    "}\n",
    "\n",
    "metric_frame = MetricFrame(\n",
    "    metrics=metrics,\n",
    "    y_true=y_true,\n",
    "    y_pred=y_pred,\n",
    "    sensitive_features=sex\n",
    ")\n",
    "\n",
    "metric_frame.by_group.plot.bar(\n",
    "    subplots=True,\n",
    "    layout=[3, 3],\n",
    "    legend=False,\n",
    "    figsize=[12,8],\n",
    "    title=\"Todas as Métricas\"\n",
    ")\n",
    "\n",
    "print(metric_frame.overall)\n",
    "metric_frame.by_group"
   ]
  },
  {
   "cell_type": "markdown",
   "metadata": {},
   "source": [
    "# Atenuando a Disparidade\n",
    "\n",
    "### Se observarmos disparidades entre grupos, podemos querer criar um novo modelo enquanto especificamos uma restrição de justiça apropriada. Observe que a escolha das restrições de imparcialidade é crucial para o modelo resultante e varia com base no contexto do aplicativo.\n",
    "\n",
    "### Se a taxa de seleção for altamente relevante para a justiça neste exemplo inventado, podemos tentar mitigar a disparidade observada usando a restrição de justiça correspondente chamada Paridade Demográfica. A técnica de mitigação de Gradiente Exponenciado usada se encaixa no classificador fornecido usando a Paridade Demográfica como objetivo, levando a uma diferença muito reduzida na taxa de seleção"
   ]
  },
  {
   "cell_type": "code",
   "execution_count": 10,
   "metadata": {},
   "outputs": [],
   "source": [
    "#utilizando paridade demográfica para uma classificação mais justa\n",
    "from fairlearn.reductions import ExponentiatedGradient, DemographicParity\n",
    "np.random.seed(0) #resultados consistentes para o ExponentiatedGradient"
   ]
  },
  {
   "cell_type": "markdown",
   "metadata": {},
   "source": [
    "### Implementação da Paridade Demográfica, em que classificador h(X) satisfaz paridade demográfica se: P[h(X)=1 | A=a] = P[h(X)=1] Va"
   ]
  },
  {
   "cell_type": "code",
   "execution_count": 11,
   "metadata": {},
   "outputs": [],
   "source": [
    "paridade_demografica = DemographicParity()\n",
    "\n",
    "#criação de um segundo classificador de Árvore de Decisão\n",
    "classificador2 = DecisionTreeClassifier(min_samples_leaf=10, max_depth=4)"
   ]
  },
  {
   "cell_type": "markdown",
   "metadata": {},
   "source": [
    "### O `ExponentiatedGradient` é um estimador que reduz a classificação justa a uma sequência de problemas de classificação sensíveis ao custo, em que as soluções geral um classificador aleatório com o menor erro (empírico) sujeito às restrições desejadas. [Artigo](https://arxiv.org/abs/1803.02453) do estimador"
   ]
  },
  {
   "cell_type": "code",
   "execution_count": 12,
   "metadata": {},
   "outputs": [],
   "source": [
    "mitigator = ExponentiatedGradient(classificador2, paridade_demografica)\n",
    "\n",
    "#realizando o treino do modelo justo e utilizando o sexo como atributo sensível\n",
    "mitigator.fit(x, y_true, sensitive_features=sex)\n",
    "\n",
    "#previsão dos dados utilizando o modelo justo\n",
    "y_pred_mitigated = mitigator.predict(x)"
   ]
  },
  {
   "cell_type": "code",
   "execution_count": 13,
   "metadata": {},
   "outputs": [],
   "source": [
    "#calculando selection rate com os dados mitigados pelo modelo\n",
    "#atualização: calculando todas as métricas com os dados mitigados pelo modelo\n",
    "resultado_mitigated = MetricFrame(metrics=metrics, y_true=y_true, y_pred=y_pred_mitigated, sensitive_features=sex)"
   ]
  },
  {
   "cell_type": "code",
   "execution_count": 14,
   "metadata": {},
   "outputs": [
    {
     "name": "stdout",
     "output_type": "stream",
     "text": [
      "accuracy               0.820646\n",
      "precision              0.680345\n",
      "recall                 0.472405\n",
      "false positive rate    0.069816\n",
      "true positive rate     0.472405\n",
      "selection rate         0.166148\n",
      "count                     48842\n",
      "dtype: object\n"
     ]
    },
    {
     "data": {
      "text/html": [
       "<div>\n",
       "<style scoped>\n",
       "    .dataframe tbody tr th:only-of-type {\n",
       "        vertical-align: middle;\n",
       "    }\n",
       "\n",
       "    .dataframe tbody tr th {\n",
       "        vertical-align: top;\n",
       "    }\n",
       "\n",
       "    .dataframe thead th {\n",
       "        text-align: right;\n",
       "    }\n",
       "</style>\n",
       "<table border=\"1\" class=\"dataframe\">\n",
       "  <thead>\n",
       "    <tr style=\"text-align: right;\">\n",
       "      <th></th>\n",
       "      <th>accuracy</th>\n",
       "      <th>precision</th>\n",
       "      <th>recall</th>\n",
       "      <th>false positive rate</th>\n",
       "      <th>true positive rate</th>\n",
       "      <th>selection rate</th>\n",
       "      <th>count</th>\n",
       "    </tr>\n",
       "    <tr>\n",
       "      <th>sex</th>\n",
       "      <th></th>\n",
       "      <th></th>\n",
       "      <th></th>\n",
       "      <th></th>\n",
       "      <th></th>\n",
       "      <th></th>\n",
       "      <th></th>\n",
       "    </tr>\n",
       "  </thead>\n",
       "  <tbody>\n",
       "    <tr>\n",
       "      <th>Female</th>\n",
       "      <td>0.891737</td>\n",
       "      <td>0.503182</td>\n",
       "      <td>0.715093</td>\n",
       "      <td>0.086598</td>\n",
       "      <td>0.715093</td>\n",
       "      <td>0.155262</td>\n",
       "      <td>16192</td>\n",
       "    </tr>\n",
       "    <tr>\n",
       "      <th>Male</th>\n",
       "      <td>0.785391</td>\n",
       "      <td>0.759864</td>\n",
       "      <td>0.429119</td>\n",
       "      <td>0.059168</td>\n",
       "      <td>0.429119</td>\n",
       "      <td>0.171547</td>\n",
       "      <td>32650</td>\n",
       "    </tr>\n",
       "  </tbody>\n",
       "</table>\n",
       "</div>"
      ],
      "text/plain": [
       "        accuracy precision    recall false positive rate true positive rate  \\\n",
       "sex                                                                           \n",
       "Female  0.891737  0.503182  0.715093            0.086598           0.715093   \n",
       "Male    0.785391  0.759864  0.429119            0.059168           0.429119   \n",
       "\n",
       "       selection rate  count  \n",
       "sex                           \n",
       "Female       0.155262  16192  \n",
       "Male         0.171547  32650  "
      ]
     },
     "execution_count": 14,
     "metadata": {},
     "output_type": "execute_result"
    }
   ],
   "source": [
    "print(resultado_mitigated.overall)\n",
    "resultado_mitigated.by_group"
   ]
  },
  {
   "cell_type": "code",
   "execution_count": 15,
   "metadata": {},
   "outputs": [
    {
     "data": {
      "text/plain": [
       "array([[<AxesSubplot:title={'center':'accuracy'}, xlabel='sex'>,\n",
       "        <AxesSubplot:title={'center':'precision'}, xlabel='sex'>,\n",
       "        <AxesSubplot:title={'center':'recall'}, xlabel='sex'>],\n",
       "       [<AxesSubplot:title={'center':'false positive rate'}, xlabel='sex'>,\n",
       "        <AxesSubplot:title={'center':'true positive rate'}, xlabel='sex'>,\n",
       "        <AxesSubplot:title={'center':'selection rate'}, xlabel='sex'>],\n",
       "       [<AxesSubplot:title={'center':'count'}, xlabel='sex'>,\n",
       "        <AxesSubplot:xlabel='sex'>, <AxesSubplot:xlabel='sex'>]],\n",
       "      dtype=object)"
      ]
     },
     "execution_count": 15,
     "metadata": {},
     "output_type": "execute_result"
    },
    {
     "data": {
      "image/png": "[encoded data removed]",
      "text/plain": [
       "<Figure size 864x576 with 9 Axes>"
      ]
     },
     "metadata": {
      "needs_background": "light"
     },
     "output_type": "display_data"
    }
   ],
   "source": [
    "resultado_mitigated.by_group.plot.bar(\n",
    "    subplots=True,\n",
    "    layout=[3, 3],\n",
    "    legend=False,\n",
    "    figsize=[12,8],\n",
    "    title=\"Todas as Métricas\"\n",
    ")"
   ]
  },
  {
   "cell_type": "code",
   "execution_count": 16,
   "metadata": {},
   "outputs": [],
   "source": [
    "#criando nova variável com o conjunto de dados para exportar e realizar balanceamento\n",
    "dados_balancear = dados.data\n",
    "dados_balancear['mais50k'] = y_true\n",
    "dados_balancear.to_csv('2-dados.csv', index=False)"
   ]
  }
 ],
 "metadata": {
  "interpreter": {
   "hash": "e859d2b2c5ec404c80be3ae1107f381ab65c60291df144b2c8070f47769fe782"
  },
  "kernelspec": {
   "display_name": "Python 3.8.8 64-bit ('base': conda)",
   "name": "python3"
  },
  "language_info": {
   "codemirror_mode": {
    "name": "ipython",
    "version": 3
   },
   "file_extension": ".py",
   "mimetype": "text/x-python",
   "name": "python",
   "nbconvert_exporter": "python",
   "pygments_lexer": "ipython3",
   "version": "3.8.0"
  },
  "orig_nbformat": 4
 },
 "nbformat": 4,
 "nbformat_minor": 2
}
