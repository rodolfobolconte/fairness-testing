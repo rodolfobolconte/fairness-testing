{
 "cells": [
  {
   "cell_type": "markdown",
   "source": [
    "# Análises Além Tutorial\r\n",
    "\r\n",
    "## Balanceamento de dados a partir do Sexo e Raça (Pretos e Brancos)\r\n",
    "## Classificação utilizando Random Forest e Gradient Boosting a partir de Raça como atributo sensível\r\n",
    "\r\n",
    "<br>\r\n",
    "\r\n",
    "# Carregando Conjunto de Dados"
   ],
   "metadata": {}
  },
  {
   "cell_type": "code",
   "execution_count": 101,
   "source": [
    "import pandas as pd\r\n",
    "\r\n",
    "data = pd.read_csv('2-dados.csv', delimiter=',')"
   ],
   "outputs": [],
   "metadata": {}
  },
  {
   "cell_type": "markdown",
   "source": [
    "# Balanceamento de Classes\r\n",
    "\r\n",
    "## Utilizando o sexo como atributo sensível"
   ],
   "metadata": {}
  },
  {
   "cell_type": "markdown",
   "source": [
    "## Oversampling"
   ],
   "metadata": {}
  },
  {
   "cell_type": "code",
   "execution_count": 102,
   "source": [
    "from imblearn.over_sampling import RandomOverSampler\r\n",
    "\r\n",
    "#criando modelo de oversampling\r\n",
    "over_sampler = RandomOverSampler(random_state=99)"
   ],
   "outputs": [],
   "metadata": {}
  },
  {
   "cell_type": "code",
   "execution_count": 103,
   "source": [
    "#realizando reamostragem oversampling, utilizando o sexo como rótulo para o balanceamento\r\n",
    "x_over, y_over = over_sampler.fit_resample(data.drop(['sex'], axis=1), data['sex'])"
   ],
   "outputs": [],
   "metadata": {}
  },
  {
   "cell_type": "code",
   "execution_count": 104,
   "source": [
    "#concatenando dataframes gerados pelo over sampler, para recolocar o sexo como variável explicativa e mais50k como variável resposta\r\n",
    "x_over['sex'] = y_over\r\n",
    "data_over = x_over\r\n",
    "\r\n",
    "data_over_y = data_over['mais50k']\r\n",
    "data_over_x = data_over.drop(['mais50k'], axis=1)"
   ],
   "outputs": [],
   "metadata": {}
  },
  {
   "cell_type": "code",
   "execution_count": 105,
   "source": [
    "#contagem da realização do oversampling\r\n",
    "data_over_x['sex'].value_counts()"
   ],
   "outputs": [
    {
     "output_type": "execute_result",
     "data": {
      "text/plain": [
       "Female    32650\n",
       "Male      32650\n",
       "Name: sex, dtype: int64"
      ]
     },
     "metadata": {},
     "execution_count": 105
    }
   ],
   "metadata": {}
  },
  {
   "cell_type": "code",
   "execution_count": 106,
   "source": [
    "#convertendo variáveis categóricas\r\n",
    "data_over_x_dummies = pd.get_dummies(data_over_x)"
   ],
   "outputs": [],
   "metadata": {}
  },
  {
   "cell_type": "code",
   "execution_count": 107,
   "source": [
    "#função que executa a classificação justa\r\n",
    "def run_classification(classifier, x, y, sensitive_feature):\r\n",
    "    demographic_parity = DemographicParity()\r\n",
    "\r\n",
    "    #criação de um segundo classificador de Árvore de Decisão\r\n",
    "    #classifier = DecisionTreeClassifier(min_samples_leaf=10, max_depth=4)\r\n",
    "\r\n",
    "    mitigator = ExponentiatedGradient(classifier, demographic_parity)\r\n",
    "\r\n",
    "    #realizando o treino do modelo justo e utilizando o sexo como atributo sensível\r\n",
    "    mitigator.fit(x, y, sensitive_features=sensitive_feature)\r\n",
    "\r\n",
    "    #previsão dos dados utilizando o modelo justo\r\n",
    "    #y_pred_mitigated = mitigator.predict(x)\r\n",
    "    return mitigator.predict(x)\r\n",
    "\r\n",
    "#função que calcula as métricas agrupadas\r\n",
    "def calculate_metrics(y_true, y_pred, sensitive_feature):\r\n",
    "    #agrupamento de métricas para cálculo com MetricFrame\r\n",
    "    metrics = {\r\n",
    "        'accuracy': accuracy_score,\r\n",
    "        'precision': precision_score,\r\n",
    "        'recall': recall_score,\r\n",
    "        'false positive rate': false_positive_rate,\r\n",
    "        'true positive rate': true_positive_rate,\r\n",
    "        'selection rate': selection_rate\r\n",
    "    }\r\n",
    "\r\n",
    "    return MetricFrame(\r\n",
    "        metrics=metrics,\r\n",
    "        y_true=y_true,\r\n",
    "        y_pred=y_pred,\r\n",
    "        sensitive_features=sensitive_feature\r\n",
    "    )"
   ],
   "outputs": [],
   "metadata": {}
  },
  {
   "cell_type": "code",
   "execution_count": 108,
   "source": [
    "from fairlearn.metrics import MetricFrame, selection_rate, false_positive_rate, true_positive_rate, count\r\n",
    "from sklearn.metrics import accuracy_score, accuracy_score, precision_score, recall_score\r\n",
    "from sklearn.tree import DecisionTreeClassifier\r\n",
    "from fairlearn.reductions import ExponentiatedGradient, DemographicParity\r\n",
    "\r\n",
    "decision_tree_oversampling = DecisionTreeClassifier(min_samples_leaf=10, max_depth=4)"
   ],
   "outputs": [],
   "metadata": {}
  },
  {
   "cell_type": "code",
   "execution_count": 109,
   "source": [
    "data_over_prev = run_classification(decision_tree_oversampling, data_over_x_dummies, data_over_y, data_over_x['sex'])"
   ],
   "outputs": [],
   "metadata": {}
  },
  {
   "cell_type": "code",
   "execution_count": 110,
   "source": [
    "#calcula métricas para os dados com oversampling\r\n",
    "over_results = calculate_metrics(data_over_y, data_over_prev, data_over_x['sex'])\r\n",
    "\r\n",
    "print(over_results.overall)\r\n",
    "over_results.by_group"
   ],
   "outputs": [
    {
     "output_type": "stream",
     "name": "stdout",
     "text": [
      "accuracy               0.843997\n",
      "precision              0.823097\n",
      "recall                 0.308156\n",
      "false positive rate    0.017161\n",
      "true positive rate     0.308156\n",
      "selection rate         0.077044\n",
      "dtype: object\n"
     ]
    },
    {
     "output_type": "execute_result",
     "data": {
      "text/html": [
       "<div>\n",
       "<style scoped>\n",
       "    .dataframe tbody tr th:only-of-type {\n",
       "        vertical-align: middle;\n",
       "    }\n",
       "\n",
       "    .dataframe tbody tr th {\n",
       "        vertical-align: top;\n",
       "    }\n",
       "\n",
       "    .dataframe thead th {\n",
       "        text-align: right;\n",
       "    }\n",
       "</style>\n",
       "<table border=\"1\" class=\"dataframe\">\n",
       "  <thead>\n",
       "    <tr style=\"text-align: right;\">\n",
       "      <th></th>\n",
       "      <th>accuracy</th>\n",
       "      <th>precision</th>\n",
       "      <th>recall</th>\n",
       "      <th>false positive rate</th>\n",
       "      <th>true positive rate</th>\n",
       "      <th>selection rate</th>\n",
       "    </tr>\n",
       "    <tr>\n",
       "      <th>sex</th>\n",
       "      <th></th>\n",
       "      <th></th>\n",
       "      <th></th>\n",
       "      <th></th>\n",
       "      <th></th>\n",
       "      <th></th>\n",
       "    </tr>\n",
       "  </thead>\n",
       "  <tbody>\n",
       "    <tr>\n",
       "      <th>Female</th>\n",
       "      <td>0.927044</td>\n",
       "      <td>0.761249</td>\n",
       "      <td>0.471023</td>\n",
       "      <td>0.017851</td>\n",
       "      <td>0.471023</td>\n",
       "      <td>0.066708</td>\n",
       "    </tr>\n",
       "    <tr>\n",
       "      <th>Male</th>\n",
       "      <td>0.760949</td>\n",
       "      <td>0.870312</td>\n",
       "      <td>0.250353</td>\n",
       "      <td>0.016277</td>\n",
       "      <td>0.250353</td>\n",
       "      <td>0.087381</td>\n",
       "    </tr>\n",
       "  </tbody>\n",
       "</table>\n",
       "</div>"
      ],
      "text/plain": [
       "        accuracy precision    recall false positive rate true positive rate  \\\n",
       "sex                                                                           \n",
       "Female  0.927044  0.761249  0.471023            0.017851           0.471023   \n",
       "Male    0.760949  0.870312  0.250353            0.016277           0.250353   \n",
       "\n",
       "       selection rate  \n",
       "sex                    \n",
       "Female       0.066708  \n",
       "Male         0.087381  "
      ]
     },
     "metadata": {},
     "execution_count": 110
    }
   ],
   "metadata": {}
  },
  {
   "cell_type": "code",
   "execution_count": 111,
   "source": [
    "over_results.by_group.plot.bar(\r\n",
    "    subplots=True,\r\n",
    "    layout=[3, 3],\r\n",
    "    legend=False,\r\n",
    "    figsize=[12,8],\r\n",
    "    title=\"Todas as Métricas\"\r\n",
    ")"
   ],
   "outputs": [
    {
     "output_type": "execute_result",
     "data": {
      "text/plain": [
       "array([[<AxesSubplot:title={'center':'accuracy'}, xlabel='sex'>,\n",
       "        <AxesSubplot:title={'center':'precision'}, xlabel='sex'>,\n",
       "        <AxesSubplot:title={'center':'recall'}, xlabel='sex'>],\n",
       "       [<AxesSubplot:title={'center':'false positive rate'}, xlabel='sex'>,\n",
       "        <AxesSubplot:title={'center':'true positive rate'}, xlabel='sex'>,\n",
       "        <AxesSubplot:title={'center':'selection rate'}, xlabel='sex'>],\n",
       "       [<AxesSubplot:xlabel='sex'>, <AxesSubplot:xlabel='sex'>,\n",
       "        <AxesSubplot:xlabel='sex'>]], dtype=object)"
      ]
     },
     "metadata": {},
     "execution_count": 111
    },
    {
     "output_type": "display_data",
     "data": {
      "image/png": "[encoded data removed]",
      "text/plain": [
       "<Figure size 864x576 with 9 Axes>"
      ]
     },
     "metadata": {
      "needs_background": "light"
     }
    }
   ],
   "metadata": {}
  },
  {
   "cell_type": "markdown",
   "source": [
    "## Undersampling"
   ],
   "metadata": {}
  },
  {
   "cell_type": "code",
   "execution_count": 112,
   "source": [
    "from imblearn.under_sampling import RandomUnderSampler\r\n",
    "\r\n",
    "#criando modelo de undersampling\r\n",
    "under_sampler = RandomUnderSampler(random_state=99)"
   ],
   "outputs": [],
   "metadata": {}
  },
  {
   "cell_type": "code",
   "execution_count": 113,
   "source": [
    "#realizando reamostragem undersampling, utilizando o sexo como rótulo para o balanceamento\r\n",
    "x_under, y_under = under_sampler.fit_resample(data.drop(['sex'], axis=1), data['sex'])"
   ],
   "outputs": [],
   "metadata": {}
  },
  {
   "cell_type": "code",
   "execution_count": 114,
   "source": [
    "#concatenando dataframes gerados pelo under sampler, para recolocar o sexo como variável explicativa e mais50k como variável resposta\r\n",
    "x_under['sex'] = y_under\r\n",
    "data_under = x_under\r\n",
    "\r\n",
    "data_under_y = data_under['mais50k']\r\n",
    "data_under_x = data_under.drop(['mais50k'], axis=1)"
   ],
   "outputs": [],
   "metadata": {}
  },
  {
   "cell_type": "code",
   "execution_count": 115,
   "source": [
    "#contagem da realização do undersampling\r\n",
    "data_under_x['sex'].value_counts()"
   ],
   "outputs": [
    {
     "output_type": "execute_result",
     "data": {
      "text/plain": [
       "Female    16192\n",
       "Male      16192\n",
       "Name: sex, dtype: int64"
      ]
     },
     "metadata": {},
     "execution_count": 115
    }
   ],
   "metadata": {}
  },
  {
   "cell_type": "code",
   "execution_count": 116,
   "source": [
    "#convertendo variáveis categóricas\r\n",
    "data_under_x_dummies = pd.get_dummies(data_under_x)"
   ],
   "outputs": [],
   "metadata": {}
  },
  {
   "cell_type": "code",
   "execution_count": 117,
   "source": [
    "#criação do classificador de árvore de decisão\r\n",
    "\r\n",
    "decision_tree_undersampling = DecisionTreeClassifier(min_samples_leaf=10, max_depth=4)"
   ],
   "outputs": [],
   "metadata": {}
  },
  {
   "cell_type": "code",
   "execution_count": 118,
   "source": [
    "#execução do treino e previsão do modelo justo\r\n",
    "data_under_prev = run_classification(decision_tree_undersampling, data_under_x_dummies, data_under_y, data_under_x['sex'])"
   ],
   "outputs": [],
   "metadata": {}
  },
  {
   "cell_type": "code",
   "execution_count": 119,
   "source": [
    "under_results = calculate_metrics(data_under_y, data_under_prev, data_under_x['sex'])\r\n",
    "\r\n",
    "print(under_results.overall)\r\n",
    "under_results.by_group"
   ],
   "outputs": [
    {
     "output_type": "stream",
     "name": "stdout",
     "text": [
      "accuracy               0.845634\n",
      "precision              0.711709\n",
      "recall                 0.420342\n",
      "false positive rate    0.044133\n",
      "true positive rate     0.420342\n",
      "selection rate         0.121572\n",
      "dtype: object\n"
     ]
    },
    {
     "output_type": "execute_result",
     "data": {
      "text/html": [
       "<div>\n",
       "<style scoped>\n",
       "    .dataframe tbody tr th:only-of-type {\n",
       "        vertical-align: middle;\n",
       "    }\n",
       "\n",
       "    .dataframe tbody tr th {\n",
       "        vertical-align: top;\n",
       "    }\n",
       "\n",
       "    .dataframe thead th {\n",
       "        text-align: right;\n",
       "    }\n",
       "</style>\n",
       "<table border=\"1\" class=\"dataframe\">\n",
       "  <thead>\n",
       "    <tr style=\"text-align: right;\">\n",
       "      <th></th>\n",
       "      <th>accuracy</th>\n",
       "      <th>precision</th>\n",
       "      <th>recall</th>\n",
       "      <th>false positive rate</th>\n",
       "      <th>true positive rate</th>\n",
       "      <th>selection rate</th>\n",
       "    </tr>\n",
       "    <tr>\n",
       "      <th>sex</th>\n",
       "      <th></th>\n",
       "      <th></th>\n",
       "      <th></th>\n",
       "      <th></th>\n",
       "      <th></th>\n",
       "      <th></th>\n",
       "    </tr>\n",
       "  </thead>\n",
       "  <tbody>\n",
       "    <tr>\n",
       "      <th>Female</th>\n",
       "      <td>0.91749</td>\n",
       "      <td>0.620747</td>\n",
       "      <td>0.629169</td>\n",
       "      <td>0.047147</td>\n",
       "      <td>0.629169</td>\n",
       "      <td>0.110734</td>\n",
       "    </tr>\n",
       "    <tr>\n",
       "      <th>Male</th>\n",
       "      <td>0.773777</td>\n",
       "      <td>0.78778</td>\n",
       "      <td>0.344905</td>\n",
       "      <td>0.040283</td>\n",
       "      <td>0.344905</td>\n",
       "      <td>0.132411</td>\n",
       "    </tr>\n",
       "  </tbody>\n",
       "</table>\n",
       "</div>"
      ],
      "text/plain": [
       "        accuracy precision    recall false positive rate true positive rate  \\\n",
       "sex                                                                           \n",
       "Female   0.91749  0.620747  0.629169            0.047147           0.629169   \n",
       "Male    0.773777   0.78778  0.344905            0.040283           0.344905   \n",
       "\n",
       "       selection rate  \n",
       "sex                    \n",
       "Female       0.110734  \n",
       "Male         0.132411  "
      ]
     },
     "metadata": {},
     "execution_count": 119
    }
   ],
   "metadata": {}
  },
  {
   "cell_type": "code",
   "execution_count": 120,
   "source": [
    "under_results.by_group.plot.bar(\r\n",
    "    subplots=True,\r\n",
    "    layout=[3, 3],\r\n",
    "    legend=False,\r\n",
    "    figsize=[12,8],\r\n",
    "    title=\"Todas as Métricas\"\r\n",
    ")"
   ],
   "outputs": [
    {
     "output_type": "execute_result",
     "data": {
      "text/plain": [
       "array([[<AxesSubplot:title={'center':'accuracy'}, xlabel='sex'>,\n",
       "        <AxesSubplot:title={'center':'precision'}, xlabel='sex'>,\n",
       "        <AxesSubplot:title={'center':'recall'}, xlabel='sex'>],\n",
       "       [<AxesSubplot:title={'center':'false positive rate'}, xlabel='sex'>,\n",
       "        <AxesSubplot:title={'center':'true positive rate'}, xlabel='sex'>,\n",
       "        <AxesSubplot:title={'center':'selection rate'}, xlabel='sex'>],\n",
       "       [<AxesSubplot:xlabel='sex'>, <AxesSubplot:xlabel='sex'>,\n",
       "        <AxesSubplot:xlabel='sex'>]], dtype=object)"
      ]
     },
     "metadata": {},
     "execution_count": 120
    },
    {
     "output_type": "display_data",
     "data": {
      "image/png": "[encoded data removed]",
      "text/plain": [
       "<Figure size 864x576 with 9 Axes>"
      ]
     },
     "metadata": {
      "needs_background": "light"
     }
    }
   ],
   "metadata": {}
  },
  {
   "cell_type": "markdown",
   "source": [
    "# Atributo Sensível: Raça"
   ],
   "metadata": {}
  },
  {
   "cell_type": "code",
   "execution_count": 121,
   "source": [
    "data['race'].value_counts().sort_values().plot(kind='barh', title='Quantidade de Indivíduos Étnicos')\r\n",
    "\r\n",
    "data['race'].value_counts()"
   ],
   "outputs": [
    {
     "output_type": "execute_result",
     "data": {
      "text/plain": [
       "White                 41762\n",
       "Black                  4685\n",
       "Asian-Pac-Islander     1519\n",
       "Amer-Indian-Eskimo      470\n",
       "Other                   406\n",
       "Name: race, dtype: int64"
      ]
     },
     "metadata": {},
     "execution_count": 121
    },
    {
     "output_type": "display_data",
     "data": {
      "image/png": "[encoded data removed]",
      "text/plain": [
       "<Figure size 432x288 with 1 Axes>"
      ]
     },
     "metadata": {
      "needs_background": "light"
     }
    }
   ],
   "metadata": {}
  },
  {
   "cell_type": "code",
   "execution_count": 122,
   "source": [
    "#separando os dados para execução do modelo\r\n",
    "race_data_x = data.drop(['mais50k'], axis=1)\r\n",
    "race_data_x_dummies = pd.get_dummies(race_data_x)\r\n",
    "\r\n",
    "race_data_y = data['mais50k']"
   ],
   "outputs": [],
   "metadata": {}
  },
  {
   "cell_type": "code",
   "execution_count": 124,
   "source": [
    "#criando modelo de previsão\r\n",
    "race_decision_tree = DecisionTreeClassifier(min_samples_leaf=10, max_depth=4)\r\n",
    "\r\n",
    "race_decision_tree_prev = run_classification(race_decision_tree, race_data_x_dummies, race_data_y, race_data_x['race'])"
   ],
   "outputs": [],
   "metadata": {}
  },
  {
   "cell_type": "code",
   "execution_count": 125,
   "source": [
    "race_results = calculate_metrics(race_data_y, race_decision_tree_prev, race_data_x['race'])\r\n",
    "\r\n",
    "print(race_results.overall)\r\n",
    "race_results.by_group"
   ],
   "outputs": [
    {
     "output_type": "stream",
     "name": "stdout",
     "text": [
      "accuracy               0.837865\n",
      "precision               0.72196\n",
      "recall                 0.524343\n",
      "false positive rate    0.063518\n",
      "true positive rate     0.524343\n",
      "selection rate         0.173785\n",
      "dtype: object\n"
     ]
    },
    {
     "output_type": "execute_result",
     "data": {
      "text/html": [
       "<div>\n",
       "<style scoped>\n",
       "    .dataframe tbody tr th:only-of-type {\n",
       "        vertical-align: middle;\n",
       "    }\n",
       "\n",
       "    .dataframe tbody tr th {\n",
       "        vertical-align: top;\n",
       "    }\n",
       "\n",
       "    .dataframe thead th {\n",
       "        text-align: right;\n",
       "    }\n",
       "</style>\n",
       "<table border=\"1\" class=\"dataframe\">\n",
       "  <thead>\n",
       "    <tr style=\"text-align: right;\">\n",
       "      <th></th>\n",
       "      <th>accuracy</th>\n",
       "      <th>precision</th>\n",
       "      <th>recall</th>\n",
       "      <th>false positive rate</th>\n",
       "      <th>true positive rate</th>\n",
       "      <th>selection rate</th>\n",
       "    </tr>\n",
       "    <tr>\n",
       "      <th>race</th>\n",
       "      <th></th>\n",
       "      <th></th>\n",
       "      <th></th>\n",
       "      <th></th>\n",
       "      <th></th>\n",
       "      <th></th>\n",
       "    </tr>\n",
       "  </thead>\n",
       "  <tbody>\n",
       "    <tr>\n",
       "      <th>Amer-Indian-Eskimo</th>\n",
       "      <td>0.83617</td>\n",
       "      <td>0.347222</td>\n",
       "      <td>0.454545</td>\n",
       "      <td>0.113253</td>\n",
       "      <td>0.454545</td>\n",
       "      <td>0.153191</td>\n",
       "    </tr>\n",
       "    <tr>\n",
       "      <th>Asian-Pac-Islander</th>\n",
       "      <td>0.789993</td>\n",
       "      <td>0.658451</td>\n",
       "      <td>0.457213</td>\n",
       "      <td>0.087387</td>\n",
       "      <td>0.457213</td>\n",
       "      <td>0.186965</td>\n",
       "    </tr>\n",
       "    <tr>\n",
       "      <th>Black</th>\n",
       "      <td>0.870438</td>\n",
       "      <td>0.472991</td>\n",
       "      <td>0.634276</td>\n",
       "      <td>0.097111</td>\n",
       "      <td>0.634276</td>\n",
       "      <td>0.162006</td>\n",
       "    </tr>\n",
       "    <tr>\n",
       "      <th>Other</th>\n",
       "      <td>0.79803</td>\n",
       "      <td>0.257576</td>\n",
       "      <td>0.34</td>\n",
       "      <td>0.13764</td>\n",
       "      <td>0.34</td>\n",
       "      <td>0.162562</td>\n",
       "    </tr>\n",
       "    <tr>\n",
       "      <th>White</th>\n",
       "      <td>0.836358</td>\n",
       "      <td>0.758177</td>\n",
       "      <td>0.522297</td>\n",
       "      <td>0.056716</td>\n",
       "      <td>0.522297</td>\n",
       "      <td>0.174968</td>\n",
       "    </tr>\n",
       "  </tbody>\n",
       "</table>\n",
       "</div>"
      ],
      "text/plain": [
       "                    accuracy precision    recall false positive rate  \\\n",
       "race                                                                   \n",
       "Amer-Indian-Eskimo   0.83617  0.347222  0.454545            0.113253   \n",
       "Asian-Pac-Islander  0.789993  0.658451  0.457213            0.087387   \n",
       "Black               0.870438  0.472991  0.634276            0.097111   \n",
       "Other                0.79803  0.257576      0.34             0.13764   \n",
       "White               0.836358  0.758177  0.522297            0.056716   \n",
       "\n",
       "                   true positive rate selection rate  \n",
       "race                                                  \n",
       "Amer-Indian-Eskimo           0.454545       0.153191  \n",
       "Asian-Pac-Islander           0.457213       0.186965  \n",
       "Black                        0.634276       0.162006  \n",
       "Other                            0.34       0.162562  \n",
       "White                        0.522297       0.174968  "
      ]
     },
     "metadata": {},
     "execution_count": 125
    }
   ],
   "metadata": {}
  },
  {
   "cell_type": "code",
   "execution_count": 126,
   "source": [
    "#utilizando e balanceando brancos (41762) e negros (4685)\r\n",
    "\r\n",
    "data_black_white = data[data.race.isin(['Black', 'White'])]\r\n",
    "\r\n",
    "data_black_white['race'].value_counts()"
   ],
   "outputs": [
    {
     "output_type": "execute_result",
     "data": {
      "text/plain": [
       "White    41762\n",
       "Black     4685\n",
       "Name: race, dtype: int64"
      ]
     },
     "metadata": {},
     "execution_count": 126
    }
   ],
   "metadata": {}
  },
  {
   "cell_type": "markdown",
   "source": [
    "## Oversampling e Undersampling"
   ],
   "metadata": {}
  },
  {
   "cell_type": "code",
   "execution_count": 127,
   "source": [
    "def resample(sampling_model, data):\r\n",
    "    x, y = sampling_model.fit_resample(\r\n",
    "        data.drop(['race'], axis=1),\r\n",
    "        data['race']\r\n",
    "    )\r\n",
    "\r\n",
    "    x['race'] = y\r\n",
    "    data_y = x['mais50k']\r\n",
    "    data_x = pd.get_dummies(x.drop(['mais50k'], axis=1))\r\n",
    "    sensitive_feature = y\r\n",
    "\r\n",
    "    return data_x, data_y, sensitive_feature"
   ],
   "outputs": [],
   "metadata": {}
  },
  {
   "cell_type": "code",
   "execution_count": 128,
   "source": [
    "#realizando reamostragem over e undersampling dos dados de pessoas brancas e negras\r\n",
    "bw_over_x, bw_over_y, bw_over_sen = resample(over_sampler, data_black_white)\r\n",
    "bw_under_x, bw_under_y, bw_under_sen = resample(under_sampler, data_black_white)"
   ],
   "outputs": [],
   "metadata": {}
  },
  {
   "cell_type": "code",
   "execution_count": 129,
   "source": [
    "#criando modelo árvore de decisão e realizando previsões\r\n",
    "\r\n",
    "bw_decision_tree = DecisionTreeClassifier(min_samples_leaf=10, max_depth=4)\r\n",
    "\r\n",
    "bw_over_prev = run_classification(bw_decision_tree, bw_over_x, bw_over_y, bw_over_sen)\r\n",
    "bw_under_prev = run_classification(bw_decision_tree, bw_under_x, bw_under_y, bw_under_sen)"
   ],
   "outputs": [],
   "metadata": {}
  },
  {
   "cell_type": "code",
   "execution_count": 130,
   "source": [
    "#calculando os valores das métricas\r\n",
    "bw_over_results = calculate_metrics(bw_over_y, bw_over_prev, bw_over_sen)\r\n",
    "bw_under_results = calculate_metrics(bw_under_y, bw_under_prev, bw_under_sen)"
   ],
   "outputs": [],
   "metadata": {}
  },
  {
   "cell_type": "code",
   "execution_count": 138,
   "source": [
    "print('**OVERSAMPLING**\\n', bw_over_results.by_group)\r\n",
    "\r\n",
    "bw_over_results.by_group.plot.bar(\r\n",
    "    subplots=True,\r\n",
    "    layout=[3, 3],\r\n",
    "    legend=False,\r\n",
    "    figsize=[12,8],\r\n",
    "    title=\"Black/White Oversampling\"\r\n",
    ")\r\n",
    "\r\n",
    "print('\\n**UNDERSAMPLING**\\n', bw_under_results.by_group)\r\n",
    "\r\n",
    "bw_under_results.by_group.plot.bar(\r\n",
    "    subplots=True,\r\n",
    "    layout=[3, 3],\r\n",
    "    legend=False,\r\n",
    "    figsize=[12,8],\r\n",
    "    title=\"Black/White Undersampling\"\r\n",
    ")"
   ],
   "outputs": [
    {
     "output_type": "stream",
     "name": "stdout",
     "text": [
      "**OVERSAMPLING**\n",
      "        accuracy precision    recall false positive rate true positive rate  \\\n",
      "race                                                                         \n",
      "Black  0.909966  0.650046  0.562229            0.041898           0.562229   \n",
      "White  0.821345  0.800765  0.394834            0.033446           0.394834   \n",
      "\n",
      "      selection rate  \n",
      "race                  \n",
      "Black       0.105167  \n",
      "White       0.125233  \n",
      "\n",
      "**UNDERSAMPLING**\n",
      "        accuracy precision    recall false positive rate true positive rate  \\\n",
      "race                                                                         \n",
      "Black   0.91206  0.675799  0.522968            0.034474           0.522968   \n",
      "White  0.810459  0.782214  0.359466            0.034423           0.359466   \n",
      "\n",
      "      selection rate  \n",
      "race                  \n",
      "Black        0.09349  \n",
      "White       0.117609  \n"
     ]
    },
    {
     "output_type": "execute_result",
     "data": {
      "text/plain": [
       "array([[<AxesSubplot:title={'center':'accuracy'}, xlabel='race'>,\n",
       "        <AxesSubplot:title={'center':'precision'}, xlabel='race'>,\n",
       "        <AxesSubplot:title={'center':'recall'}, xlabel='race'>],\n",
       "       [<AxesSubplot:title={'center':'false positive rate'}, xlabel='race'>,\n",
       "        <AxesSubplot:title={'center':'true positive rate'}, xlabel='race'>,\n",
       "        <AxesSubplot:title={'center':'selection rate'}, xlabel='race'>],\n",
       "       [<AxesSubplot:xlabel='race'>, <AxesSubplot:xlabel='race'>,\n",
       "        <AxesSubplot:xlabel='race'>]], dtype=object)"
      ]
     },
     "metadata": {},
     "execution_count": 138
    },
    {
     "output_type": "display_data",
     "data": {
      "image/png": "[encoded data removed]",
      "text/plain": [
       "<Figure size 864x576 with 9 Axes>"
      ]
     },
     "metadata": {
      "needs_background": "light"
     }
    },
    {
     "output_type": "display_data",
     "data": {
      "image/png": "[encoded data removed]",
      "text/plain": [
       "<Figure size 864x576 with 9 Axes>"
      ]
     },
     "metadata": {
      "needs_background": "light"
     }
    }
   ],
   "metadata": {}
  },
  {
   "cell_type": "markdown",
   "source": [
    "# Modelos de Classificação Diferentes (Random Forest e Gradient Boosting)\r\n",
    "## Utilizando Raça como Atributo Sensível"
   ],
   "metadata": {}
  },
  {
   "cell_type": "code",
   "execution_count": 132,
   "source": [
    "#executando com outros modelos\r\n",
    "from sklearn.ensemble import RandomForestClassifier, GradientBoostingClassifier\r\n",
    "\r\n",
    "#criando floresta aleatória\r\n",
    "bw_random_forest = RandomForestClassifier(n_estimators=100,bootstrap=True, max_depth=3, max_features=9, max_leaf_nodes=8)\r\n",
    "\r\n",
    "#criando aumento gradiente\r\n",
    "bw_gradient_boost = GradientBoostingClassifier(n_estimators=100, max_depth=3, max_features=9, max_leaf_nodes=8, loss='deviance', learning_rate=0.2, subsample=1)\r\n"
   ],
   "outputs": [],
   "metadata": {}
  },
  {
   "cell_type": "code",
   "execution_count": 133,
   "source": [
    "#pegando dummies das colunas do dataset\r\n",
    "bw_x_dummies = pd.get_dummies(data_black_white.drop(['mais50k', 'race'], axis=1))"
   ],
   "outputs": [],
   "metadata": {}
  },
  {
   "cell_type": "code",
   "execution_count": 134,
   "source": [
    "#executando treino e previsão dos dois modelos\r\n",
    "\r\n",
    "bw_random_forest_prev = run_classification(bw_random_forest,\r\n",
    "                                           bw_x_dummies,\r\n",
    "                                           data_black_white['mais50k'],\r\n",
    "                                           data_black_white['race'])\r\n",
    "\r\n",
    "bw_gradient_boost_prev = run_classification(bw_gradient_boost,\r\n",
    "                                           bw_x_dummies,\r\n",
    "                                           data_black_white['mais50k'],\r\n",
    "                                           data_black_white['race'])"
   ],
   "outputs": [],
   "metadata": {}
  },
  {
   "cell_type": "code",
   "execution_count": 135,
   "source": [
    "#calculando valores métricos para os dois novos classificadores\r\n",
    "\r\n",
    "bw_random_forest_results = calculate_metrics(data_black_white['mais50k'], bw_random_forest_prev, data_black_white['race'])\r\n",
    "\r\n",
    "bw_gradient_boost_results = calculate_metrics(data_black_white['mais50k'], bw_gradient_boost_prev, data_black_white['race'])"
   ],
   "outputs": [],
   "metadata": {}
  },
  {
   "cell_type": "code",
   "execution_count": 142,
   "source": [
    "bw_gradient_boost_results.by_group"
   ],
   "outputs": [
    {
     "output_type": "execute_result",
     "data": {
      "text/html": [
       "<div>\n",
       "<style scoped>\n",
       "    .dataframe tbody tr th:only-of-type {\n",
       "        vertical-align: middle;\n",
       "    }\n",
       "\n",
       "    .dataframe tbody tr th {\n",
       "        vertical-align: top;\n",
       "    }\n",
       "\n",
       "    .dataframe thead th {\n",
       "        text-align: right;\n",
       "    }\n",
       "</style>\n",
       "<table border=\"1\" class=\"dataframe\">\n",
       "  <thead>\n",
       "    <tr style=\"text-align: right;\">\n",
       "      <th></th>\n",
       "      <th>accuracy</th>\n",
       "      <th>precision</th>\n",
       "      <th>recall</th>\n",
       "      <th>false positive rate</th>\n",
       "      <th>true positive rate</th>\n",
       "      <th>selection rate</th>\n",
       "    </tr>\n",
       "    <tr>\n",
       "      <th>race</th>\n",
       "      <th></th>\n",
       "      <th></th>\n",
       "      <th></th>\n",
       "      <th></th>\n",
       "      <th></th>\n",
       "      <th></th>\n",
       "    </tr>\n",
       "  </thead>\n",
       "  <tbody>\n",
       "    <tr>\n",
       "      <th>Black</th>\n",
       "      <td>0.865528</td>\n",
       "      <td>0.455056</td>\n",
       "      <td>0.572438</td>\n",
       "      <td>0.094198</td>\n",
       "      <td>0.572438</td>\n",
       "      <td>0.151974</td>\n",
       "    </tr>\n",
       "    <tr>\n",
       "      <th>White</th>\n",
       "      <td>0.850438</td>\n",
       "      <td>0.815694</td>\n",
       "      <td>0.531159</td>\n",
       "      <td>0.04086</td>\n",
       "      <td>0.531159</td>\n",
       "      <td>0.16539</td>\n",
       "    </tr>\n",
       "  </tbody>\n",
       "</table>\n",
       "</div>"
      ],
      "text/plain": [
       "       accuracy precision    recall false positive rate true positive rate  \\\n",
       "race                                                                         \n",
       "Black  0.865528  0.455056  0.572438            0.094198           0.572438   \n",
       "White  0.850438  0.815694  0.531159             0.04086           0.531159   \n",
       "\n",
       "      selection rate  \n",
       "race                  \n",
       "Black       0.151974  \n",
       "White        0.16539  "
      ]
     },
     "metadata": {},
     "execution_count": 142
    }
   ],
   "metadata": {}
  },
  {
   "cell_type": "code",
   "execution_count": 136,
   "source": [
    "print('**RANDOM FOREST**\\n', bw_random_forest_results.by_group)\r\n",
    "\r\n",
    "bw_random_forest_results.by_group.plot.bar(\r\n",
    "    subplots=True,\r\n",
    "    layout=[3, 3],\r\n",
    "    legend=False,\r\n",
    "    figsize=[12,8],\r\n",
    "    title=\"Black/White Random Forest\"\r\n",
    ")\r\n",
    "\r\n",
    "print('\\n**GRADIENT BOOSTING**\\n', bw_gradient_boost_results.by_group)\r\n",
    "\r\n",
    "bw_gradient_boost_results.by_group.plot.bar(\r\n",
    "    subplots=True,\r\n",
    "    layout=[3, 3],\r\n",
    "    legend=False,\r\n",
    "    figsize=[12,8],\r\n",
    "    title=\"Black/White Gradient Boosting\"\r\n",
    ")"
   ],
   "outputs": [
    {
     "output_type": "stream",
     "name": "stdout",
     "text": [
      "**RANDOM FOREST**\n",
      "        accuracy precision    recall false positive rate true positive rate  \\\n",
      "race                                                                         \n",
      "Black   0.89349     0.768  0.169611            0.007041           0.169611   \n",
      "White  0.781284  0.978558  0.141982            0.001059           0.141982   \n",
      "\n",
      "      selection rate  \n",
      "race                  \n",
      "Black       0.026681  \n",
      "White       0.036852  \n",
      "\n",
      "**GRADIENT BOOSTING**\n",
      "        accuracy precision    recall false positive rate true positive rate  \\\n",
      "race                                                                         \n",
      "Black  0.865528  0.455056  0.572438            0.094198           0.572438   \n",
      "White  0.850438  0.815694  0.531159             0.04086           0.531159   \n",
      "\n",
      "      selection rate  \n",
      "race                  \n",
      "Black       0.151974  \n",
      "White        0.16539  \n"
     ]
    },
    {
     "output_type": "execute_result",
     "data": {
      "text/plain": [
       "array([[<AxesSubplot:title={'center':'accuracy'}, xlabel='race'>,\n",
       "        <AxesSubplot:title={'center':'precision'}, xlabel='race'>,\n",
       "        <AxesSubplot:title={'center':'recall'}, xlabel='race'>],\n",
       "       [<AxesSubplot:title={'center':'false positive rate'}, xlabel='race'>,\n",
       "        <AxesSubplot:title={'center':'true positive rate'}, xlabel='race'>,\n",
       "        <AxesSubplot:title={'center':'selection rate'}, xlabel='race'>],\n",
       "       [<AxesSubplot:xlabel='race'>, <AxesSubplot:xlabel='race'>,\n",
       "        <AxesSubplot:xlabel='race'>]], dtype=object)"
      ]
     },
     "metadata": {},
     "execution_count": 136
    },
    {
     "output_type": "display_data",
     "data": {
      "image/png": "[encoded data removed]",
      "text/plain": [
       "<Figure size 864x576 with 9 Axes>"
      ]
     },
     "metadata": {
      "needs_background": "light"
     }
    },
    {
     "output_type": "display_data",
     "data": {
      "image/png": "[encoded data removed]",
      "text/plain": [
       "<Figure size 864x576 with 9 Axes>"
      ]
     },
     "metadata": {
      "needs_background": "light"
     }
    }
   ],
   "metadata": {}
  }
 ],
 "metadata": {
  "interpreter": {
   "hash": "e859d2b2c5ec404c80be3ae1107f381ab65c60291df144b2c8070f47769fe782"
  },
  "kernelspec": {
   "name": "python3",
   "display_name": "Python 3.8.8 64-bit ('base': conda)"
  },
  "language_info": {
   "codemirror_mode": {
    "name": "ipython",
    "version": 3
   },
   "file_extension": ".py",
   "mimetype": "text/x-python",
   "name": "python",
   "nbconvert_exporter": "python",
   "pygments_lexer": "ipython3",
   "version": "3.8.8"
  }
 },
 "nbformat": 4,
 "nbformat_minor": 2
}