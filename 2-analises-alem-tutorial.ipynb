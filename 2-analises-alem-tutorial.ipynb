{
 "cells": [
  {
   "cell_type": "markdown",
   "source": [
    "# Análises Além Tutorial\r\n",
    "\r\n",
    "<br>\r\n",
    "\r\n",
    "# Carregando Conjunto de Dados"
   ],
   "metadata": {}
  },
  {
   "cell_type": "code",
   "execution_count": 1,
   "source": [
    "import pandas as pd\r\n",
    "\r\n",
    "dados_balancear = pd.read_csv('dados_balancear.csv', delimiter=',')"
   ],
   "outputs": [],
   "metadata": {}
  },
  {
   "cell_type": "markdown",
   "source": [
    "# Balanceamento de Classes"
   ],
   "metadata": {}
  },
  {
   "cell_type": "code",
   "execution_count": 2,
   "source": [
    "#new_data = x\r\n",
    "#new_data['mais50k'] = y_true\r\n",
    "\r\n",
    "print(dados_balancear['sex'])"
   ],
   "outputs": [
    {
     "output_type": "stream",
     "name": "stdout",
     "text": [
      "0          Male\n",
      "1          Male\n",
      "2          Male\n",
      "3          Male\n",
      "4        Female\n",
      "          ...  \n",
      "48837    Female\n",
      "48838      Male\n",
      "48839    Female\n",
      "48840      Male\n",
      "48841    Female\n",
      "Name: sex, Length: 48842, dtype: object\n"
     ]
    }
   ],
   "metadata": {}
  },
  {
   "cell_type": "markdown",
   "source": [
    "## Oversampling Sexo"
   ],
   "metadata": {}
  },
  {
   "cell_type": "code",
   "execution_count": 3,
   "source": [
    "from imblearn.over_sampling import RandomOverSampler\r\n",
    "\r\n",
    "#criando modelo de oversampling\r\n",
    "over_sampler = RandomOverSampler(random_state=99)"
   ],
   "outputs": [],
   "metadata": {}
  },
  {
   "cell_type": "code",
   "execution_count": 4,
   "source": [
    "#realizando reamostragem oversampling, utilizando o sexo como rótulo para o balanceamento\r\n",
    "x_over, y_over = over_sampler.fit_resample(dados_balancear.drop(['sex'], axis=1), dados_balancear['sex'])"
   ],
   "outputs": [],
   "metadata": {}
  },
  {
   "cell_type": "code",
   "execution_count": 5,
   "source": [
    "#concatenando dataframes gerados pelo over sampler, para recolocar o sexo como variável explicativa e mais50k como variável resposta\r\n",
    "x_over['sex'] = y_over\r\n",
    "dados_over = x_over\r\n",
    "\r\n",
    "dados_over_y = dados_over['mais50k']\r\n",
    "dados_over_x = dados_over.drop(['mais50k'], axis=1)"
   ],
   "outputs": [],
   "metadata": {}
  },
  {
   "cell_type": "code",
   "execution_count": 6,
   "source": [
    "#contagem da realização do oversampling\r\n",
    "dados_over_x['sex'].value_counts()"
   ],
   "outputs": [
    {
     "output_type": "execute_result",
     "data": {
      "text/plain": [
       "Male      32650\n",
       "Female    32650\n",
       "Name: sex, dtype: int64"
      ]
     },
     "metadata": {},
     "execution_count": 6
    }
   ],
   "metadata": {}
  },
  {
   "cell_type": "code",
   "execution_count": 7,
   "source": [
    "#convertendo variáveis categóricas\r\n",
    "dados_over_x_dummies = pd.get_dummies(dados_over_x)"
   ],
   "outputs": [],
   "metadata": {}
  },
  {
   "cell_type": "code",
   "execution_count": 8,
   "source": [
    "#função que executa a classificação justa\r\n",
    "def executa_classificacao(classificador, x, y, atributo_sensivel):\r\n",
    "    paridade_demografica = DemographicParity()\r\n",
    "\r\n",
    "    #criação de um segundo classificador de Árvore de Decisão\r\n",
    "    #classificador = DecisionTreeClassifier(min_samples_leaf=10, max_depth=4)\r\n",
    "\r\n",
    "    mitigator = ExponentiatedGradient(classificador, paridade_demografica)\r\n",
    "\r\n",
    "    #realizando o treino do modelo justo e utilizando o sexo como atributo sensível\r\n",
    "    mitigator.fit(x, y, sensitive_features=atributo_sensivel)\r\n",
    "\r\n",
    "    #previsão dos dados utilizando o modelo justo\r\n",
    "    #y_pred_mitigated = mitigator.predict(x)\r\n",
    "    return mitigator.predict(x)\r\n",
    "\r\n",
    "#função que calcula as métricas agrupadas\r\n",
    "def calcula_metricas(y_true, y_pred, atributo_sensivel):\r\n",
    "    #agrupamento de métricas para cálculo com MetricFrame\r\n",
    "    metricas = {\r\n",
    "        'accuracy': accuracy_score,\r\n",
    "        'precision': precision_score,\r\n",
    "        'recall': recall_score,\r\n",
    "        'false positive rate': false_positive_rate,\r\n",
    "        'true positive rate': true_positive_rate,\r\n",
    "        'selection rate': selection_rate,\r\n",
    "        'count': count\r\n",
    "    }\r\n",
    "\r\n",
    "    return MetricFrame(\r\n",
    "        metrics=metricas,\r\n",
    "        y_true=y_true,\r\n",
    "        y_pred=y_pred,\r\n",
    "        sensitive_features=atributo_sensivel\r\n",
    "    )"
   ],
   "outputs": [],
   "metadata": {}
  },
  {
   "cell_type": "code",
   "execution_count": 9,
   "source": [
    "from fairlearn.metrics import MetricFrame, selection_rate, false_positive_rate, true_positive_rate, count\r\n",
    "from sklearn.metrics import accuracy_score, accuracy_score, precision_score, recall_score\r\n",
    "from sklearn.tree import DecisionTreeClassifier\r\n",
    "from fairlearn.reductions import ExponentiatedGradient, DemographicParity\r\n",
    "\r\n",
    "dados_over_x_dummies, dados_over_y\r\n",
    "\r\n",
    "arvore_decisao = DecisionTreeClassifier(min_samples_leaf=10, max_depth=4)\r\n",
    "\r\n",
    "dados_over_prev = executa_classificacao(arvore_decisao, dados_over_x_dummies, dados_over_y, dados_over_x['sex'])"
   ],
   "outputs": [
    {
     "output_type": "stream",
     "name": "stderr",
     "text": [
      "C:\\Users\\Rodolfo\\AppData\\Roaming\\Python\\Python39\\site-packages\\fairlearn\\reductions\\_moments\\utility_parity.py:251: FutureWarning: Using the level keyword in DataFrame and Series aggregations is deprecated and will be removed in a future version. Use groupby instead. df.sum(level=1) should use df.groupby(level=1).sum().\n",
      "  lambda_event = (lambda_vec[\"+\"] - self.ratio * lambda_vec[\"-\"]).sum(level=_EVENT) / \\\n",
      "C:\\Users\\Rodolfo\\AppData\\Roaming\\Python\\Python39\\site-packages\\fairlearn\\reductions\\_moments\\utility_parity.py:251: FutureWarning: Using the level keyword in DataFrame and Series aggregations is deprecated and will be removed in a future version. Use groupby instead. df.sum(level=1) should use df.groupby(level=1).sum().\n",
      "  lambda_event = (lambda_vec[\"+\"] - self.ratio * lambda_vec[\"-\"]).sum(level=_EVENT) / \\\n",
      "C:\\Users\\Rodolfo\\AppData\\Roaming\\Python\\Python39\\site-packages\\fairlearn\\reductions\\_moments\\utility_parity.py:251: FutureWarning: Using the level keyword in DataFrame and Series aggregations is deprecated and will be removed in a future version. Use groupby instead. df.sum(level=1) should use df.groupby(level=1).sum().\n",
      "  lambda_event = (lambda_vec[\"+\"] - self.ratio * lambda_vec[\"-\"]).sum(level=_EVENT) / \\\n",
      "C:\\Users\\Rodolfo\\AppData\\Roaming\\Python\\Python39\\site-packages\\fairlearn\\reductions\\_moments\\utility_parity.py:251: FutureWarning: Using the level keyword in DataFrame and Series aggregations is deprecated and will be removed in a future version. Use groupby instead. df.sum(level=1) should use df.groupby(level=1).sum().\n",
      "  lambda_event = (lambda_vec[\"+\"] - self.ratio * lambda_vec[\"-\"]).sum(level=_EVENT) / \\\n",
      "C:\\Users\\Rodolfo\\AppData\\Roaming\\Python\\Python39\\site-packages\\fairlearn\\reductions\\_moments\\utility_parity.py:251: FutureWarning: Using the level keyword in DataFrame and Series aggregations is deprecated and will be removed in a future version. Use groupby instead. df.sum(level=1) should use df.groupby(level=1).sum().\n",
      "  lambda_event = (lambda_vec[\"+\"] - self.ratio * lambda_vec[\"-\"]).sum(level=_EVENT) / \\\n",
      "C:\\Users\\Rodolfo\\AppData\\Roaming\\Python\\Python39\\site-packages\\fairlearn\\reductions\\_moments\\utility_parity.py:251: FutureWarning: Using the level keyword in DataFrame and Series aggregations is deprecated and will be removed in a future version. Use groupby instead. df.sum(level=1) should use df.groupby(level=1).sum().\n",
      "  lambda_event = (lambda_vec[\"+\"] - self.ratio * lambda_vec[\"-\"]).sum(level=_EVENT) / \\\n",
      "C:\\Users\\Rodolfo\\AppData\\Roaming\\Python\\Python39\\site-packages\\fairlearn\\reductions\\_moments\\utility_parity.py:251: FutureWarning: Using the level keyword in DataFrame and Series aggregations is deprecated and will be removed in a future version. Use groupby instead. df.sum(level=1) should use df.groupby(level=1).sum().\n",
      "  lambda_event = (lambda_vec[\"+\"] - self.ratio * lambda_vec[\"-\"]).sum(level=_EVENT) / \\\n",
      "C:\\Users\\Rodolfo\\AppData\\Roaming\\Python\\Python39\\site-packages\\fairlearn\\reductions\\_moments\\utility_parity.py:251: FutureWarning: Using the level keyword in DataFrame and Series aggregations is deprecated and will be removed in a future version. Use groupby instead. df.sum(level=1) should use df.groupby(level=1).sum().\n",
      "  lambda_event = (lambda_vec[\"+\"] - self.ratio * lambda_vec[\"-\"]).sum(level=_EVENT) / \\\n",
      "C:\\Users\\Rodolfo\\AppData\\Roaming\\Python\\Python39\\site-packages\\fairlearn\\reductions\\_moments\\utility_parity.py:251: FutureWarning: Using the level keyword in DataFrame and Series aggregations is deprecated and will be removed in a future version. Use groupby instead. df.sum(level=1) should use df.groupby(level=1).sum().\n",
      "  lambda_event = (lambda_vec[\"+\"] - self.ratio * lambda_vec[\"-\"]).sum(level=_EVENT) / \\\n",
      "C:\\Users\\Rodolfo\\AppData\\Roaming\\Python\\Python39\\site-packages\\fairlearn\\reductions\\_moments\\utility_parity.py:251: FutureWarning: Using the level keyword in DataFrame and Series aggregations is deprecated and will be removed in a future version. Use groupby instead. df.sum(level=1) should use df.groupby(level=1).sum().\n",
      "  lambda_event = (lambda_vec[\"+\"] - self.ratio * lambda_vec[\"-\"]).sum(level=_EVENT) / \\\n",
      "C:\\Users\\Rodolfo\\AppData\\Roaming\\Python\\Python39\\site-packages\\fairlearn\\reductions\\_moments\\utility_parity.py:251: FutureWarning: Using the level keyword in DataFrame and Series aggregations is deprecated and will be removed in a future version. Use groupby instead. df.sum(level=1) should use df.groupby(level=1).sum().\n",
      "  lambda_event = (lambda_vec[\"+\"] - self.ratio * lambda_vec[\"-\"]).sum(level=_EVENT) / \\\n",
      "C:\\Users\\Rodolfo\\AppData\\Roaming\\Python\\Python39\\site-packages\\fairlearn\\reductions\\_moments\\utility_parity.py:251: FutureWarning: Using the level keyword in DataFrame and Series aggregations is deprecated and will be removed in a future version. Use groupby instead. df.sum(level=1) should use df.groupby(level=1).sum().\n",
      "  lambda_event = (lambda_vec[\"+\"] - self.ratio * lambda_vec[\"-\"]).sum(level=_EVENT) / \\\n",
      "C:\\Users\\Rodolfo\\AppData\\Roaming\\Python\\Python39\\site-packages\\fairlearn\\reductions\\_moments\\utility_parity.py:251: FutureWarning: Using the level keyword in DataFrame and Series aggregations is deprecated and will be removed in a future version. Use groupby instead. df.sum(level=1) should use df.groupby(level=1).sum().\n",
      "  lambda_event = (lambda_vec[\"+\"] - self.ratio * lambda_vec[\"-\"]).sum(level=_EVENT) / \\\n",
      "C:\\Users\\Rodolfo\\AppData\\Roaming\\Python\\Python39\\site-packages\\fairlearn\\reductions\\_moments\\utility_parity.py:251: FutureWarning: Using the level keyword in DataFrame and Series aggregations is deprecated and will be removed in a future version. Use groupby instead. df.sum(level=1) should use df.groupby(level=1).sum().\n",
      "  lambda_event = (lambda_vec[\"+\"] - self.ratio * lambda_vec[\"-\"]).sum(level=_EVENT) / \\\n",
      "C:\\Users\\Rodolfo\\AppData\\Roaming\\Python\\Python39\\site-packages\\fairlearn\\reductions\\_moments\\utility_parity.py:251: FutureWarning: Using the level keyword in DataFrame and Series aggregations is deprecated and will be removed in a future version. Use groupby instead. df.sum(level=1) should use df.groupby(level=1).sum().\n",
      "  lambda_event = (lambda_vec[\"+\"] - self.ratio * lambda_vec[\"-\"]).sum(level=_EVENT) / \\\n",
      "C:\\Users\\Rodolfo\\AppData\\Roaming\\Python\\Python39\\site-packages\\fairlearn\\reductions\\_moments\\utility_parity.py:251: FutureWarning: Using the level keyword in DataFrame and Series aggregations is deprecated and will be removed in a future version. Use groupby instead. df.sum(level=1) should use df.groupby(level=1).sum().\n",
      "  lambda_event = (lambda_vec[\"+\"] - self.ratio * lambda_vec[\"-\"]).sum(level=_EVENT) / \\\n",
      "C:\\Users\\Rodolfo\\AppData\\Roaming\\Python\\Python39\\site-packages\\fairlearn\\reductions\\_moments\\utility_parity.py:251: FutureWarning: Using the level keyword in DataFrame and Series aggregations is deprecated and will be removed in a future version. Use groupby instead. df.sum(level=1) should use df.groupby(level=1).sum().\n",
      "  lambda_event = (lambda_vec[\"+\"] - self.ratio * lambda_vec[\"-\"]).sum(level=_EVENT) / \\\n",
      "C:\\Users\\Rodolfo\\AppData\\Roaming\\Python\\Python39\\site-packages\\fairlearn\\reductions\\_moments\\utility_parity.py:251: FutureWarning: Using the level keyword in DataFrame and Series aggregations is deprecated and will be removed in a future version. Use groupby instead. df.sum(level=1) should use df.groupby(level=1).sum().\n",
      "  lambda_event = (lambda_vec[\"+\"] - self.ratio * lambda_vec[\"-\"]).sum(level=_EVENT) / \\\n",
      "C:\\Users\\Rodolfo\\AppData\\Roaming\\Python\\Python39\\site-packages\\fairlearn\\reductions\\_moments\\utility_parity.py:251: FutureWarning: Using the level keyword in DataFrame and Series aggregations is deprecated and will be removed in a future version. Use groupby instead. df.sum(level=1) should use df.groupby(level=1).sum().\n",
      "  lambda_event = (lambda_vec[\"+\"] - self.ratio * lambda_vec[\"-\"]).sum(level=_EVENT) / \\\n",
      "C:\\Users\\Rodolfo\\AppData\\Roaming\\Python\\Python39\\site-packages\\fairlearn\\reductions\\_moments\\utility_parity.py:251: FutureWarning: Using the level keyword in DataFrame and Series aggregations is deprecated and will be removed in a future version. Use groupby instead. df.sum(level=1) should use df.groupby(level=1).sum().\n",
      "  lambda_event = (lambda_vec[\"+\"] - self.ratio * lambda_vec[\"-\"]).sum(level=_EVENT) / \\\n",
      "C:\\Users\\Rodolfo\\AppData\\Roaming\\Python\\Python39\\site-packages\\fairlearn\\reductions\\_moments\\utility_parity.py:251: FutureWarning: Using the level keyword in DataFrame and Series aggregations is deprecated and will be removed in a future version. Use groupby instead. df.sum(level=1) should use df.groupby(level=1).sum().\n",
      "  lambda_event = (lambda_vec[\"+\"] - self.ratio * lambda_vec[\"-\"]).sum(level=_EVENT) / \\\n",
      "C:\\Users\\Rodolfo\\AppData\\Roaming\\Python\\Python39\\site-packages\\fairlearn\\reductions\\_moments\\utility_parity.py:251: FutureWarning: Using the level keyword in DataFrame and Series aggregations is deprecated and will be removed in a future version. Use groupby instead. df.sum(level=1) should use df.groupby(level=1).sum().\n",
      "  lambda_event = (lambda_vec[\"+\"] - self.ratio * lambda_vec[\"-\"]).sum(level=_EVENT) / \\\n",
      "C:\\Users\\Rodolfo\\AppData\\Roaming\\Python\\Python39\\site-packages\\fairlearn\\reductions\\_moments\\utility_parity.py:251: FutureWarning: Using the level keyword in DataFrame and Series aggregations is deprecated and will be removed in a future version. Use groupby instead. df.sum(level=1) should use df.groupby(level=1).sum().\n",
      "  lambda_event = (lambda_vec[\"+\"] - self.ratio * lambda_vec[\"-\"]).sum(level=_EVENT) / \\\n"
     ]
    }
   ],
   "metadata": {}
  },
  {
   "cell_type": "code",
   "execution_count": 10,
   "source": [
    "#calcula métricas para os dados com oversampling\r\n",
    "resultado_oversampling = calcula_metricas(dados_over_y, dados_over_prev, dados_over_x['sex'])"
   ],
   "outputs": [],
   "metadata": {}
  },
  {
   "cell_type": "markdown",
   "source": [
    "## Undersampling Sexo"
   ],
   "metadata": {}
  },
  {
   "cell_type": "code",
   "execution_count": 11,
   "source": [
    "from imblearn.under_sampling import RandomUnderSampler\r\n",
    "\r\n",
    "#criando modelo de undersampling\r\n",
    "under_sampler = RandomUnderSampler()\r\n",
    "exit()\r\n",
    "#realizando reamostragem undersampling, utilizando o sexo como rótulo para o balanceamento\r\n",
    "x_under, y_under = under_sampler.fit_resample(dados_balancear.drop(['sex'], axis=1), dados_balancear['sex'])\r\n",
    "\r\n",
    "\r\n",
    "\r\n",
    "#concatenando dataframes gerados pelo under sampler, para recolocar o sexo como variável explicativa e mais50k como variável resposta\r\n",
    "x_under['sex'] = y_under\r\n",
    "dados_under = x_under\r\n",
    "\r\n",
    "dados_under_y = dados_under['mais50k']\r\n",
    "dados_under_x = dados_under.drop(['mais50k'], axis=1)\r\n",
    "\r\n",
    "#contagem da realização do undersampling\r\n",
    "dados_under_x['sex'].value_counts()\r\n",
    "\r\n",
    "#convertendo variáveis categóricas\r\n",
    "#dados_under_x_dummies = pd.get_dummies(dados_under_x)"
   ],
   "outputs": [
    {
     "output_type": "execute_result",
     "data": {
      "text/plain": [
       "Female    16192\n",
       "Male      16192\n",
       "Name: sex, dtype: int64"
      ]
     },
     "metadata": {},
     "execution_count": 11
    }
   ],
   "metadata": {}
  },
  {
   "cell_type": "code",
   "execution_count": null,
   "source": [
    "#realizando reamostragem undersampling, utilizando o sexo como rótulo para o balanceamento\r\n",
    "#x_under, y_under = under_sampler.fit_resample(dados_balancear.drop(['sex'], axis=1), dados_balancear['sex'])\r\n",
    "\r\n",
    "dados_balancear"
   ],
   "outputs": [],
   "metadata": {}
  },
  {
   "cell_type": "code",
   "execution_count": null,
   "source": [
    "exit()\r\n",
    "race = dados.data['race']\r\n",
    "\r\n",
    "race.value_counts().sort_values().plot(kind='barh', title='Quantidade de Indivíduos Étnicos')\r\n",
    "race.value_counts()"
   ],
   "outputs": [
    {
     "output_type": "error",
     "ename": "Error",
     "evalue": "Kernel is dead",
     "traceback": [
      "Error: Kernel is dead",
      "at g._sendKernelShellControl (c:\\Users\\Rodolfo\\.vscode\\extensions\\ms-toolsai.jupyter-2021.8.2041215044\\out\\client\\extension.js:52:1006195)",
      "at g.sendShellMessage (c:\\Users\\Rodolfo\\.vscode\\extensions\\ms-toolsai.jupyter-2021.8.2041215044\\out\\client\\extension.js:52:1005964)",
      "at g.requestExecute (c:\\Users\\Rodolfo\\.vscode\\extensions\\ms-toolsai.jupyter-2021.8.2041215044\\out\\client\\extension.js:52:1008506)",
      "at d.requestExecute (c:\\Users\\Rodolfo\\.vscode\\extensions\\ms-toolsai.jupyter-2021.8.2041215044\\out\\client\\extension.js:37:325680)",
      "at w.requestExecute (c:\\Users\\Rodolfo\\.vscode\\extensions\\ms-toolsai.jupyter-2021.8.2041215044\\out\\client\\extension.js:32:18027)",
      "at w.executeCodeCell (c:\\Users\\Rodolfo\\.vscode\\extensions\\ms-toolsai.jupyter-2021.8.2041215044\\out\\client\\extension.js:52:301076)",
      "at w.execute (c:\\Users\\Rodolfo\\.vscode\\extensions\\ms-toolsai.jupyter-2021.8.2041215044\\out\\client\\extension.js:52:300703)",
      "at w.start (c:\\Users\\Rodolfo\\.vscode\\extensions\\ms-toolsai.jupyter-2021.8.2041215044\\out\\client\\extension.js:52:296367)",
      "at runMicrotasks (<anonymous>)",
      "at processTicksAndRejections (internal/process/task_queues.js:93:5)",
      "at async t.CellExecutionQueue.executeQueuedCells (c:\\Users\\Rodolfo\\.vscode\\extensions\\ms-toolsai.jupyter-2021.8.2041215044\\out\\client\\extension.js:52:311160)",
      "at async t.CellExecutionQueue.start (c:\\Users\\Rodolfo\\.vscode\\extensions\\ms-toolsai.jupyter-2021.8.2041215044\\out\\client\\extension.js:52:310700)"
     ]
    }
   ],
   "metadata": {}
  }
 ],
 "metadata": {
  "orig_nbformat": 4,
  "language_info": {
   "name": "python",
   "version": "3.9.7",
   "mimetype": "text/x-python",
   "codemirror_mode": {
    "name": "ipython",
    "version": 3
   },
   "pygments_lexer": "ipython3",
   "nbconvert_exporter": "python",
   "file_extension": ".py"
  },
  "kernelspec": {
   "name": "python3",
   "display_name": "Python 3.9.7 64-bit"
  },
  "interpreter": {
   "hash": "0ec66bbe782f389edb8615b95e71913b48001538f92dc4d53a6c71a0eff16772"
  }
 },
 "nbformat": 4,
 "nbformat_minor": 2
}