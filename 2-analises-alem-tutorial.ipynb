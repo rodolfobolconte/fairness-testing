{
 "cells": [
  {
   "cell_type": "markdown",
   "source": [
    "# Análises Além Tutorial\n",
    "\n",
    "<br>\n",
    "\n",
    "# Carregando Conjunto de Dados"
   ],
   "metadata": {}
  },
  {
   "cell_type": "code",
   "execution_count": 1,
   "source": [
    "import pandas as pd\r\n",
    "\r\n",
    "dados_balancear = pd.read_csv('dados_balancear.csv', delimiter=',')"
   ],
   "outputs": [],
   "metadata": {}
  },
  {
   "cell_type": "markdown",
   "source": [
    "# Balanceamento de Classes\r\n",
    "\r\n",
    "## Utilizando o sexo como atributo sensível"
   ],
   "metadata": {}
  },
  {
   "cell_type": "markdown",
   "source": [
    "## Oversampling"
   ],
   "metadata": {}
  },
  {
   "cell_type": "code",
   "execution_count": 6,
   "source": [
    "from imblearn.over_sampling import RandomOverSampler\r\n",
    "\r\n",
    "#criando modelo de oversampling\r\n",
    "over_sampler = RandomOverSampler(random_state=99)"
   ],
   "outputs": [],
   "metadata": {}
  },
  {
   "cell_type": "code",
   "execution_count": 7,
   "source": [
    "#realizando reamostragem oversampling, utilizando o sexo como rótulo para o balanceamento\r\n",
    "x_over, y_over = over_sampler.fit_resample(dados_balancear.drop(['sex'], axis=1), dados_balancear['sex'])"
   ],
   "outputs": [],
   "metadata": {}
  },
  {
   "cell_type": "code",
   "execution_count": 8,
   "source": [
    "#concatenando dataframes gerados pelo over sampler, para recolocar o sexo como variável explicativa e mais50k como variável resposta\r\n",
    "x_over['sex'] = y_over\r\n",
    "dados_over = x_over\r\n",
    "\r\n",
    "dados_over_y = dados_over['mais50k']\r\n",
    "dados_over_x = dados_over.drop(['mais50k'], axis=1)"
   ],
   "outputs": [],
   "metadata": {}
  },
  {
   "cell_type": "code",
   "execution_count": 9,
   "source": [
    "#contagem da realização do oversampling\r\n",
    "dados_over_x['sex'].value_counts()"
   ],
   "outputs": [
    {
     "output_type": "execute_result",
     "data": {
      "text/plain": [
       "Female    32650\n",
       "Male      32650\n",
       "Name: sex, dtype: int64"
      ]
     },
     "metadata": {},
     "execution_count": 9
    }
   ],
   "metadata": {}
  },
  {
   "cell_type": "code",
   "execution_count": 10,
   "source": [
    "#convertendo variáveis categóricas\r\n",
    "dados_over_x_dummies = pd.get_dummies(dados_over_x)"
   ],
   "outputs": [],
   "metadata": {}
  },
  {
   "cell_type": "code",
   "execution_count": 12,
   "source": [
    "#função que executa a classificação justa\r\n",
    "def executa_classificacao(classificador, x, y, atributo_sensivel):\r\n",
    "    paridade_demografica = DemographicParity()\r\n",
    "\r\n",
    "    #criação de um segundo classificador de Árvore de Decisão\r\n",
    "    #classificador = DecisionTreeClassifier(min_samples_leaf=10, max_depth=4)\r\n",
    "\r\n",
    "    mitigator = ExponentiatedGradient(classificador, paridade_demografica)\r\n",
    "\r\n",
    "    #realizando o treino do modelo justo e utilizando o sexo como atributo sensível\r\n",
    "    mitigator.fit(x, y, sensitive_features=atributo_sensivel)\r\n",
    "\r\n",
    "    #previsão dos dados utilizando o modelo justo\r\n",
    "    #y_pred_mitigated = mitigator.predict(x)\r\n",
    "    return mitigator.predict(x)\r\n",
    "\r\n",
    "#função que calcula as métricas agrupadas\r\n",
    "def calcula_metricas(y_true, y_pred, atributo_sensivel):\r\n",
    "    #agrupamento de métricas para cálculo com MetricFrame\r\n",
    "    metricas = {\r\n",
    "        'accuracy': accuracy_score,\r\n",
    "        'precision': precision_score,\r\n",
    "        'recall': recall_score,\r\n",
    "        'false positive rate': false_positive_rate,\r\n",
    "        'true positive rate': true_positive_rate,\r\n",
    "        'selection rate': selection_rate,\r\n",
    "        'count': count\r\n",
    "    }\r\n",
    "\r\n",
    "    return MetricFrame(\r\n",
    "        metrics=metricas,\r\n",
    "        y_true=y_true,\r\n",
    "        y_pred=y_pred,\r\n",
    "        sensitive_features=atributo_sensivel\r\n",
    "    )"
   ],
   "outputs": [],
   "metadata": {}
  },
  {
   "cell_type": "code",
   "execution_count": 22,
   "source": [
    "from fairlearn.metrics import MetricFrame, selection_rate, false_positive_rate, true_positive_rate, count\r\n",
    "from sklearn.metrics import accuracy_score, accuracy_score, precision_score, recall_score\r\n",
    "from sklearn.tree import DecisionTreeClassifier\r\n",
    "from fairlearn.reductions import ExponentiatedGradient, DemographicParity\r\n",
    "\r\n",
    "arvore_decisao_oversampling = DecisionTreeClassifier(min_samples_leaf=10, max_depth=4)\r\n",
    "\r\n",
    "dados_over_prev = executa_classificacao(arvore_decisao_oversampling, dados_over_x_dummies, dados_over_y, dados_over_x['sex'])"
   ],
   "outputs": [],
   "metadata": {}
  },
  {
   "cell_type": "code",
   "execution_count": 27,
   "source": [
    "#calcula métricas para os dados com oversampling\r\n",
    "resultado_oversampling = calcula_metricas(dados_over_y, dados_over_prev, dados_over_x['sex'])\r\n",
    "\r\n",
    "print(resultado_oversampling.overall)\r\n",
    "resultado_oversampling.by_group"
   ],
   "outputs": [
    {
     "output_type": "stream",
     "name": "stdout",
     "text": [
      "accuracy               0.844579\n",
      "precision              0.831753\n",
      "recall                 0.306816\n",
      "false positive rate    0.016081\n",
      "true positive rate     0.306816\n",
      "selection rate         0.075911\n",
      "count                     65300\n",
      "dtype: object\n"
     ]
    },
    {
     "output_type": "execute_result",
     "data": {
      "text/html": [
       "<div>\n",
       "<style scoped>\n",
       "    .dataframe tbody tr th:only-of-type {\n",
       "        vertical-align: middle;\n",
       "    }\n",
       "\n",
       "    .dataframe tbody tr th {\n",
       "        vertical-align: top;\n",
       "    }\n",
       "\n",
       "    .dataframe thead th {\n",
       "        text-align: right;\n",
       "    }\n",
       "</style>\n",
       "<table border=\"1\" class=\"dataframe\">\n",
       "  <thead>\n",
       "    <tr style=\"text-align: right;\">\n",
       "      <th></th>\n",
       "      <th>accuracy</th>\n",
       "      <th>precision</th>\n",
       "      <th>recall</th>\n",
       "      <th>false positive rate</th>\n",
       "      <th>true positive rate</th>\n",
       "      <th>selection rate</th>\n",
       "      <th>count</th>\n",
       "    </tr>\n",
       "    <tr>\n",
       "      <th>sex</th>\n",
       "      <th></th>\n",
       "      <th></th>\n",
       "      <th></th>\n",
       "      <th></th>\n",
       "      <th></th>\n",
       "      <th></th>\n",
       "      <th></th>\n",
       "    </tr>\n",
       "  </thead>\n",
       "  <tbody>\n",
       "    <tr>\n",
       "      <th>Female</th>\n",
       "      <td>0.927228</td>\n",
       "      <td>0.763109</td>\n",
       "      <td>0.471307</td>\n",
       "      <td>0.017679</td>\n",
       "      <td>0.471307</td>\n",
       "      <td>0.066585</td>\n",
       "      <td>32650</td>\n",
       "    </tr>\n",
       "    <tr>\n",
       "      <th>Male</th>\n",
       "      <td>0.76193</td>\n",
       "      <td>0.885375</td>\n",
       "      <td>0.248437</td>\n",
       "      <td>0.014033</td>\n",
       "      <td>0.248437</td>\n",
       "      <td>0.085237</td>\n",
       "      <td>32650</td>\n",
       "    </tr>\n",
       "  </tbody>\n",
       "</table>\n",
       "</div>"
      ],
      "text/plain": [
       "        accuracy precision    recall false positive rate true positive rate  \\\n",
       "sex                                                                           \n",
       "Female  0.927228  0.763109  0.471307            0.017679           0.471307   \n",
       "Male     0.76193  0.885375  0.248437            0.014033           0.248437   \n",
       "\n",
       "       selection rate  count  \n",
       "sex                           \n",
       "Female       0.066585  32650  \n",
       "Male         0.085237  32650  "
      ]
     },
     "metadata": {},
     "execution_count": 27
    }
   ],
   "metadata": {}
  },
  {
   "cell_type": "code",
   "execution_count": 29,
   "source": [
    "resultado_oversampling.by_group.plot.bar(\r\n",
    "    subplots=True,\r\n",
    "    layout=[3, 3],\r\n",
    "    legend=False,\r\n",
    "    figsize=[12,8],\r\n",
    "    title=\"Todas as Métricas\"\r\n",
    ")"
   ],
   "outputs": [
    {
     "output_type": "execute_result",
     "data": {
      "text/plain": [
       "array([[<AxesSubplot:title={'center':'accuracy'}, xlabel='sex'>,\n",
       "        <AxesSubplot:title={'center':'precision'}, xlabel='sex'>,\n",
       "        <AxesSubplot:title={'center':'recall'}, xlabel='sex'>],\n",
       "       [<AxesSubplot:title={'center':'false positive rate'}, xlabel='sex'>,\n",
       "        <AxesSubplot:title={'center':'true positive rate'}, xlabel='sex'>,\n",
       "        <AxesSubplot:title={'center':'selection rate'}, xlabel='sex'>],\n",
       "       [<AxesSubplot:title={'center':'count'}, xlabel='sex'>,\n",
       "        <AxesSubplot:xlabel='sex'>, <AxesSubplot:xlabel='sex'>]],\n",
       "      dtype=object)"
      ]
     },
     "metadata": {},
     "execution_count": 29
    },
    {
     "output_type": "display_data",
     "data": {
      "image/png": "[encoded data removed]",
      "text/plain": [
       "<Figure size 864x576 with 9 Axes>"
      ]
     },
     "metadata": {
      "needs_background": "light"
     }
    }
   ],
   "metadata": {}
  },
  {
   "cell_type": "markdown",
   "source": [
    "## Undersampling"
   ],
   "metadata": {}
  },
  {
   "cell_type": "code",
   "execution_count": 16,
   "source": [
    "from imblearn.under_sampling import RandomUnderSampler\r\n",
    "\r\n",
    "#criando modelo de undersampling\r\n",
    "under_sampler = RandomUnderSampler(random_state=99)"
   ],
   "outputs": [],
   "metadata": {}
  },
  {
   "cell_type": "code",
   "execution_count": 17,
   "source": [
    "#realizando reamostragem undersampling, utilizando o sexo como rótulo para o balanceamento\r\n",
    "x_under, y_under = under_sampler.fit_resample(dados_balancear.drop(['sex'], axis=1), dados_balancear['sex'])"
   ],
   "outputs": [],
   "metadata": {}
  },
  {
   "cell_type": "code",
   "execution_count": 18,
   "source": [
    "#concatenando dataframes gerados pelo under sampler, para recolocar o sexo como variável explicativa e mais50k como variável resposta\r\n",
    "x_under['sex'] = y_under\r\n",
    "dados_under = x_under\r\n",
    "\r\n",
    "dados_under_y = dados_under['mais50k']\r\n",
    "dados_under_x = dados_under.drop(['mais50k'], axis=1)"
   ],
   "outputs": [],
   "metadata": {}
  },
  {
   "cell_type": "code",
   "execution_count": 19,
   "source": [
    "#contagem da realização do undersampling\r\n",
    "dados_under_x['sex'].value_counts()"
   ],
   "outputs": [
    {
     "output_type": "execute_result",
     "data": {
      "text/plain": [
       "Male      16192\n",
       "Female    16192\n",
       "Name: sex, dtype: int64"
      ]
     },
     "metadata": {},
     "execution_count": 19
    }
   ],
   "metadata": {}
  },
  {
   "cell_type": "code",
   "execution_count": 20,
   "source": [
    "#convertendo variáveis categóricas\r\n",
    "dados_under_x_dummies = pd.get_dummies(dados_under_x)"
   ],
   "outputs": [],
   "metadata": {}
  },
  {
   "cell_type": "code",
   "execution_count": 26,
   "source": [
    "#criação do classificador de árvore de decisão\r\n",
    "\r\n",
    "arvore_decisao_undersampling = DecisionTreeClassifier(min_samples_leaf=10, max_depth=4)\r\n",
    "\r\n",
    "#execução do treino e previsão do modelo justo\r\n",
    "dados_under_prev = executa_classificacao(arvore_decisao_undersampling, dados_under_x_dummies, dados_under_y, dados_under_x['sex'])"
   ],
   "outputs": [],
   "metadata": {}
  },
  {
   "cell_type": "code",
   "execution_count": 28,
   "source": [
    "resultado_undersampling = calcula_metricas(dados_under_y, dados_under_prev, dados_under_x['sex'])\r\n",
    "\r\n",
    "print(resultado_undersampling.overall)\r\n",
    "resultado_undersampling.by_group"
   ],
   "outputs": [
    {
     "output_type": "stream",
     "name": "stdout",
     "text": [
      "accuracy               0.846498\n",
      "precision              0.719844\n",
      "recall                 0.416292\n",
      "false positive rate    0.041994\n",
      "true positive rate     0.416292\n",
      "selection rate          0.11904\n",
      "count                     32384\n",
      "dtype: object\n"
     ]
    },
    {
     "output_type": "execute_result",
     "data": {
      "text/html": [
       "<div>\n",
       "<style scoped>\n",
       "    .dataframe tbody tr th:only-of-type {\n",
       "        vertical-align: middle;\n",
       "    }\n",
       "\n",
       "    .dataframe tbody tr th {\n",
       "        vertical-align: top;\n",
       "    }\n",
       "\n",
       "    .dataframe thead th {\n",
       "        text-align: right;\n",
       "    }\n",
       "</style>\n",
       "<table border=\"1\" class=\"dataframe\">\n",
       "  <thead>\n",
       "    <tr style=\"text-align: right;\">\n",
       "      <th></th>\n",
       "      <th>accuracy</th>\n",
       "      <th>precision</th>\n",
       "      <th>recall</th>\n",
       "      <th>false positive rate</th>\n",
       "      <th>true positive rate</th>\n",
       "      <th>selection rate</th>\n",
       "      <th>count</th>\n",
       "    </tr>\n",
       "    <tr>\n",
       "      <th>sex</th>\n",
       "      <th></th>\n",
       "      <th></th>\n",
       "      <th></th>\n",
       "      <th></th>\n",
       "      <th></th>\n",
       "      <th></th>\n",
       "      <th></th>\n",
       "    </tr>\n",
       "  </thead>\n",
       "  <tbody>\n",
       "    <tr>\n",
       "      <th>Female</th>\n",
       "      <td>0.919034</td>\n",
       "      <td>0.629525</td>\n",
       "      <td>0.629169</td>\n",
       "      <td>0.045414</td>\n",
       "      <td>0.629169</td>\n",
       "      <td>0.10919</td>\n",
       "      <td>16192</td>\n",
       "    </tr>\n",
       "    <tr>\n",
       "      <th>Male</th>\n",
       "      <td>0.773962</td>\n",
       "      <td>0.796358</td>\n",
       "      <td>0.339391</td>\n",
       "      <td>0.037627</td>\n",
       "      <td>0.339391</td>\n",
       "      <td>0.128891</td>\n",
       "      <td>16192</td>\n",
       "    </tr>\n",
       "  </tbody>\n",
       "</table>\n",
       "</div>"
      ],
      "text/plain": [
       "        accuracy precision    recall false positive rate true positive rate  \\\n",
       "sex                                                                           \n",
       "Female  0.919034  0.629525  0.629169            0.045414           0.629169   \n",
       "Male    0.773962  0.796358  0.339391            0.037627           0.339391   \n",
       "\n",
       "       selection rate  count  \n",
       "sex                           \n",
       "Female        0.10919  16192  \n",
       "Male         0.128891  16192  "
      ]
     },
     "metadata": {},
     "execution_count": 28
    }
   ],
   "metadata": {}
  },
  {
   "cell_type": "code",
   "execution_count": 30,
   "source": [
    "resultado_undersampling.by_group.plot.bar(\r\n",
    "    subplots=True,\r\n",
    "    layout=[3, 3],\r\n",
    "    legend=False,\r\n",
    "    figsize=[12,8],\r\n",
    "    title=\"Todas as Métricas\"\r\n",
    ")"
   ],
   "outputs": [
    {
     "output_type": "execute_result",
     "data": {
      "text/plain": [
       "array([[<AxesSubplot:title={'center':'accuracy'}, xlabel='sex'>,\n",
       "        <AxesSubplot:title={'center':'precision'}, xlabel='sex'>,\n",
       "        <AxesSubplot:title={'center':'recall'}, xlabel='sex'>],\n",
       "       [<AxesSubplot:title={'center':'false positive rate'}, xlabel='sex'>,\n",
       "        <AxesSubplot:title={'center':'true positive rate'}, xlabel='sex'>,\n",
       "        <AxesSubplot:title={'center':'selection rate'}, xlabel='sex'>],\n",
       "       [<AxesSubplot:title={'center':'count'}, xlabel='sex'>,\n",
       "        <AxesSubplot:xlabel='sex'>, <AxesSubplot:xlabel='sex'>]],\n",
       "      dtype=object)"
      ]
     },
     "metadata": {},
     "execution_count": 30
    },
    {
     "output_type": "display_data",
     "data": {
      "image/png": "[encoded data removed]",
      "text/plain": [
       "<Figure size 864x576 with 9 Axes>"
      ]
     },
     "metadata": {
      "needs_background": "light"
     }
    }
   ],
   "metadata": {}
  },
  {
   "cell_type": "markdown",
   "source": [
    "# Atributo Sensível: Raça"
   ],
   "metadata": {}
  },
  {
   "cell_type": "code",
   "execution_count": 39,
   "source": [
    "dados_balancear['race'].value_counts().sort_values().plot(kind='barh', title='Quantidade de Indivíduos Étnicos')\r\n",
    "race.value_counts()"
   ],
   "outputs": [
    {
     "output_type": "execute_result",
     "data": {
      "text/plain": [
       "White                 41762\n",
       "Black                  4685\n",
       "Asian-Pac-Islander     1519\n",
       "Amer-Indian-Eskimo      470\n",
       "Other                   406\n",
       "Name: race, dtype: int64"
      ]
     },
     "metadata": {},
     "execution_count": 39
    },
    {
     "output_type": "display_data",
     "data": {
      "image/png": "[encoded data removed]",
      "text/plain": [
       "<Figure size 432x288 with 1 Axes>"
      ]
     },
     "metadata": {
      "needs_background": "light"
     }
    }
   ],
   "metadata": {}
  },
  {
   "cell_type": "code",
   "execution_count": 37,
   "source": [
    "#separando os dados para execução do modelo\r\n",
    "raca_dados_x = dados_balancear.drop(['mais50k'], axis=1)\r\n",
    "raca_dados_x_dummies = pd.get_dummies(raca_dados_x)\r\n",
    "\r\n",
    "raca_dados_y = dados_balancear['mais50k']"
   ],
   "outputs": [],
   "metadata": {}
  },
  {
   "cell_type": "code",
   "execution_count": 41,
   "source": [
    "#criando modelo de previsão\r\n",
    "raca_modelo = DecisionTreeClassifier(min_samples_leaf=10, max_depth=4)\r\n",
    "\r\n",
    "raca_prev = executa_classificacao(raca_modelo, raca_dados_x_dummies, raca_dados_y, raca_dados_x['race'])"
   ],
   "outputs": [],
   "metadata": {}
  },
  {
   "cell_type": "code",
   "execution_count": 42,
   "source": [
    "raca_resultados = calcula_metricas(raca_dados_y, raca_prev, raca_dados_x['race'])\r\n",
    "\r\n",
    "print(raca_resultados.overall)\r\n",
    "raca_resultados.by_group"
   ],
   "outputs": [
    {
     "output_type": "stream",
     "name": "stdout",
     "text": [
      "accuracy               0.837476\n",
      "precision              0.720296\n",
      "recall                 0.524429\n",
      "false positive rate    0.064056\n",
      "true positive rate     0.524429\n",
      "selection rate         0.174215\n",
      "count                     48842\n",
      "dtype: object\n"
     ]
    },
    {
     "output_type": "execute_result",
     "data": {
      "text/html": [
       "<div>\n",
       "<style scoped>\n",
       "    .dataframe tbody tr th:only-of-type {\n",
       "        vertical-align: middle;\n",
       "    }\n",
       "\n",
       "    .dataframe tbody tr th {\n",
       "        vertical-align: top;\n",
       "    }\n",
       "\n",
       "    .dataframe thead th {\n",
       "        text-align: right;\n",
       "    }\n",
       "</style>\n",
       "<table border=\"1\" class=\"dataframe\">\n",
       "  <thead>\n",
       "    <tr style=\"text-align: right;\">\n",
       "      <th></th>\n",
       "      <th>accuracy</th>\n",
       "      <th>precision</th>\n",
       "      <th>recall</th>\n",
       "      <th>false positive rate</th>\n",
       "      <th>true positive rate</th>\n",
       "      <th>selection rate</th>\n",
       "      <th>count</th>\n",
       "    </tr>\n",
       "    <tr>\n",
       "      <th>race</th>\n",
       "      <th></th>\n",
       "      <th></th>\n",
       "      <th></th>\n",
       "      <th></th>\n",
       "      <th></th>\n",
       "      <th></th>\n",
       "      <th></th>\n",
       "    </tr>\n",
       "  </thead>\n",
       "  <tbody>\n",
       "    <tr>\n",
       "      <th>Amer-Indian-Eskimo</th>\n",
       "      <td>0.8</td>\n",
       "      <td>0.270588</td>\n",
       "      <td>0.418182</td>\n",
       "      <td>0.149398</td>\n",
       "      <td>0.418182</td>\n",
       "      <td>0.180851</td>\n",
       "      <td>470</td>\n",
       "    </tr>\n",
       "    <tr>\n",
       "      <th>Asian-Pac-Islander</th>\n",
       "      <td>0.788677</td>\n",
       "      <td>0.662963</td>\n",
       "      <td>0.437653</td>\n",
       "      <td>0.081982</td>\n",
       "      <td>0.437653</td>\n",
       "      <td>0.177749</td>\n",
       "      <td>1519</td>\n",
       "    </tr>\n",
       "    <tr>\n",
       "      <th>Black</th>\n",
       "      <td>0.865315</td>\n",
       "      <td>0.458065</td>\n",
       "      <td>0.627208</td>\n",
       "      <td>0.101966</td>\n",
       "      <td>0.627208</td>\n",
       "      <td>0.165422</td>\n",
       "      <td>4685</td>\n",
       "    </tr>\n",
       "    <tr>\n",
       "      <th>Other</th>\n",
       "      <td>0.815271</td>\n",
       "      <td>0.307692</td>\n",
       "      <td>0.4</td>\n",
       "      <td>0.126404</td>\n",
       "      <td>0.4</td>\n",
       "      <td>0.160099</td>\n",
       "      <td>406</td>\n",
       "    </tr>\n",
       "    <tr>\n",
       "      <th>White</th>\n",
       "      <td>0.836765</td>\n",
       "      <td>0.759092</td>\n",
       "      <td>0.523428</td>\n",
       "      <td>0.056556</td>\n",
       "      <td>0.523428</td>\n",
       "      <td>0.175135</td>\n",
       "      <td>41762</td>\n",
       "    </tr>\n",
       "  </tbody>\n",
       "</table>\n",
       "</div>"
      ],
      "text/plain": [
       "                    accuracy precision    recall false positive rate  \\\n",
       "race                                                                   \n",
       "Amer-Indian-Eskimo       0.8  0.270588  0.418182            0.149398   \n",
       "Asian-Pac-Islander  0.788677  0.662963  0.437653            0.081982   \n",
       "Black               0.865315  0.458065  0.627208            0.101966   \n",
       "Other               0.815271  0.307692       0.4            0.126404   \n",
       "White               0.836765  0.759092  0.523428            0.056556   \n",
       "\n",
       "                   true positive rate selection rate  count  \n",
       "race                                                         \n",
       "Amer-Indian-Eskimo           0.418182       0.180851    470  \n",
       "Asian-Pac-Islander           0.437653       0.177749   1519  \n",
       "Black                        0.627208       0.165422   4685  \n",
       "Other                             0.4       0.160099    406  \n",
       "White                        0.523428       0.175135  41762  "
      ]
     },
     "metadata": {},
     "execution_count": 42
    }
   ],
   "metadata": {}
  },
  {
   "cell_type": "code",
   "execution_count": 43,
   "source": [
    "raca_resultados.by_group.plot.bar(\r\n",
    "    subplots=True,\r\n",
    "    layout=[3, 3],\r\n",
    "    legend=False,\r\n",
    "    figsize=[12,8],\r\n",
    "    title=\"Todas as Métricas\"\r\n",
    ")"
   ],
   "outputs": [
    {
     "output_type": "execute_result",
     "data": {
      "text/plain": [
       "array([[<AxesSubplot:title={'center':'accuracy'}, xlabel='race'>,\n",
       "        <AxesSubplot:title={'center':'precision'}, xlabel='race'>,\n",
       "        <AxesSubplot:title={'center':'recall'}, xlabel='race'>],\n",
       "       [<AxesSubplot:title={'center':'false positive rate'}, xlabel='race'>,\n",
       "        <AxesSubplot:title={'center':'true positive rate'}, xlabel='race'>,\n",
       "        <AxesSubplot:title={'center':'selection rate'}, xlabel='race'>],\n",
       "       [<AxesSubplot:title={'center':'count'}, xlabel='race'>,\n",
       "        <AxesSubplot:xlabel='race'>, <AxesSubplot:xlabel='race'>]],\n",
       "      dtype=object)"
      ]
     },
     "metadata": {},
     "execution_count": 43
    },
    {
     "output_type": "display_data",
     "data": {
      "image/png": "[encoded data removed]",
      "text/plain": [
       "<Figure size 864x576 with 9 Axes>"
      ]
     },
     "metadata": {
      "needs_background": "light"
     }
    }
   ],
   "metadata": {}
  }
 ],
 "metadata": {
  "interpreter": {
   "hash": "e859d2b2c5ec404c80be3ae1107f381ab65c60291df144b2c8070f47769fe782"
  },
  "kernelspec": {
   "name": "python3",
   "display_name": "Python 3.8.8 64-bit ('base': conda)"
  },
  "language_info": {
   "codemirror_mode": {
    "name": "ipython",
    "version": 3
   },
   "file_extension": ".py",
   "mimetype": "text/x-python",
   "name": "python",
   "nbconvert_exporter": "python",
   "pygments_lexer": "ipython3",
   "version": "3.8.8"
  }
 },
 "nbformat": 4,
 "nbformat_minor": 2
}