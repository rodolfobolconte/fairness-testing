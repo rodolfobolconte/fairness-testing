{
 "cells": [
  {
   "cell_type": "markdown",
   "metadata": {},
   "source": [
    "# Imports"
   ]
  },
  {
   "cell_type": "code",
   "execution_count": null,
   "metadata": {},
   "outputs": [],
   "source": [
    "import numpy as np\n",
    "import pandas as pd\n",
    "from scipy import stats"
   ]
  },
  {
   "cell_type": "markdown",
   "metadata": {},
   "source": [
    "# Pré-Processamento do Dataset\n",
    "\n",
    "Utilizando [função](https://docs.responsibly.ai/_modules/responsibly/dataset/compas.html#COMPASDataset) de pré-processamento do pacote responsibly"
   ]
  },
  {
   "cell_type": "code",
   "execution_count": null,
   "metadata": {},
   "outputs": [],
   "source": [
    "# load of the dataset\n",
    "#ds = pd.read_csv(\"../datasets/compas/cox-violent-parsed.csv\")\n",
    "\n",
    "# export the dataset to csv file\n",
    "#ds.to_csv('dataset.csv', index=False, encoding='utf8')\n",
    "\n",
    "def preProcess(ds):\n",
    "    # filter row of:\n",
    "    # screening arrest between and -30 and 30\n",
    "    # without recid information (-1)\n",
    "    # charge degree other than O\n",
    "    # score text not empty\n",
    "    ds = ds[(ds['days_b_screening_arrest'] <= 30) & (ds['days_b_screening_arrest'] >= -30) & (ds['is_recid'] != -1) & (ds['c_charge_degree'] != 'O') & (ds['score_text'] != 'N/A')]\n",
    "\n",
    "    # convert values of jail in and jail out to date/time format\n",
    "    ds['c_jail_out'] = pd.to_datetime(ds['c_jail_out'])\n",
    "    ds['c_jail_in'] = pd.to_datetime(ds['c_jail_in'])\n",
    "    # calculate the prison days\n",
    "    ds['length_of_stay'] = (ds['c_jail_out'] - ds['c_jail_in'])\n",
    "\n",
    "    # classificate medium and high score like highscore\n",
    "    ds['score_factor'] = np.where(ds['score_text'] != 'Low', 'HighScore', 'LowScore')\n",
    "    # create the prediction values, highscore is 1 and lowscore is 0\n",
    "    ds['y_pred'] = (ds['score_factor'] == 'HighScore')\n",
    "\n",
    "    return ds\n",
    "\n",
    "#ds = preProcess(ds)\n",
    "\n",
    "# export the dataset pre processed to csv file\n",
    "#ds.to_csv('dataset-pre-processed.csv', index=False, encoding='utf8')"
   ]
  },
  {
   "cell_type": "markdown",
   "metadata": {},
   "source": [
    "# Carregamento do Dataset Pré-Processado"
   ]
  },
  {
   "cell_type": "code",
   "execution_count": null,
   "metadata": {},
   "outputs": [],
   "source": [
    "ds = pd.read_csv(\"dataset-pre-processed.csv\")\n",
    "\n",
    "#drop features not importants to prediction\n",
    "#ds.drop(ds[['id', 'name', 'first', 'last', 'compas_screening_date', 'dob', 'c_jail_in', 'c_jail_out', 'c_case_number', 'c_offense_date', 'c_arrest_date', 'is_recid', 'r_case_number', 'r_offense_date', 'r_jail_in', 'r_jail_out', 'violent_recid', 'vr_case_number', 'vr_offense_date', 'type_of_assessment', 'decile_score.1', 'score_text', 'screening_date', 'v_type_of_assessment', 'v_screening_date', 'in_custody', 'out_custody', 'priors_count.1', 'y_pred']], axis=1, inplace=True)\n",
    "\n",
    "# data features to train and test models\n",
    "data_x = ds[['sex', 'age', 'age_cat', 'race', 'juv_fel_count', 'decile_score', 'juv_misd_count', 'juv_other_count', 'priors_count', 'days_b_screening_arrest', 'c_charge_degree', 'length_of_stay']]\n",
    "\n",
    "label = ds['is_recid']\n",
    "prev = ds['y_pred']\n",
    "\n",
    "# interessante fazer um tratamento das datas de custódia, calcular os dias talvez\n",
    "# tratar a coluna length_of_stay"
   ]
  },
  {
   "cell_type": "code",
   "execution_count": null,
   "metadata": {},
   "outputs": [],
   "source": [
    "for i in range(len(ds)):\n",
    "    if ds.loc[i]['is_recid'] != ds.loc[i]['y_pred']:\n",
    "        print(i, ds.loc[i]['is_recid'], ds.loc[i]['y_pred'])\n",
    "\n",
    "# for i in range(len(ds)):\n",
    "#     print(i, ds.loc[i]['event'], ds.loc[i]['y_pred'])"
   ]
  },
  {
   "cell_type": "code",
   "execution_count": null,
   "metadata": {},
   "outputs": [],
   "source": [
    "print(ds['age_cat'].value_counts().sort_values().to_string())\n",
    "\n",
    "# for i in range(len(ds)):\n",
    "#     if str(ds.loc[i]['violent_recid']) != 'nan':\n",
    "#         print(i, ds.loc[i]['violent_recid'])"
   ]
  },
  {
   "cell_type": "markdown",
   "metadata": {},
   "source": [
    "## Divisão do Dataset para Treino e Teste"
   ]
  },
  {
   "cell_type": "code",
   "execution_count": null,
   "metadata": {},
   "outputs": [],
   "source": [
    "print(len(ds))\n",
    "\n",
    "qtd70 = (len(ds) * 70) // 100\n",
    "\n",
    "train = ds.loc[:qtd70]\n",
    "test = ds.loc[qtd70:]\n",
    "\n",
    "print(len(train))\n",
    "print(len(test))"
   ]
  },
  {
   "cell_type": "markdown",
   "metadata": {},
   "source": [
    "# Carregamento e Execução de Modelos"
   ]
  },
  {
   "cell_type": "code",
   "execution_count": null,
   "metadata": {},
   "outputs": [],
   "source": [
    "from sklearn.ensemble import RandomForestClassifier, GradientBoostingClassifier\n",
    "\n",
    "random_forest = RandomForestClassifier()\n",
    "gradient_boost = GradientBoostingClassifier()\n",
    "\n",
    "#random_forest.fit(ds)\n",
    "\n"
   ]
  }
 ],
 "metadata": {
  "interpreter": {
   "hash": "e859d2b2c5ec404c80be3ae1107f381ab65c60291df144b2c8070f47769fe782"
  },
  "kernelspec": {
   "display_name": "Python 3.8.8 64-bit ('base': conda)",
   "name": "python3"
  },
  "language_info": {
   "codemirror_mode": {
    "name": "ipython",
    "version": 3
   },
   "file_extension": ".py",
   "mimetype": "text/x-python",
   "name": "python",
   "nbconvert_exporter": "python",
   "pygments_lexer": "ipython3",
   "version": "3.8.0"
  },
  "orig_nbformat": 4
 },
 "nbformat": 4,
 "nbformat_minor": 2
}
