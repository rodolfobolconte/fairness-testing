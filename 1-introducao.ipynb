{
 "cells": [
  {
   "cell_type": "markdown",
   "source": [
    "# Introdução ao Fairlearn\r\n",
    "## Link: [https://fairlearn.org/v0.7.0/quickstart.html]()\r\n",
    "\r\n",
    "<br>\r\n",
    "\r\n",
    "# Conjunto de Dados\r\n",
    "\r\n",
    "### [Census Income](https://archive.ics.uci.edu/ml/datasets/Adult), se os indivíduos ultrapassam a receita de 50K dolares por ano.\r\n",
    "\r\n",
    "### 48842 indivíduos: Feminino (16192) e Masculino (32650)\r\n",
    "\r\n",
    "### O sexo é a variável sensível da execução do tutorial!"
   ],
   "metadata": {}
  },
  {
   "cell_type": "code",
   "execution_count": 1,
   "source": [
    "import numpy as np\r\n",
    "import pandas as pd\r\n",
    "import matplotlib.pyplot as plt\r\n",
    "from sklearn.datasets import fetch_openml"
   ],
   "outputs": [],
   "metadata": {}
  },
  {
   "cell_type": "code",
   "execution_count": 2,
   "source": [
    "#carregamento dos dados\r\n",
    "dados = fetch_openml(data_id=1590, as_frame=True)\r\n",
    "\r\n",
    "#conversão de variáveis\r\n",
    "x = pd.get_dummies(dados.data)\r\n",
    "\r\n",
    "#pegando os rotulos dos dados (ganhos de 50K) localizados na variável target do dataframe\r\n",
    "y_true = (dados.target=='>50K') * 1\r\n",
    "\r\n",
    "#variável somente com o sexo dos indivíduos do conjunto\r\n",
    "sex = dados.data['sex']\r\n",
    "sex.value_counts()"
   ],
   "outputs": [
    {
     "output_type": "execute_result",
     "data": {
      "text/plain": [
       "Male      32650\n",
       "Female    16192\n",
       "Name: sex, dtype: int64"
      ]
     },
     "metadata": {},
     "execution_count": 2
    }
   ],
   "metadata": {}
  },
  {
   "cell_type": "code",
   "execution_count": 3,
   "source": [
    "dados.feature_names"
   ],
   "outputs": [
    {
     "output_type": "execute_result",
     "data": {
      "text/plain": [
       "['age',\n",
       " 'workclass',\n",
       " 'fnlwgt',\n",
       " 'education',\n",
       " 'education-num',\n",
       " 'marital-status',\n",
       " 'occupation',\n",
       " 'relationship',\n",
       " 'race',\n",
       " 'sex',\n",
       " 'capital-gain',\n",
       " 'capital-loss',\n",
       " 'hours-per-week',\n",
       " 'native-country']"
      ]
     },
     "metadata": {},
     "execution_count": 3
    }
   ],
   "metadata": {}
  },
  {
   "cell_type": "code",
   "execution_count": 4,
   "source": [
    "sex.value_counts().sort_values().plot(kind='barh', title='Quantidade de Indivíduos')"
   ],
   "outputs": [
    {
     "output_type": "execute_result",
     "data": {
      "text/plain": [
       "<AxesSubplot:title={'center':'Quantidade de Indivíduos'}>"
      ]
     },
     "metadata": {},
     "execution_count": 4
    },
    {
     "output_type": "display_data",
     "data": {
      "image/png": "[encoded data removed]",
      "text/plain": [
       "<Figure size 432x288 with 1 Axes>"
      ]
     },
     "metadata": {
      "needs_background": "light"
     }
    }
   ],
   "metadata": {}
  },
  {
   "cell_type": "markdown",
   "source": [
    "# Avaliando métricas relacionadas à Fairness\r\n",
    "\r\n",
    "### O Fairlearn fornece métricas relacionadas à justiça que podem ser comparadas entre grupos e para a população em geral. Usando as definições de métricas existentes do scikit-learn, podemos avaliar as métricas para subgrupos dentro dos dados"
   ],
   "metadata": {}
  },
  {
   "cell_type": "code",
   "execution_count": 5,
   "source": [
    "from fairlearn.metrics import MetricFrame\r\n",
    "from sklearn.metrics import accuracy_score, accuracy_score, precision_score, recall_score\r\n",
    "from sklearn.tree import DecisionTreeClassifier"
   ],
   "outputs": [],
   "metadata": {}
  },
  {
   "cell_type": "code",
   "execution_count": 6,
   "source": [
    "#criação, treino e previsão do classificador de árvore de decisão\r\n",
    "classificador = DecisionTreeClassifier(min_samples_leaf=10, max_depth=4)\r\n",
    "\r\n",
    "classificador.fit(x, y_true)\r\n",
    "\r\n",
    "y_pred = classificador.predict(x)\r\n",
    "\r\n",
    "accuracy_score(y_true, y_pred)"
   ],
   "outputs": [
    {
     "output_type": "execute_result",
     "data": {
      "text/plain": [
       "0.8443552680070431"
      ]
     },
     "metadata": {},
     "execution_count": 6
    }
   ],
   "metadata": {}
  },
  {
   "cell_type": "code",
   "execution_count": 7,
   "source": [
    "#utilizando fairlearn para calcular acurácia\r\n",
    "#função de valores métricos desagregados\r\n",
    "acc = MetricFrame(metrics=accuracy_score, y_true=y_true, y_pred=y_pred, sensitive_features=sex)\r\n",
    "\r\n",
    "#acurácia para todos os dados do conjunto, a mesma quando utilizando apenas accuracy_score()\r\n",
    "print(acc.overall, '\\n')\r\n",
    "#acurácia calculada para cada classe dos atributos sensíveis passados, nesse caso o sexo\r\n",
    "print(acc.by_group)"
   ],
   "outputs": [
    {
     "output_type": "stream",
     "name": "stdout",
     "text": [
      "0.8443552680070431 \n",
      "\n",
      "sex\n",
      "Female    0.925148\n",
      "Male      0.804288\n",
      "Name: accuracy_score, dtype: object\n"
     ]
    }
   ],
   "metadata": {}
  },
  {
   "cell_type": "code",
   "execution_count": 8,
   "source": [
    "from fairlearn.metrics import selection_rate\r\n",
    "#selection rate (taxa de seleção): porcentagem da população que tem '1' como rótulo\r\n",
    "\r\n",
    "sr = MetricFrame(metrics=selection_rate, y_true=y_true, y_pred=y_pred, sensitive_features=sex)\r\n",
    "print(sr.overall)\r\n",
    "print(sr.by_group)"
   ],
   "outputs": [
    {
     "output_type": "stream",
     "name": "stdout",
     "text": [
      "0.16385487899758405\n",
      "sex\n",
      "Female     0.06355\n",
      "Male      0.213599\n",
      "Name: selection_rate, dtype: object\n"
     ]
    }
   ],
   "metadata": {}
  },
  {
   "cell_type": "code",
   "execution_count": 9,
   "source": [
    "from fairlearn.metrics import false_positive_rate, true_positive_rate, count\r\n",
    "\r\n",
    "#agrupamento de métricas para cálculo com MetricFrame\r\n",
    "metrics = {\r\n",
    "    'accuracy': accuracy_score,\r\n",
    "    'precision': precision_score,\r\n",
    "    'recall': recall_score,\r\n",
    "    'false positive rate': false_positive_rate,\r\n",
    "    'true positive rate': true_positive_rate,\r\n",
    "    'selection rate': selection_rate,\r\n",
    "    'count': count\r\n",
    "}\r\n",
    "\r\n",
    "metric_frame = MetricFrame(\r\n",
    "    metrics=metrics,\r\n",
    "    y_true=y_true,\r\n",
    "    y_pred=y_pred,\r\n",
    "    sensitive_features=sex\r\n",
    ")\r\n",
    "\r\n",
    "metric_frame.by_group.plot.bar(\r\n",
    "    subplots=True,\r\n",
    "    layout=[3, 3],\r\n",
    "    legend=False,\r\n",
    "    figsize=[12,8],\r\n",
    "    title=\"Todas as Métricas\"\r\n",
    ")\r\n",
    "\r\n",
    "metric_frame.by_group"
   ],
   "outputs": [
    {
     "output_type": "execute_result",
     "data": {
      "text/html": [
       "<div>\n",
       "<style scoped>\n",
       "    .dataframe tbody tr th:only-of-type {\n",
       "        vertical-align: middle;\n",
       "    }\n",
       "\n",
       "    .dataframe tbody tr th {\n",
       "        vertical-align: top;\n",
       "    }\n",
       "\n",
       "    .dataframe thead th {\n",
       "        text-align: right;\n",
       "    }\n",
       "</style>\n",
       "<table border=\"1\" class=\"dataframe\">\n",
       "  <thead>\n",
       "    <tr style=\"text-align: right;\">\n",
       "      <th></th>\n",
       "      <th>accuracy</th>\n",
       "      <th>precision</th>\n",
       "      <th>recall</th>\n",
       "      <th>false positive rate</th>\n",
       "      <th>true positive rate</th>\n",
       "      <th>selection rate</th>\n",
       "      <th>count</th>\n",
       "    </tr>\n",
       "    <tr>\n",
       "      <th>sex</th>\n",
       "      <th></th>\n",
       "      <th></th>\n",
       "      <th></th>\n",
       "      <th></th>\n",
       "      <th></th>\n",
       "      <th></th>\n",
       "      <th></th>\n",
       "    </tr>\n",
       "  </thead>\n",
       "  <tbody>\n",
       "    <tr>\n",
       "      <th>Female</th>\n",
       "      <td>0.925148</td>\n",
       "      <td>0.770651</td>\n",
       "      <td>0.448276</td>\n",
       "      <td>0.016363</td>\n",
       "      <td>0.448276</td>\n",
       "      <td>0.06355</td>\n",
       "      <td>16192</td>\n",
       "    </tr>\n",
       "    <tr>\n",
       "      <th>Male</th>\n",
       "      <td>0.804288</td>\n",
       "      <td>0.752939</td>\n",
       "      <td>0.529441</td>\n",
       "      <td>0.075796</td>\n",
       "      <td>0.529441</td>\n",
       "      <td>0.213599</td>\n",
       "      <td>32650</td>\n",
       "    </tr>\n",
       "  </tbody>\n",
       "</table>\n",
       "</div>"
      ],
      "text/plain": [
       "        accuracy precision    recall false positive rate true positive rate  \\\n",
       "sex                                                                           \n",
       "Female  0.925148  0.770651  0.448276            0.016363           0.448276   \n",
       "Male    0.804288  0.752939  0.529441            0.075796           0.529441   \n",
       "\n",
       "       selection rate  count  \n",
       "sex                           \n",
       "Female        0.06355  16192  \n",
       "Male         0.213599  32650  "
      ]
     },
     "metadata": {},
     "execution_count": 9
    },
    {
     "output_type": "display_data",
     "data": {
      "image/png": "[encoded data removed]",
      "text/plain": [
       "<Figure size 864x576 with 9 Axes>"
      ]
     },
     "metadata": {
      "needs_background": "light"
     }
    }
   ],
   "metadata": {}
  },
  {
   "cell_type": "markdown",
   "source": [
    "# Atenuando a Disparidade\r\n",
    "\r\n",
    "### Se observarmos disparidades entre grupos, podemos querer criar um novo modelo enquanto especificamos uma restrição de justiça apropriada. Observe que a escolha das restrições de imparcialidade é crucial para o modelo resultante e varia com base no contexto do aplicativo.\r\n",
    "\r\n",
    "### Se a taxa de seleção for altamente relevante para a justiça neste exemplo inventado, podemos tentar mitigar a disparidade observada usando a restrição de justiça correspondente chamada Paridade Demográfica. A técnica de mitigação de Gradiente Exponenciado usada se encaixa no classificador fornecido usando a Paridade Demográfica como objetivo, levando a uma diferença muito reduzida na taxa de seleção"
   ],
   "metadata": {}
  },
  {
   "cell_type": "code",
   "execution_count": 10,
   "source": [
    "#utilizando paridade demográfica para uma classificação mais justa\r\n",
    "from fairlearn.reductions import ExponentiatedGradient, DemographicParity\r\n",
    "np.random.seed(0) #resultados consistentes para o ExponentiatedGradient"
   ],
   "outputs": [],
   "metadata": {}
  },
  {
   "cell_type": "markdown",
   "source": [
    "### Implementação da Paridade Demográfica, em que classificador h(X) satisfaz paridade demográfica se: P[h(X)=1 | A=a] = P[h(X)=1] Va"
   ],
   "metadata": {}
  },
  {
   "cell_type": "code",
   "execution_count": 11,
   "source": [
    "paridade_demografica = DemographicParity()\r\n",
    "\r\n",
    "#criação de um segundo classificador de Árvore de Decisão\r\n",
    "classificador2 = DecisionTreeClassifier(min_samples_leaf=10, max_depth=4)"
   ],
   "outputs": [],
   "metadata": {}
  },
  {
   "cell_type": "markdown",
   "source": [
    "### O `ExponentiatedGradient` é um estimador que reduz a classificação justa a uma sequência de problemas de classificação sensíveis ao custo, em que as soluções geral um classificador aleatório com o menor erro (empírico) sujeito às restrições desejadas. [Artigo](https://arxiv.org/abs/1803.02453) do estimador"
   ],
   "metadata": {}
  },
  {
   "cell_type": "code",
   "execution_count": 12,
   "source": [
    "mitigator = ExponentiatedGradient(classificador2, paridade_demografica)\r\n",
    "\r\n",
    "#realizando o treino do modelo justo e utilizando o sexo como atributo sensível\r\n",
    "mitigator.fit(x, y_true, sensitive_features=sex)\r\n",
    "\r\n",
    "#previsão dos dados utilizando o modelo justo\r\n",
    "y_pred_mitigated = mitigator.predict(x)"
   ],
   "outputs": [
    {
     "output_type": "stream",
     "name": "stderr",
     "text": [
      "C:\\Users\\Rodolfo\\AppData\\Roaming\\Python\\Python39\\site-packages\\fairlearn\\reductions\\_moments\\utility_parity.py:251: FutureWarning: Using the level keyword in DataFrame and Series aggregations is deprecated and will be removed in a future version. Use groupby instead. df.sum(level=1) should use df.groupby(level=1).sum().\n",
      "  lambda_event = (lambda_vec[\"+\"] - self.ratio * lambda_vec[\"-\"]).sum(level=_EVENT) / \\\n",
      "C:\\Users\\Rodolfo\\AppData\\Roaming\\Python\\Python39\\site-packages\\fairlearn\\reductions\\_moments\\utility_parity.py:251: FutureWarning: Using the level keyword in DataFrame and Series aggregations is deprecated and will be removed in a future version. Use groupby instead. df.sum(level=1) should use df.groupby(level=1).sum().\n",
      "  lambda_event = (lambda_vec[\"+\"] - self.ratio * lambda_vec[\"-\"]).sum(level=_EVENT) / \\\n",
      "C:\\Users\\Rodolfo\\AppData\\Roaming\\Python\\Python39\\site-packages\\fairlearn\\reductions\\_moments\\utility_parity.py:251: FutureWarning: Using the level keyword in DataFrame and Series aggregations is deprecated and will be removed in a future version. Use groupby instead. df.sum(level=1) should use df.groupby(level=1).sum().\n",
      "  lambda_event = (lambda_vec[\"+\"] - self.ratio * lambda_vec[\"-\"]).sum(level=_EVENT) / \\\n",
      "C:\\Users\\Rodolfo\\AppData\\Roaming\\Python\\Python39\\site-packages\\fairlearn\\reductions\\_moments\\utility_parity.py:251: FutureWarning: Using the level keyword in DataFrame and Series aggregations is deprecated and will be removed in a future version. Use groupby instead. df.sum(level=1) should use df.groupby(level=1).sum().\n",
      "  lambda_event = (lambda_vec[\"+\"] - self.ratio * lambda_vec[\"-\"]).sum(level=_EVENT) / \\\n",
      "C:\\Users\\Rodolfo\\AppData\\Roaming\\Python\\Python39\\site-packages\\fairlearn\\reductions\\_moments\\utility_parity.py:251: FutureWarning: Using the level keyword in DataFrame and Series aggregations is deprecated and will be removed in a future version. Use groupby instead. df.sum(level=1) should use df.groupby(level=1).sum().\n",
      "  lambda_event = (lambda_vec[\"+\"] - self.ratio * lambda_vec[\"-\"]).sum(level=_EVENT) / \\\n",
      "C:\\Users\\Rodolfo\\AppData\\Roaming\\Python\\Python39\\site-packages\\fairlearn\\reductions\\_moments\\utility_parity.py:251: FutureWarning: Using the level keyword in DataFrame and Series aggregations is deprecated and will be removed in a future version. Use groupby instead. df.sum(level=1) should use df.groupby(level=1).sum().\n",
      "  lambda_event = (lambda_vec[\"+\"] - self.ratio * lambda_vec[\"-\"]).sum(level=_EVENT) / \\\n",
      "C:\\Users\\Rodolfo\\AppData\\Roaming\\Python\\Python39\\site-packages\\fairlearn\\reductions\\_moments\\utility_parity.py:251: FutureWarning: Using the level keyword in DataFrame and Series aggregations is deprecated and will be removed in a future version. Use groupby instead. df.sum(level=1) should use df.groupby(level=1).sum().\n",
      "  lambda_event = (lambda_vec[\"+\"] - self.ratio * lambda_vec[\"-\"]).sum(level=_EVENT) / \\\n",
      "C:\\Users\\Rodolfo\\AppData\\Roaming\\Python\\Python39\\site-packages\\fairlearn\\reductions\\_moments\\utility_parity.py:251: FutureWarning: Using the level keyword in DataFrame and Series aggregations is deprecated and will be removed in a future version. Use groupby instead. df.sum(level=1) should use df.groupby(level=1).sum().\n",
      "  lambda_event = (lambda_vec[\"+\"] - self.ratio * lambda_vec[\"-\"]).sum(level=_EVENT) / \\\n",
      "C:\\Users\\Rodolfo\\AppData\\Roaming\\Python\\Python39\\site-packages\\fairlearn\\reductions\\_moments\\utility_parity.py:251: FutureWarning: Using the level keyword in DataFrame and Series aggregations is deprecated and will be removed in a future version. Use groupby instead. df.sum(level=1) should use df.groupby(level=1).sum().\n",
      "  lambda_event = (lambda_vec[\"+\"] - self.ratio * lambda_vec[\"-\"]).sum(level=_EVENT) / \\\n",
      "C:\\Users\\Rodolfo\\AppData\\Roaming\\Python\\Python39\\site-packages\\fairlearn\\reductions\\_moments\\utility_parity.py:251: FutureWarning: Using the level keyword in DataFrame and Series aggregations is deprecated and will be removed in a future version. Use groupby instead. df.sum(level=1) should use df.groupby(level=1).sum().\n",
      "  lambda_event = (lambda_vec[\"+\"] - self.ratio * lambda_vec[\"-\"]).sum(level=_EVENT) / \\\n",
      "C:\\Users\\Rodolfo\\AppData\\Roaming\\Python\\Python39\\site-packages\\fairlearn\\reductions\\_moments\\utility_parity.py:251: FutureWarning: Using the level keyword in DataFrame and Series aggregations is deprecated and will be removed in a future version. Use groupby instead. df.sum(level=1) should use df.groupby(level=1).sum().\n",
      "  lambda_event = (lambda_vec[\"+\"] - self.ratio * lambda_vec[\"-\"]).sum(level=_EVENT) / \\\n",
      "C:\\Users\\Rodolfo\\AppData\\Roaming\\Python\\Python39\\site-packages\\fairlearn\\reductions\\_moments\\utility_parity.py:251: FutureWarning: Using the level keyword in DataFrame and Series aggregations is deprecated and will be removed in a future version. Use groupby instead. df.sum(level=1) should use df.groupby(level=1).sum().\n",
      "  lambda_event = (lambda_vec[\"+\"] - self.ratio * lambda_vec[\"-\"]).sum(level=_EVENT) / \\\n",
      "C:\\Users\\Rodolfo\\AppData\\Roaming\\Python\\Python39\\site-packages\\fairlearn\\reductions\\_moments\\utility_parity.py:251: FutureWarning: Using the level keyword in DataFrame and Series aggregations is deprecated and will be removed in a future version. Use groupby instead. df.sum(level=1) should use df.groupby(level=1).sum().\n",
      "  lambda_event = (lambda_vec[\"+\"] - self.ratio * lambda_vec[\"-\"]).sum(level=_EVENT) / \\\n",
      "C:\\Users\\Rodolfo\\AppData\\Roaming\\Python\\Python39\\site-packages\\fairlearn\\reductions\\_moments\\utility_parity.py:251: FutureWarning: Using the level keyword in DataFrame and Series aggregations is deprecated and will be removed in a future version. Use groupby instead. df.sum(level=1) should use df.groupby(level=1).sum().\n",
      "  lambda_event = (lambda_vec[\"+\"] - self.ratio * lambda_vec[\"-\"]).sum(level=_EVENT) / \\\n",
      "C:\\Users\\Rodolfo\\AppData\\Roaming\\Python\\Python39\\site-packages\\fairlearn\\reductions\\_moments\\utility_parity.py:251: FutureWarning: Using the level keyword in DataFrame and Series aggregations is deprecated and will be removed in a future version. Use groupby instead. df.sum(level=1) should use df.groupby(level=1).sum().\n",
      "  lambda_event = (lambda_vec[\"+\"] - self.ratio * lambda_vec[\"-\"]).sum(level=_EVENT) / \\\n",
      "C:\\Users\\Rodolfo\\AppData\\Roaming\\Python\\Python39\\site-packages\\fairlearn\\reductions\\_moments\\utility_parity.py:251: FutureWarning: Using the level keyword in DataFrame and Series aggregations is deprecated and will be removed in a future version. Use groupby instead. df.sum(level=1) should use df.groupby(level=1).sum().\n",
      "  lambda_event = (lambda_vec[\"+\"] - self.ratio * lambda_vec[\"-\"]).sum(level=_EVENT) / \\\n",
      "C:\\Users\\Rodolfo\\AppData\\Roaming\\Python\\Python39\\site-packages\\fairlearn\\reductions\\_moments\\utility_parity.py:251: FutureWarning: Using the level keyword in DataFrame and Series aggregations is deprecated and will be removed in a future version. Use groupby instead. df.sum(level=1) should use df.groupby(level=1).sum().\n",
      "  lambda_event = (lambda_vec[\"+\"] - self.ratio * lambda_vec[\"-\"]).sum(level=_EVENT) / \\\n",
      "C:\\Users\\Rodolfo\\AppData\\Roaming\\Python\\Python39\\site-packages\\fairlearn\\reductions\\_moments\\utility_parity.py:251: FutureWarning: Using the level keyword in DataFrame and Series aggregations is deprecated and will be removed in a future version. Use groupby instead. df.sum(level=1) should use df.groupby(level=1).sum().\n",
      "  lambda_event = (lambda_vec[\"+\"] - self.ratio * lambda_vec[\"-\"]).sum(level=_EVENT) / \\\n",
      "C:\\Users\\Rodolfo\\AppData\\Roaming\\Python\\Python39\\site-packages\\fairlearn\\reductions\\_moments\\utility_parity.py:251: FutureWarning: Using the level keyword in DataFrame and Series aggregations is deprecated and will be removed in a future version. Use groupby instead. df.sum(level=1) should use df.groupby(level=1).sum().\n",
      "  lambda_event = (lambda_vec[\"+\"] - self.ratio * lambda_vec[\"-\"]).sum(level=_EVENT) / \\\n",
      "C:\\Users\\Rodolfo\\AppData\\Roaming\\Python\\Python39\\site-packages\\fairlearn\\reductions\\_moments\\utility_parity.py:251: FutureWarning: Using the level keyword in DataFrame and Series aggregations is deprecated and will be removed in a future version. Use groupby instead. df.sum(level=1) should use df.groupby(level=1).sum().\n",
      "  lambda_event = (lambda_vec[\"+\"] - self.ratio * lambda_vec[\"-\"]).sum(level=_EVENT) / \\\n",
      "C:\\Users\\Rodolfo\\AppData\\Roaming\\Python\\Python39\\site-packages\\fairlearn\\reductions\\_moments\\utility_parity.py:251: FutureWarning: Using the level keyword in DataFrame and Series aggregations is deprecated and will be removed in a future version. Use groupby instead. df.sum(level=1) should use df.groupby(level=1).sum().\n",
      "  lambda_event = (lambda_vec[\"+\"] - self.ratio * lambda_vec[\"-\"]).sum(level=_EVENT) / \\\n",
      "C:\\Users\\Rodolfo\\AppData\\Roaming\\Python\\Python39\\site-packages\\fairlearn\\reductions\\_moments\\utility_parity.py:251: FutureWarning: Using the level keyword in DataFrame and Series aggregations is deprecated and will be removed in a future version. Use groupby instead. df.sum(level=1) should use df.groupby(level=1).sum().\n",
      "  lambda_event = (lambda_vec[\"+\"] - self.ratio * lambda_vec[\"-\"]).sum(level=_EVENT) / \\\n",
      "C:\\Users\\Rodolfo\\AppData\\Roaming\\Python\\Python39\\site-packages\\fairlearn\\reductions\\_moments\\utility_parity.py:251: FutureWarning: Using the level keyword in DataFrame and Series aggregations is deprecated and will be removed in a future version. Use groupby instead. df.sum(level=1) should use df.groupby(level=1).sum().\n",
      "  lambda_event = (lambda_vec[\"+\"] - self.ratio * lambda_vec[\"-\"]).sum(level=_EVENT) / \\\n"
     ]
    }
   ],
   "metadata": {}
  },
  {
   "cell_type": "code",
   "execution_count": 13,
   "source": [
    "#calculando selection rate com os dados mitigados pelo modelo\r\n",
    "sr_mitigated = MetricFrame(metrics=selection_rate, y_true=y_true, y_pred=y_pred_mitigated, sensitive_features=sex)"
   ],
   "outputs": [],
   "metadata": {}
  },
  {
   "cell_type": "code",
   "execution_count": 14,
   "source": [
    "print(sr_mitigated.overall)\r\n",
    "print(sr_mitigated.by_group)"
   ],
   "outputs": [
    {
     "output_type": "stream",
     "name": "stdout",
     "text": [
      "0.16614798738790384\n",
      "sex\n",
      "Female    0.155262\n",
      "Male      0.171547\n",
      "Name: selection_rate, dtype: object\n"
     ]
    }
   ],
   "metadata": {}
  },
  {
   "cell_type": "code",
   "execution_count": 15,
   "source": [
    "#criando nova variável com o conjunto de dados para exportar e realizar balanceamento\r\n",
    "dados_balancear = dados.data\r\n",
    "dados_balancear['mais50k'] = y_true\r\n",
    "dados_balancear.to_csv('dados_balancear.csv', index=False)"
   ],
   "outputs": [],
   "metadata": {}
  }
 ],
 "metadata": {
  "orig_nbformat": 4,
  "language_info": {
   "name": "python",
   "version": "3.9.7",
   "mimetype": "text/x-python",
   "codemirror_mode": {
    "name": "ipython",
    "version": 3
   },
   "pygments_lexer": "ipython3",
   "nbconvert_exporter": "python",
   "file_extension": ".py"
  },
  "kernelspec": {
   "name": "python3",
   "display_name": "Python 3.9.7 64-bit"
  },
  "interpreter": {
   "hash": "0ec66bbe782f389edb8615b95e71913b48001538f92dc4d53a6c71a0eff16772"
  }
 },
 "nbformat": 4,
 "nbformat_minor": 2
}