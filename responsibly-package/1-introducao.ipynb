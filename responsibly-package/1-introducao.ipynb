{
 "cells": [
  {
   "cell_type": "markdown",
   "metadata": {},
   "source": [
    "# Demontração - Análise de Imparcialidade do COMPAS\n",
    "\n",
    "Análise realizada através do pacote [responsibly](https://docs.responsibly.ai/notebooks/demo-compas-analysis.html).\n",
    "\n",
    "## Conjunto de Dados\n",
    "\n",
    "[COMPAS](https://www.kaggle.com/danofer/compass): Preconceito racial nas pontuações de risco de reincidência do COMPAS para a Flórida.\n",
    "\n",
    "6172 linhas de informações com 56 atributos."
   ]
  },
  {
   "cell_type": "code",
   "execution_count": 2,
   "metadata": {},
   "outputs": [],
   "source": [
    "import numpy as np\n",
    "import pandas as pd\n",
    "from scipy import stats\n",
    "import matplotlib.pyplot as plt\n",
    "import seaborn as sns\n",
    "\n",
    "from responsibly.dataset import COMPASDataset\n",
    "from responsibly.fairness.metrics import distplot_by"
   ]
  },
  {
   "cell_type": "code",
   "execution_count": 7,
   "metadata": {},
   "outputs": [
    {
     "name": "stdout",
     "output_type": "stream",
     "text": [
      "linhas: 6172\n",
      "colunas: 56\n"
     ]
    }
   ],
   "source": [
    "#carregamento dos dados\n",
    "compas = COMPASDataset()\n",
    "dataset = compas.df\n",
    "\n",
    "print('linhas:', len(dataset))\n",
    "print('colunas:', len(dataset.columns))"
   ]
  },
  {
   "cell_type": "markdown",
   "metadata": {},
   "source": [
    "## Análise Exploratória\n",
    "\n",
    "As pontuações mais altas do COMPAS estão ligeiramente correlacionadas com um maior tempo de permanência."
   ]
  },
  {
   "cell_type": "code",
   "execution_count": 23,
   "metadata": {},
   "outputs": [
    {
     "name": "stdout",
     "output_type": "stream",
     "text": [
      "Male      4997\n",
      "Female    1175\n",
      "Name: sex, dtype: int64 \n",
      "\n",
      "25 - 45            3532\n",
      "Less than 25       1347\n",
      "Greater than 45    1293\n",
      "Name: age_cat, dtype: int64 \n",
      "\n",
      "African-American    3175\n",
      "Caucasian           2103\n",
      "Hispanic             509\n",
      "Other                343\n",
      "Asian                 31\n",
      "Native American       11\n",
      "Name: race, dtype: int64\n"
     ]
    }
   ],
   "source": [
    "# números do dataset\n",
    "print(dataset['sex'].value_counts(), '\\n')\n",
    "\n",
    "print(dataset['age_cat'].value_counts(), '\\n')\n",
    "\n",
    "print(dataset['race'].value_counts())"
   ]
  },
  {
   "cell_type": "code",
   "execution_count": 27,
   "metadata": {},
   "outputs": [
    {
     "name": "stdout",
     "output_type": "stream",
     "text": [
      "Male      80.96\n",
      "Female    19.04\n",
      "Name: sex, dtype: float64 \n",
      "\n",
      "25 - 45            57.23\n",
      "Less than 25       21.82\n",
      "Greater than 45    20.95\n",
      "Name: age_cat, dtype: float64 \n",
      "\n",
      "African-American    51.44\n",
      "Caucasian           34.07\n",
      "Hispanic             8.25\n",
      "Other                5.56\n",
      "Asian                0.50\n",
      "Native American      0.18\n",
      "Name: race, dtype: float64\n"
     ]
    }
   ],
   "source": [
    "#porcentagens das categorias dos atributos\n",
    "print(((dataset['sex'].value_counts() / len(dataset)) * 100).round(2),'\\n')\n",
    "\n",
    "print(((dataset['age_cat'].value_counts() / len(dataset)) * 100).round(2),'\\n')\n",
    "\n",
    "print(((dataset['race'].value_counts() / len(dataset)) * 100).round(2))"
   ]
  },
  {
   "cell_type": "code",
   "execution_count": 29,
   "metadata": {},
   "outputs": [
    {
     "data": {
      "text/html": [
       "<div>\n",
       "<style scoped>\n",
       "    .dataframe tbody tr th:only-of-type {\n",
       "        vertical-align: middle;\n",
       "    }\n",
       "\n",
       "    .dataframe tbody tr th {\n",
       "        vertical-align: top;\n",
       "    }\n",
       "\n",
       "    .dataframe thead th {\n",
       "        text-align: right;\n",
       "    }\n",
       "</style>\n",
       "<table border=\"1\" class=\"dataframe\">\n",
       "  <thead>\n",
       "    <tr style=\"text-align: right;\">\n",
       "      <th>race</th>\n",
       "      <th>African-American</th>\n",
       "      <th>Asian</th>\n",
       "      <th>Caucasian</th>\n",
       "      <th>Hispanic</th>\n",
       "      <th>Native American</th>\n",
       "      <th>Other</th>\n",
       "    </tr>\n",
       "    <tr>\n",
       "      <th>sex</th>\n",
       "      <th></th>\n",
       "      <th></th>\n",
       "      <th></th>\n",
       "      <th></th>\n",
       "      <th></th>\n",
       "      <th></th>\n",
       "    </tr>\n",
       "  </thead>\n",
       "  <tbody>\n",
       "    <tr>\n",
       "      <th>Female</th>\n",
       "      <td>549</td>\n",
       "      <td>2</td>\n",
       "      <td>482</td>\n",
       "      <td>82</td>\n",
       "      <td>2</td>\n",
       "      <td>58</td>\n",
       "    </tr>\n",
       "    <tr>\n",
       "      <th>Male</th>\n",
       "      <td>2626</td>\n",
       "      <td>29</td>\n",
       "      <td>1621</td>\n",
       "      <td>427</td>\n",
       "      <td>9</td>\n",
       "      <td>285</td>\n",
       "    </tr>\n",
       "  </tbody>\n",
       "</table>\n",
       "</div>"
      ],
      "text/plain": [
       "race    African-American  Asian  Caucasian  Hispanic  Native American  Other\n",
       "sex                                                                         \n",
       "Female               549      2        482        82                2     58\n",
       "Male                2626     29       1621       427                9    285"
      ]
     },
     "execution_count": 29,
     "metadata": {},
     "output_type": "execute_result"
    }
   ],
   "source": [
    "pd.crosstab(dataset['sex'], dataset['race'])"
   ]
  },
  {
   "cell_type": "code",
   "execution_count": 36,
   "metadata": {},
   "outputs": [
    {
     "name": "stdout",
     "output_type": "stream",
     "text": [
      "0    3363\n",
      "1    2809\n",
      "Name: two_year_recid, dtype: int64 \n",
      "\n",
      "0    54.49\n",
      "1    45.51\n",
      "Name: two_year_recid, dtype: float64\n"
     ]
    },
    {
     "data": {
      "text/html": [
       "<div>\n",
       "<style scoped>\n",
       "    .dataframe tbody tr th:only-of-type {\n",
       "        vertical-align: middle;\n",
       "    }\n",
       "\n",
       "    .dataframe tbody tr th {\n",
       "        vertical-align: top;\n",
       "    }\n",
       "\n",
       "    .dataframe thead th {\n",
       "        text-align: right;\n",
       "    }\n",
       "</style>\n",
       "<table border=\"1\" class=\"dataframe\">\n",
       "  <thead>\n",
       "    <tr style=\"text-align: right;\">\n",
       "      <th>two_year_recid</th>\n",
       "      <th>0</th>\n",
       "      <th>1</th>\n",
       "    </tr>\n",
       "    <tr>\n",
       "      <th>sex</th>\n",
       "      <th></th>\n",
       "      <th></th>\n",
       "    </tr>\n",
       "  </thead>\n",
       "  <tbody>\n",
       "    <tr>\n",
       "      <th>Female</th>\n",
       "      <td>762</td>\n",
       "      <td>413</td>\n",
       "    </tr>\n",
       "    <tr>\n",
       "      <th>Male</th>\n",
       "      <td>2601</td>\n",
       "      <td>2396</td>\n",
       "    </tr>\n",
       "  </tbody>\n",
       "</table>\n",
       "</div>"
      ],
      "text/plain": [
       "two_year_recid     0     1\n",
       "sex                       \n",
       "Female           762   413\n",
       "Male            2601  2396"
      ]
     },
     "execution_count": 36,
     "metadata": {},
     "output_type": "execute_result"
    }
   ],
   "source": [
    "# reincidência em 2 anos\n",
    "print(dataset['two_year_recid'].value_counts(), '\\n')\n",
    "\n",
    "print(((dataset['two_year_recid'].value_counts() / len(dataset)) * 100).round(2))\n",
    "\n",
    "pd.crosstab(dataset['sex'], dataset['two_year_recid'])"
   ]
  },
  {
   "cell_type": "markdown",
   "metadata": {},
   "source": [
    "Os juízes são apresentados a dois conjuntos de pontuações do sistema:\n",
    "- Um que classifica as pessoas com Alto, Médio e Baixo Risco de reincidência;\n",
    "- Uma pontuação decimal correspondente, de 1 a 10."
   ]
  },
  {
   "cell_type": "code",
   "execution_count": 62,
   "metadata": {},
   "outputs": [
    {
     "name": "stdout",
     "output_type": "stream",
     "text": [
      "African-American    3175\n",
      "Caucasian           2103\n",
      "Name: race, dtype: int64 \n",
      "\n",
      "Male Recidivism:\n",
      "race            African-American  Caucasian\n",
      "two_year_recid                             \n",
      "0                       0.546561   0.453439\n",
      "1                       0.690995   0.309005 \n",
      "\n",
      "Female Recidivism:\n",
      "race            African-American  Caucasian\n",
      "two_year_recid                             \n",
      "0                       0.525836   0.474164\n",
      "1                       0.544236   0.455764 \n",
      "\n"
     ]
    }
   ],
   "source": [
    "# dados somente de afro-americanos e caucasianos\n",
    "races = ['African-American', 'Caucasian']\n",
    "ds_races_focus = dataset[dataset['race'].isin(races)]\n",
    "\n",
    "print(ds_races_focus['race'].value_counts(), '\\n')\n",
    "\n",
    "ds_races_male = ds_races_focus[ds_races_focus['sex'].isin(['Male'])]\n",
    "ds_races_female = ds_races_focus[ds_races_focus['sex'].isin(['Female'])]\n",
    "\n",
    "print('Male Recidivism:')\n",
    "print(pd.crosstab(ds_races_male['two_year_recid'], ds_races_male['race'], normalize='index'), '\\n')\n",
    "print('Female Recidivism:')\n",
    "print(pd.crosstab(ds_races_female['two_year_recid'], ds_races_female['race'], normalize='index'), '\\n')"
   ]
  },
  {
   "cell_type": "code",
   "execution_count": 76,
   "metadata": {},
   "outputs": [
    {
     "data": {
      "text/html": [
       "<div>\n",
       "<style scoped>\n",
       "    .dataframe tbody tr th:only-of-type {\n",
       "        vertical-align: middle;\n",
       "    }\n",
       "\n",
       "    .dataframe tbody tr th {\n",
       "        vertical-align: top;\n",
       "    }\n",
       "\n",
       "    .dataframe thead th {\n",
       "        text-align: right;\n",
       "    }\n",
       "</style>\n",
       "<table border=\"1\" class=\"dataframe\">\n",
       "  <thead>\n",
       "    <tr style=\"text-align: right;\">\n",
       "      <th>race</th>\n",
       "      <th>African-American</th>\n",
       "      <th>Caucasian</th>\n",
       "    </tr>\n",
       "    <tr>\n",
       "      <th>decile_score</th>\n",
       "      <th></th>\n",
       "      <th></th>\n",
       "    </tr>\n",
       "  </thead>\n",
       "  <tbody>\n",
       "    <tr>\n",
       "      <th>1</th>\n",
       "      <td>365</td>\n",
       "      <td>605</td>\n",
       "    </tr>\n",
       "    <tr>\n",
       "      <th>2</th>\n",
       "      <td>346</td>\n",
       "      <td>321</td>\n",
       "    </tr>\n",
       "    <tr>\n",
       "      <th>3</th>\n",
       "      <td>298</td>\n",
       "      <td>238</td>\n",
       "    </tr>\n",
       "    <tr>\n",
       "      <th>4</th>\n",
       "      <td>337</td>\n",
       "      <td>243</td>\n",
       "    </tr>\n",
       "    <tr>\n",
       "      <th>5</th>\n",
       "      <td>323</td>\n",
       "      <td>200</td>\n",
       "    </tr>\n",
       "    <tr>\n",
       "      <th>6</th>\n",
       "      <td>318</td>\n",
       "      <td>160</td>\n",
       "    </tr>\n",
       "    <tr>\n",
       "      <th>7</th>\n",
       "      <td>343</td>\n",
       "      <td>113</td>\n",
       "    </tr>\n",
       "    <tr>\n",
       "      <th>8</th>\n",
       "      <td>301</td>\n",
       "      <td>96</td>\n",
       "    </tr>\n",
       "    <tr>\n",
       "      <th>9</th>\n",
       "      <td>317</td>\n",
       "      <td>77</td>\n",
       "    </tr>\n",
       "    <tr>\n",
       "      <th>10</th>\n",
       "      <td>227</td>\n",
       "      <td>50</td>\n",
       "    </tr>\n",
       "  </tbody>\n",
       "</table>\n",
       "</div>"
      ],
      "text/plain": [
       "race          African-American  Caucasian\n",
       "decile_score                             \n",
       "1                          365        605\n",
       "2                          346        321\n",
       "3                          298        238\n",
       "4                          337        243\n",
       "5                          323        200\n",
       "6                          318        160\n",
       "7                          343        113\n",
       "8                          301         96\n",
       "9                          317         77\n",
       "10                         227         50"
      ]
     },
     "execution_count": 76,
     "metadata": {},
     "output_type": "execute_result"
    }
   ],
   "source": [
    "pd.crosstab(ds_races_focus['decile_score'], ds_races_focus['race'])"
   ]
  },
  {
   "cell_type": "code",
   "execution_count": 75,
   "metadata": {},
   "outputs": [
    {
     "data": {
      "text/plain": [
       "<seaborn.axisgrid.FacetGrid at 0x20772014910>"
      ]
     },
     "execution_count": 75,
     "metadata": {},
     "output_type": "execute_result"
    },
    {
     "data": {
      "image/png": "[encoded data removed]",
      "text/plain": [
       "<Figure size 1008x504 with 2 Axes>"
      ]
     },
     "metadata": {
      "needs_background": "light"
     },
     "output_type": "display_data"
    }
   ],
   "source": [
    "graph1 = sns.FacetGrid(ds_races_focus, col='race', height=7)\n",
    "graph1.map(plt.hist, 'decile_score', rwidth=0.9)"
   ]
  },
  {
   "cell_type": "code",
   "execution_count": 48,
   "metadata": {},
   "outputs": [
    {
     "name": "stderr",
     "output_type": "stream",
     "text": [
      "C:\\ArquivosDeProgramas\\Python\\Python38\\lib\\site-packages\\seaborn\\distributions.py:2619: FutureWarning: `distplot` is a deprecated function and will be removed in a future version. Please adapt your code to use either `displot` (a figure-level function with similar flexibility) or `kdeplot` (an axes-level function for kernel density plots).\n",
      "C:\\ArquivosDeProgramas\\Python\\Python38\\lib\\site-packages\\seaborn\\distributions.py:2619: FutureWarning: `distplot` is a deprecated function and will be removed in a future version. Please adapt your code to use either `displot` (a figure-level function with similar flexibility) or `kdeplot` (an axes-level function for kernel density plots).\n"
     ]
    },
    {
     "data": {
      "text/plain": [
       "[<matplotlib.axes._subplots.AxesSubplot at 0x207713fba90>,\n",
       " <matplotlib.axes._subplots.AxesSubplot at 0x207713fba90>]"
      ]
     },
     "execution_count": 48,
     "metadata": {},
     "output_type": "execute_result"
    },
    {
     "data": {
      "image/png": "[encoded data removed]",
      "text/plain": [
       "<Figure size 432x288 with 1 Axes>"
      ]
     },
     "metadata": {
      "needs_background": "light"
     },
     "output_type": "display_data"
    }
   ],
   "source": [
    "distplot_by(ds_races_focus['decile_score'], ds_races_focus['race'], hist=False)"
   ]
  },
  {
   "cell_type": "code",
   "execution_count": 108,
   "metadata": {},
   "outputs": [
    {
     "name": "stdout",
     "output_type": "stream",
     "text": [
      "y_pred     0     1\n",
      "event             \n",
      "0       1938  1217\n",
      "1        815  1308 \n",
      "\n",
      "Accuracy: 61.501 %\n",
      "Precision: 51.802 %\n"
     ]
    }
   ],
   "source": [
    "from sklearn.metrics import accuracy_score, precision_score\n",
    "\n",
    "# tabela cruzada da previsão e rótulos\n",
    "y_true = ds_races_focus['event']\n",
    "y_pred = ds_races_focus['y_pred'].replace(True, 1).replace(False, 0)\n",
    "\n",
    "print(pd.crosstab(y_true, y_pred), '\\n')\n",
    "\n",
    "#cálculo de acurácia e precisão\n",
    "print(f'Accuracy: {accuracy_score(y_true, y_pred)*100:.5} %')\n",
    "print(f'Precision: {precision_score(y_true, y_pred)*100:.5} %')"
   ]
  }
 ],
 "metadata": {
  "interpreter": {
   "hash": "e859d2b2c5ec404c80be3ae1107f381ab65c60291df144b2c8070f47769fe782"
  },
  "kernelspec": {
   "display_name": "Python 3.8.8 64-bit ('base': conda)",
   "name": "python3"
  },
  "language_info": {
   "codemirror_mode": {
    "name": "ipython",
    "version": 3
   },
   "file_extension": ".py",
   "mimetype": "text/x-python",
   "name": "python",
   "nbconvert_exporter": "python",
   "pygments_lexer": "ipython3",
   "version": "3.8.0"
  },
  "orig_nbformat": 4
 },
 "nbformat": 4,
 "nbformat_minor": 2
}
