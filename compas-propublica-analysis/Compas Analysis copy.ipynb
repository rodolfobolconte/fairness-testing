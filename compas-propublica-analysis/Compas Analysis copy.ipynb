{
 "cells": [
  {
   "cell_type": "markdown",
   "metadata": {},
   "source": [
    "# Compas Analysis\n",
    "\n",
    "What follows are the calculations performed for ProPublica's analaysis of the COMPAS Recidivism Risk Scores. It might be helpful to open [the methodology](https://www.propublica.org/article/how-we-analyzed-the-compas-recidivism-algorithm/) in another tab to understand the following.\n",
    "\n",
    "## Loading the Data\n",
    "\n",
    "We select fields for severity of charge, number of priors, demographics, age, sex, compas scores, and whether each person was accused of a crime within two years.\n",
    "\n",
    "---\n",
    "## Análise Compas\n",
    "\n",
    "A seguir estão os cálculos realizados para a análise da ProPublica das Pontuações de Risco de Reincidência do COMPAS. Pode ser útil abrir [a metodologia](https://www.propublica.org/article/how-we-analyzed-the-compas-recidivism-algorithm/) em outra guia para entender o seguinte.\n",
    "\n",
    "## Carregando os dados\n",
    "\n",
    "Selecionamos campos para gravidade da acusação, número de antecedentes, dados demográficos, idade, sexo, pontuação da bússola e se cada pessoa foi acusada de um crime dentro de dois anos."
   ]
  },
  {
   "cell_type": "code",
   "execution_count": 1,
   "metadata": {
    "collapsed": false
   },
   "outputs": [
    {
     "name": "stderr",
     "output_type": "stream",
     "text": [
      "Unable to determine R home: [WinError 2] O sistema não pode encontrar o arquivo especificado\n",
      "Unable to determine R library path: Command '('C:\\\\Program Files\\\\R\\\\R-4.1.2\\\\bin\\\\Rscript', '-e', 'cat(Sys.getenv(\"LD_LIBRARY_PATH\"))')' returned non-zero exit status 1.\n",
      "a:\\Downloads\\Temporario\\fairness-testing\\env\\lib\\site-packages\\rpy2\\robjects\\packages.py:366: UserWarning: The symbol 'quartz' is not in this R namespace/package.\n",
      "  warnings.warn(\n"
     ]
    }
   ],
   "source": [
    "# filter dplyr warnings\n",
    "import rpy2.ipython\n",
    "import rpy2.robjects as ro\n",
    "%load_ext rpy2.ipython\n",
    "import warnings\n",
    "warnings.filterwarnings('ignore')"
   ]
  },
  {
   "cell_type": "code",
   "execution_count": 2,
   "metadata": {
    "collapsed": false,
    "scrolled": false
   },
   "outputs": [
    {
     "name": "stderr",
     "output_type": "stream",
     "text": [
      "R[write to console]: -- Attaching packages --------------------------------------- tidyverse 1.3.1 --\n",
      "\n",
      "R[write to console]: v ggplot2 3.3.5     v purrr   0.3.4\n",
      "v tibble  3.1.6     v dplyr   1.0.8\n",
      "v tidyr   1.2.0     v stringr 1.4.0\n",
      "v readr   2.1.2     v forcats 0.5.1\n",
      "\n",
      "R[write to console]: -- Conflicts ------------------------------------------ tidyverse_conflicts() --\n",
      "x dplyr::filter() masks stats::filter()\n",
      "x dplyr::lag()    masks stats::lag()\n",
      "\n",
      "R[write to console]: here() starts at A:/Downloads/Temporario/fairness-testing\n",
      "\n"
     ]
    },
    {
     "name": "stdout",
     "output_type": "stream",
     "text": [
      "New names:\n",
      "* `decile_score` -> `decile_score...12`\n",
      "* `priors_count` -> `priors_count...15`\n",
      "* `decile_score` -> `decile_score...40`\n",
      "* `priors_count` -> `priors_count...49`\n",
      "Rows: 7214 Columns: 53\n",
      "-- Column specification --------------------------------------------------------\n",
      "Delimiter: \",\"\n",
      "chr  (19): name, first, last, sex, age_cat, race, c_case_number, c_charge_de...\n",
      "dbl  (19): id, age, juv_fel_count, decile_score...12, juv_misd_count, juv_ot...\n",
      "lgl   (1): violent_recid\n",
      "dttm  (2): c_jail_in, c_jail_out\n",
      "date (12): compas_screening_date, dob, c_offense_date, c_arrest_date, r_offe...\n",
      "\n",
      "i Use `spec()` to retrieve the full column specification for this data.\n",
      "i Specify the column types or set `show_col_types = FALSE` to quiet this message.\n",
      "       id            name              first               last          \n",
      " Min.   :    1   Length:7214        Length:7214        Length:7214       \n",
      " 1st Qu.: 2735   Class :character   Class :character   Class :character  \n",
      " Median : 5510   Mode  :character   Mode  :character   Mode  :character  \n",
      " Mean   : 5501                                                           \n",
      " 3rd Qu.: 8246                                                           \n",
      " Max.   :11001                                                           \n",
      "                                                                         \n",
      " compas_screening_date     sex                 dob                  age       \n",
      " Min.   :2013-01-01    Length:7214        Min.   :1919-10-14   Min.   :18.00  \n",
      " 1st Qu.:2013-04-05    Class :character   1st Qu.:1973-04-25   1st Qu.:25.00  \n",
      " Median :2013-09-11    Mode  :character   Median :1984-05-30   Median :31.00  \n",
      " Mean   :2013-09-20                       Mean   :1980-12-25   Mean   :34.82  \n",
      " 3rd Qu.:2014-01-24                       3rd Qu.:1990-06-20   3rd Qu.:42.00  \n",
      " Max.   :2014-12-31                       Max.   :1998-01-20   Max.   :96.00  \n",
      "                                                                              \n",
      "   age_cat              race           juv_fel_count      decile_score...12\n",
      " Length:7214        Length:7214        Min.   : 0.00000   Min.   : 1.00    \n",
      " Class :character   Class :character   1st Qu.: 0.00000   1st Qu.: 2.00    \n",
      " Mode  :character   Mode  :character   Median : 0.00000   Median : 4.00    \n",
      "                                       Mean   : 0.06723   Mean   : 4.51    \n",
      "                                       3rd Qu.: 0.00000   3rd Qu.: 7.00    \n",
      "                                       Max.   :20.00000   Max.   :10.00    \n",
      "                                                                           \n",
      " juv_misd_count     juv_other_count   priors_count...15 days_b_screening_arrest\n",
      " Min.   : 0.00000   Min.   : 0.0000   Min.   : 0.000    Min.   :-414.000       \n",
      " 1st Qu.: 0.00000   1st Qu.: 0.0000   1st Qu.: 0.000    1st Qu.:  -1.000       \n",
      " Median : 0.00000   Median : 0.0000   Median : 2.000    Median :  -1.000       \n",
      " Mean   : 0.09093   Mean   : 0.1094   Mean   : 3.472    Mean   :   3.305       \n",
      " 3rd Qu.: 0.00000   3rd Qu.: 0.0000   3rd Qu.: 5.000    3rd Qu.:   0.000       \n",
      " Max.   :13.00000   Max.   :17.0000   Max.   :38.000    Max.   :1057.000       \n",
      "                                                        NA's   :307            \n",
      "   c_jail_in                     c_jail_out                  c_case_number     \n",
      " Min.   :2013-01-01 01:31:55   Min.   :2013-01-02 01:12:01   Length:7214       \n",
      " 1st Qu.:2013-04-07 03:30:24   1st Qu.:2013-04-23 18:02:38   Class :character  \n",
      " Median :2013-09-13 03:59:13   Median :2013-10-01 07:40:06   Mode  :character  \n",
      " Mean   :2013-09-26 12:25:12   Mean   :2013-10-15 05:47:08                     \n",
      " 3rd Qu.:2014-01-28 12:31:36   3rd Qu.:2014-02-10 08:22:38                     \n",
      " Max.   :2016-03-11 10:26:16   Max.   :2016-03-12 01:11:40                     \n",
      " NA's   :307                   NA's   :307                                     \n",
      " c_offense_date       c_arrest_date        c_days_from_compas\n",
      " Min.   :1987-11-07   Min.   :1997-06-18   Min.   :   0.00   \n",
      " 1st Qu.:2013-03-22   1st Qu.:2013-02-13   1st Qu.:   1.00   \n",
      " Median :2013-08-26   Median :2013-06-17   Median :   1.00   \n",
      " Mean   :2013-08-10   Mean   :2013-04-25   Mean   :  57.73   \n",
      " 3rd Qu.:2014-01-17   3rd Qu.:2013-12-05   3rd Qu.:   2.00   \n",
      " Max.   :2014-12-30   Max.   :2014-12-27   Max.   :9485.00   \n",
      " NA's   :1159         NA's   :6077         NA's   :22        \n",
      " c_charge_degree    c_charge_desc         is_recid      r_case_number     \n",
      " Length:7214        Length:7214        Min.   :0.0000   Length:7214       \n",
      " Class :character   Class :character   1st Qu.:0.0000   Class :character  \n",
      " Mode  :character   Mode  :character   Median :0.0000   Mode  :character  \n",
      "                                       Mean   :0.4811                     \n",
      "                                       3rd Qu.:1.0000                     \n",
      "                                       Max.   :1.0000                     \n",
      "                                                                          \n",
      " r_charge_degree    r_days_from_arrest r_offense_date       r_charge_desc     \n",
      " Length:7214        Min.   : -1.00     Min.   :2013-01-03   Length:7214       \n",
      " Class :character   1st Qu.:  0.00     1st Qu.:2014-01-15   Class :character  \n",
      " Mode  :character   Median :  0.00     Median :2014-08-29   Mode  :character  \n",
      "                    Mean   : 20.27     Mean   :2014-08-27                     \n",
      "                    3rd Qu.:  1.00     3rd Qu.:2015-04-04                     \n",
      "                    Max.   :993.00     Max.   :2016-03-29                     \n",
      "                    NA's   :4898       NA's   :3743                           \n",
      "   r_jail_in            r_jail_out         violent_recid  is_violent_recid\n",
      " Min.   :2013-01-04   Min.   :2013-01-05   Mode:logical   Min.   :0.0000  \n",
      " 1st Qu.:2014-01-20   1st Qu.:2014-03-09   NA's:7214      1st Qu.:0.0000  \n",
      " Median :2014-08-21   Median :2014-10-09                  Median :0.0000  \n",
      " Mean   :2014-08-21   Mean   :2014-10-06                  Mean   :0.1135  \n",
      " 3rd Qu.:2015-03-27   3rd Qu.:2015-05-15                  3rd Qu.:0.0000  \n",
      " Max.   :2016-03-29   Max.   :2020-01-01                  Max.   :1.0000  \n",
      " NA's   :4898         NA's   :4898                                        \n",
      " vr_case_number     vr_charge_degree   vr_offense_date      vr_charge_desc    \n",
      " Length:7214        Length:7214        Min.   :2013-01-28   Length:7214       \n",
      " Class :character   Class :character   1st Qu.:2014-04-01   Class :character  \n",
      " Mode  :character   Mode  :character   Median :2014-11-22   Mode  :character  \n",
      "                                       Mean   :2014-10-29                     \n",
      "                                       3rd Qu.:2015-06-23                     \n",
      "                                       Max.   :2016-03-13                     \n",
      "                                       NA's   :6395                           \n",
      " type_of_assessment decile_score...40  score_text        screening_date      \n",
      " Length:7214        Min.   : 1.00     Length:7214        Min.   :2013-01-01  \n",
      " Class :character   1st Qu.: 2.00     Class :character   1st Qu.:2013-04-05  \n",
      " Mode  :character   Median : 4.00     Mode  :character   Median :2013-09-11  \n",
      "                    Mean   : 4.51                        Mean   :2013-09-20  \n",
      "                    3rd Qu.: 7.00                        3rd Qu.:2014-01-24  \n",
      "                    Max.   :10.00                        Max.   :2014-12-31  \n",
      "                                                                             \n",
      " v_type_of_assessment v_decile_score   v_score_text       v_screening_date    \n",
      " Length:7214          Min.   : 1.000   Length:7214        Min.   :2013-01-01  \n",
      " Class :character     1st Qu.: 1.000   Class :character   1st Qu.:2013-04-05  \n",
      " Mode  :character     Median : 3.000   Mode  :character   Median :2013-09-11  \n",
      "                      Mean   : 3.692                      Mean   :2013-09-20  \n",
      "                      3rd Qu.: 5.000                      3rd Qu.:2014-01-24  \n",
      "                      Max.   :10.000                      Max.   :2014-12-31  \n",
      "                                                                              \n",
      "   in_custody          out_custody         priors_count...49     start       \n",
      " Min.   :1992-06-10   Min.   :1999-05-08   Min.   : 0.000    Min.   :  0.00  \n",
      " 1st Qu.:2013-06-01   1st Qu.:2013-07-19   1st Qu.: 0.000    1st Qu.:  0.00  \n",
      " Median :2013-12-15   Median :2014-01-05   Median : 2.000    Median :  0.00  \n",
      " Mean   :2014-01-13   Mean   :2014-02-27   Mean   : 3.472    Mean   : 11.47  \n",
      " 3rd Qu.:2014-07-26   3rd Qu.:2014-09-03   3rd Qu.: 5.000    3rd Qu.:  1.00  \n",
      " Max.   :2016-04-11   Max.   :2020-01-01   Max.   :38.000    Max.   :937.00  \n",
      " NA's   :236          NA's   :236                                            \n",
      "      end             event        two_year_recid  \n",
      " Min.   :   0.0   Min.   :0.0000   Min.   :0.0000  \n",
      " 1st Qu.: 148.2   1st Qu.:0.0000   1st Qu.:0.0000  \n",
      " Median : 530.5   Median :0.0000   Median :0.0000  \n",
      " Mean   : 553.4   Mean   :0.3829   Mean   :0.4507  \n",
      " 3rd Qu.: 914.0   3rd Qu.:1.0000   3rd Qu.:1.0000  \n",
      " Max.   :1186.0   Max.   :1.0000   Max.   :1.0000  \n",
      "                                                   \n"
     ]
    }
   ],
   "source": [
    "%%R\n",
    "library(tidyverse)\n",
    "library(here)\n",
    "library(dplyr)\n",
    "# library(scales)\n",
    "library(ggplot2)\n",
    "\n",
    "raw_data <- read_csv(\"./compas-scores-two-years.csv\")\n",
    "nrow(raw_data)\n",
    "\n",
    "summary(raw_data)"
   ]
  },
  {
   "cell_type": "markdown",
   "metadata": {},
   "source": [
    "However not all of the rows are useable for the first round of analysis.\n",
    "\n",
    "There are a number of reasons remove rows because of missing data:\n",
    "* If the charge date of a defendants Compas scored crime was not within 30 days from when the person was arrested, we assume that because of data quality reasons, that we do not have the right offense.\n",
    "* We coded the recidivist flag -- `is_recid` -- to be -1 if we could not find a compas case at all.\n",
    "* In a similar vein, ordinary traffic offenses -- those with a `c_charge_degree` of 'O' -- will not result in Jail time are removed (only two of them).\n",
    "* We filtered the underlying data from Broward county to include only those rows representing people who had either recidivated in two years, or had at least two years outside of a correctional facility.\n",
    "\n",
    "---\n",
    "\n",
    "No entanto, nem todas as linhas são utilizáveis para a primeira rodada de análise.\n",
    "\n",
    "Há vários motivos para remover linhas devido a dados ausentes:\n",
    "* Se a data da acusação de um réu apontado pelo Compas não for no prazo de 30 dias a partir do momento em que a pessoa foi presa, assumimos que, por motivos de qualidade dos dados, não temos o crime correto.\n",
    "* Codificamos o sinalizador reincidente -- `is_recid` -- para ser -1 se não pudéssemos encontrar um caso do Compas.\n",
    "* De maneira semelhante, infrações de trânsito comuns - aquelas com um `c_charge_degree` de 'O' - não resultarão em prisão (apenas duas delas).\n",
    "* Filtramos os dados subjacentes do condado de Broward para incluir apenas as linhas que representam pessoas que reincidiram em dois anos ou ficaram pelo menos dois anos fora de uma instituição correcional."
   ]
  },
  {
   "cell_type": "code",
   "execution_count": 3,
   "metadata": {
    "collapsed": false
   },
   "outputs": [
    {
     "name": "stdout",
     "output_type": "stream",
     "text": [
      "[1] 6172\n"
     ]
    }
   ],
   "source": [
    "%%R\n",
    "df <- raw_data %>% select(age, c_charge_degree, race, age_cat, score_text, sex, 'priors_count...15', days_b_screening_arrest, 'decile_score...12', is_recid, two_year_recid, c_jail_in, c_jail_out) %>%\n",
    "rename('priors_count'='priors_count...15') %>%\n",
    "rename('decile_score'='decile_score...12') %>%\n",
    "filter(days_b_screening_arrest <= 30) %>%\n",
    "filter(days_b_screening_arrest >= -30) %>%\n",
    "filter(is_recid != -1) %>%\n",
    "filter(c_charge_degree != \"O\") %>%\n",
    "filter(score_text != 'N/A')\n",
    "nrow(df)"
   ]
  },
  {
   "cell_type": "markdown",
   "metadata": {},
   "source": [
    "Higher COMPAS scores are slightly correlated with a longer length of stay.\n",
    "\n",
    "---\n",
    "As pontuações mais altas do COMPAS estão ligeiramente correlacionadas com um maior tempo de permanência."
   ]
  },
  {
   "cell_type": "code",
   "execution_count": 4,
   "metadata": {
    "collapsed": false
   },
   "outputs": [
    {
     "name": "stdout",
     "output_type": "stream",
     "text": [
      "[1] 0.2073297\n"
     ]
    }
   ],
   "source": [
    "%%R\n",
    "df$length_of_stay <- as.numeric(as.Date(df$c_jail_out) - as.Date(df$c_jail_in))\n",
    "cor(df$length_of_stay, df$decile_score)"
   ]
  },
  {
   "cell_type": "markdown",
   "metadata": {},
   "source": [
    "After filtering we have the following demographic breakdown:\n",
    "\n",
    "---\n",
    "Após a filtragem temos o seguinte detalhamento demográfico:"
   ]
  },
  {
   "cell_type": "code",
   "execution_count": 5,
   "metadata": {
    "collapsed": false,
    "scrolled": true
   },
   "outputs": [
    {
     "name": "stdout",
     "output_type": "stream",
     "text": [
      "# A tibble: 3 x 2\n",
      "  age_cat             n\n",
      "  <chr>           <int>\n",
      "1 25 - 45          3532\n",
      "2 Greater than 45  1293\n",
      "3 Less than 25     1347\n"
     ]
    }
   ],
   "source": [
    "%%R\n",
    "count(df,age_cat)"
   ]
  },
  {
   "cell_type": "code",
   "execution_count": 6,
   "metadata": {
    "collapsed": false
   },
   "outputs": [
    {
     "name": "stdout",
     "output_type": "stream",
     "text": [
      "# A tibble: 6 x 2\n",
      "  race                 n\n",
      "  <chr>            <int>\n",
      "1 African-American  3175\n",
      "2 Asian               31\n",
      "3 Caucasian         2103\n",
      "4 Hispanic           509\n",
      "5 Native American     11\n",
      "6 Other              343\n"
     ]
    }
   ],
   "source": [
    "%%R\n",
    "count(df,race)"
   ]
  },
  {
   "cell_type": "code",
   "execution_count": 7,
   "metadata": {
    "collapsed": false
   },
   "outputs": [
    {
     "name": "stdout",
     "output_type": "stream",
     "text": [
      "Black defendants: 51.44%\n",
      "White defendants: 34.07%\n",
      "Hispanic defendants: 8.25%\n",
      "Asian defendants: 0.50%\n",
      "Native American defendants: 0.18%\n"
     ]
    }
   ],
   "source": [
    "print(\"Black defendants: %.2f%%\" %            (3175 / 6172 * 100))\n",
    "print(\"White defendants: %.2f%%\" %            (2103 / 6172 * 100))\n",
    "print(\"Hispanic defendants: %.2f%%\" %         (509  / 6172 * 100))\n",
    "print(\"Asian defendants: %.2f%%\" %            (31   / 6172 * 100))\n",
    "print(\"Native American defendants: %.2f%%\" %  (11   / 6172 * 100))"
   ]
  },
  {
   "cell_type": "code",
   "execution_count": 8,
   "metadata": {
    "collapsed": false
   },
   "outputs": [
    {
     "name": "stdout",
     "output_type": "stream",
     "text": [
      "# A tibble: 3 x 2\n",
      "  score_text     n\n",
      "  <chr>      <int>\n",
      "1 High        1144\n",
      "2 Low         3421\n",
      "3 Medium      1607\n"
     ]
    }
   ],
   "source": [
    "%%R\n",
    "count(df,score_text)"
   ]
  },
  {
   "cell_type": "code",
   "execution_count": 9,
   "metadata": {
    "collapsed": false
   },
   "outputs": [
    {
     "name": "stdout",
     "output_type": "stream",
     "text": [
      "        race\n",
      "sex      African-American Asian Caucasian Hispanic Native American Other\n",
      "  Female              549     2       482       82               2    58\n",
      "  Male               2626    29      1621      427               9   285\n"
     ]
    }
   ],
   "source": [
    "%%R\n",
    "xtabs(~ sex + race, data=df)"
   ]
  },
  {
   "cell_type": "code",
   "execution_count": 10,
   "metadata": {
    "collapsed": false
   },
   "outputs": [
    {
     "name": "stdout",
     "output_type": "stream",
     "text": [
      "      age        c_charge_degree        race             age_cat         \n",
      " Min.   :18.00   Length:6172        Length:6172        Length:6172       \n",
      " 1st Qu.:25.00   Class :character   Class :character   Class :character  \n",
      " Median :31.00   Mode  :character   Mode  :character   Mode  :character  \n",
      " Mean   :34.53                                                           \n",
      " 3rd Qu.:42.00                                                           \n",
      " Max.   :96.00                                                           \n",
      "  score_text            sex             priors_count    days_b_screening_arrest\n",
      " Length:6172        Length:6172        Min.   : 0.000   Min.   :-30.00         \n",
      " Class :character   Class :character   1st Qu.: 0.000   1st Qu.: -1.00         \n",
      " Mode  :character   Mode  :character   Median : 1.000   Median : -1.00         \n",
      "                                       Mean   : 3.246   Mean   : -1.74         \n",
      "                                       3rd Qu.: 4.000   3rd Qu.: -1.00         \n",
      "                                       Max.   :38.000   Max.   : 30.00         \n",
      "  decile_score       is_recid      two_year_recid  \n",
      " Min.   : 1.000   Min.   :0.0000   Min.   :0.0000  \n",
      " 1st Qu.: 2.000   1st Qu.:0.0000   1st Qu.:0.0000  \n",
      " Median : 4.000   Median :0.0000   Median :0.0000  \n",
      " Mean   : 4.419   Mean   :0.4844   Mean   :0.4551  \n",
      " 3rd Qu.: 7.000   3rd Qu.:1.0000   3rd Qu.:1.0000  \n",
      " Max.   :10.000   Max.   :1.0000   Max.   :1.0000  \n",
      "   c_jail_in                     c_jail_out                  length_of_stay  \n",
      " Min.   :2013-01-01 01:31:55   Min.   :2013-01-02 01:12:01   Min.   :  0.00  \n",
      " 1st Qu.:2013-04-02 11:43:48   1st Qu.:2013-04-17 10:10:57   1st Qu.:  1.00  \n",
      " Median :2013-09-11 10:30:31   Median :2013-09-26 09:32:58   Median :  1.00  \n",
      " Mean   :2013-09-19 23:20:05   Mean   :2013-10-05 02:00:13   Mean   : 15.11  \n",
      " 3rd Qu.:2014-01-24 10:44:57   3rd Qu.:2014-02-04 04:27:03   3rd Qu.:  6.00  \n",
      " Max.   :2015-01-10 02:50:22   Max.   :2015-10-13 07:10:00   Max.   :800.00  \n"
     ]
    }
   ],
   "source": [
    "%%R\n",
    "summary(df)"
   ]
  },
  {
   "cell_type": "code",
   "execution_count": 11,
   "metadata": {
    "collapsed": false
   },
   "outputs": [
    {
     "name": "stdout",
     "output_type": "stream",
     "text": [
      "Men: 80.96%\n",
      "Women: 19.04%\n"
     ]
    }
   ],
   "source": [
    "print(\"Men: %.2f%%\" %   (4997 / 6172 * 100))\n",
    "print(\"Women: %.2f%%\" % (1175 / 6172 * 100))"
   ]
  },
  {
   "cell_type": "code",
   "execution_count": 12,
   "metadata": {
    "collapsed": false,
    "scrolled": true
   },
   "outputs": [
    {
     "name": "stdout",
     "output_type": "stream",
     "text": [
      "# A tibble: 2 x 2\n",
      "  two_year_recid     n\n",
      "           <dbl> <int>\n",
      "1              0  3363\n",
      "2              1  2809\n"
     ]
    }
   ],
   "source": [
    "%%R\n",
    "count(df, two_year_recid)"
   ]
  },
  {
   "cell_type": "code",
   "execution_count": 13,
   "metadata": {
    "collapsed": false
   },
   "outputs": [
    {
     "name": "stdout",
     "output_type": "stream",
     "text": [
      "Nao Reincidiram: 54.48801 %\n",
      "Reincidiram: 45.51199 %"
     ]
    }
   ],
   "source": [
    "%%R\n",
    "percent0 = nrow(filter(df, two_year_recid == 0)) / nrow(df) * 100\n",
    "percent1 = nrow(filter(df, two_year_recid == 1)) / nrow(df) * 100\n",
    "\n",
    "cat('Nao Reincidiram:', percent0, '%\\nReincidiram:', percent1, '%')"
   ]
  },
  {
   "cell_type": "markdown",
   "metadata": {},
   "source": [
    "Judges are often presented with two sets of scores from the Compas system -- one that classifies people into High, Medium and Low risk, and a corresponding decile score. There is a clear downward trend in the decile scores as those scores increase for white defendants.\n",
    "\n",
    "---\n",
    "Os juízes geralmente são apresentados a dois conjuntos de pontuações do sistema Compas – um que classifica as pessoas em alto, médio e baixo risco, e uma pontuação de decil correspondente. Há uma clara tendência de queda nas pontuações dos decis à medida que essas pontuações aumentam para réus brancos."
   ]
  },
  {
   "cell_type": "code",
   "execution_count": 14,
   "metadata": {
    "collapsed": false
   },
   "outputs": [
    {
     "name": "stderr",
     "output_type": "stream",
     "text": [
      "R[write to console]: \n",
      "Attaching package: 'gridExtra'\n",
      "\n",
      "\n",
      "R[write to console]: The following object is masked from 'package:dplyr':\n",
      "\n",
      "    combine\n",
      "\n",
      "\n"
     ]
    },
    {
     "data": {
      "image/png": "[encoded data removed]"
     },
     "metadata": {},
     "output_type": "display_data"
    }
   ],
   "source": [
    "%%R -w 1000 -h 363 -u px\n",
    "library(grid)\n",
    "library(gridExtra)\n",
    "pblack <- ggplot(data=filter(df, race ==\"African-American\"), aes(ordered(decile_score))) +\n",
    "    geom_bar() +\n",
    "    xlab(\"Decile Score\") +\n",
    "    ylim(0, 650) +\n",
    "    ggtitle(\"Black Defendant's Decile Scores\")\n",
    "\n",
    "pwhite <- ggplot(data=filter(df, race ==\"Caucasian\"), aes(ordered(decile_score))) + \n",
    "    geom_bar() +\n",
    "    xlab(\"Decile Score\") +\n",
    "    ylim(0, 650) +\n",
    "    ggtitle(\"White Defendant's Decile Scores\")\n",
    "\n",
    "phisp <- ggplot(data=filter(df, race ==\"Hispanic\"), aes(ordered(decile_score))) + \n",
    "    geom_bar() +\n",
    "    xlab(\"Decile Score\") +\n",
    "    ylim(0, 650) +\n",
    "    ggtitle(\"Hispanic Defendant's Decile Scores\")\n",
    "\n",
    "grid.arrange(pblack, pwhite, phisp,  ncol = 3)"
   ]
  },
  {
   "cell_type": "code",
   "execution_count": 15,
   "metadata": {
    "collapsed": false
   },
   "outputs": [
    {
     "name": "stdout",
     "output_type": "stream",
     "text": [
      "            race\n",
      "decile_score African-American Asian Caucasian Hispanic Native American Other\n",
      "          1               365    15       605      159               0   142\n",
      "          2               346     4       321       89               2    60\n",
      "          3               298     5       238       73               1    32\n",
      "          4               337     0       243       47               0    39\n",
      "          5               323     1       200       39               0    19\n",
      "          6               318     2       160       27               2    20\n",
      "          7               343     1       113       28               2     9\n",
      "          8               301     2        96       14               0     7\n",
      "          9               317     0        77       17               2     7\n",
      "          10              227     1        50       16               2     8\n"
     ]
    }
   ],
   "source": [
    "%%R\n",
    "xtabs(~ decile_score + race, data=df)"
   ]
  },
  {
   "cell_type": "markdown",
   "metadata": {},
   "source": [
    "## Racial Bias in Compas\n",
    "\n",
    "After filtering out bad rows, our first question is whether there is a significant difference in Compas scores between races. To do so we need to change some variables into factors, and run a logistic regression, comparing low scores to high scores.\n",
    "\n",
    "---\n",
    "## Preconceito Racial em Compas\n",
    "\n",
    "Depois de filtrar as linhas ruins, nossa primeira pergunta é se há uma diferença significativa nas pontuações do Compas entre raças. Para isso, precisamos transformar algumas variáveis em fatores e executar uma regressão logística, comparando pontuações baixas com pontuações altas."
   ]
  },
  {
   "cell_type": "code",
   "execution_count": 16,
   "metadata": {
    "collapsed": false,
    "scrolled": false
   },
   "outputs": [
    {
     "name": "stdout",
     "output_type": "stream",
     "text": [
      "\n",
      "Call:\n",
      "glm(formula = score_factor ~ gender_factor + age_factor + race_factor + \n",
      "    priors_count + crime_factor + two_year_recid, family = \"binomial\", \n",
      "    data = df)\n",
      "\n",
      "Deviance Residuals: \n",
      "    Min       1Q   Median       3Q      Max  \n",
      "-2.9966  -0.7919  -0.3303   0.8121   2.6024  \n",
      "\n",
      "Coefficients:\n",
      "                            Estimate Std. Error z value Pr(>|z|)    \n",
      "(Intercept)                 -1.52554    0.07851 -19.430  < 2e-16 ***\n",
      "gender_factorFemale          0.22127    0.07951   2.783 0.005388 ** \n",
      "age_factorGreater than 45   -1.35563    0.09908 -13.682  < 2e-16 ***\n",
      "age_factorLess than 25       1.30839    0.07593  17.232  < 2e-16 ***\n",
      "race_factorAfrican-American  0.47721    0.06935   6.881 5.93e-12 ***\n",
      "race_factorAsian            -0.25441    0.47821  -0.532 0.594717    \n",
      "race_factorHispanic         -0.42839    0.12813  -3.344 0.000827 ***\n",
      "race_factorNative American   1.39421    0.76612   1.820 0.068784 .  \n",
      "race_factorOther            -0.82635    0.16208  -5.098 3.43e-07 ***\n",
      "priors_count                 0.26895    0.01110  24.221  < 2e-16 ***\n",
      "crime_factorM               -0.31124    0.06655  -4.677 2.91e-06 ***\n",
      "two_year_recid               0.68586    0.06402  10.713  < 2e-16 ***\n",
      "---\n",
      "Signif. codes:  0 '***' 0.001 '**' 0.01 '*' 0.05 '.' 0.1 ' ' 1\n",
      "\n",
      "(Dispersion parameter for binomial family taken to be 1)\n",
      "\n",
      "    Null deviance: 8483.3  on 6171  degrees of freedom\n",
      "Residual deviance: 6168.4  on 6160  degrees of freedom\n",
      "AIC: 6192.4\n",
      "\n",
      "Number of Fisher Scoring iterations: 5\n",
      "\n"
     ]
    }
   ],
   "source": [
    "%%R\n",
    "df <- mutate(df, crime_factor = factor(c_charge_degree)) %>%\n",
    "      mutate(age_factor = as.factor(age_cat)) %>%\n",
    "      within(age_factor <- relevel(age_factor, ref = 1)) %>%\n",
    "      mutate(race_factor = factor(race)) %>%\n",
    "      within(race_factor <- relevel(race_factor, ref = 3)) %>%\n",
    "      mutate(gender_factor = factor(sex, labels= c(\"Female\",\"Male\"))) %>%\n",
    "      within(gender_factor <- relevel(gender_factor, ref = 2)) %>%\n",
    "      mutate(score_factor = factor(score_text != \"Low\", labels = c(\"LowScore\",\"HighScore\")))\n",
    "model <- glm(score_factor ~ gender_factor + age_factor + race_factor + priors_count + crime_factor + two_year_recid, family=\"binomial\", data=df)\n",
    "summary(model)"
   ]
  },
  {
   "cell_type": "markdown",
   "metadata": {},
   "source": [
    "Black defendants are 45% more likely than white defendants to receive a higher score correcting for the seriousness of their crime, previous arrests, and future criminal behavior.\n",
    "\n",
    "---\n",
    "Os réus negros são 45% mais propensos do que os réus brancos a receber uma pontuação mais alta corrigindo a gravidade de seu crime, prisões anteriores e comportamento criminoso futuro."
   ]
  },
  {
   "cell_type": "code",
   "execution_count": 17,
   "metadata": {},
   "outputs": [
    {
     "name": "stdout",
     "output_type": "stream",
     "text": [
      "[1] 1.611572\n"
     ]
    }
   ],
   "source": [
    "%%R\n",
    "exp(0.47721)"
   ]
  },
  {
   "cell_type": "code",
   "execution_count": 18,
   "metadata": {
    "collapsed": false
   },
   "outputs": [
    {
     "name": "stdout",
     "output_type": "stream",
     "text": [
      "[1] 1.452841\n"
     ]
    }
   ],
   "source": [
    "%%R\n",
    "# 0.2175036 / (1 + 0.2175036) = 0.1786472\n",
    "control <- exp(-1.52554) / (1 + exp(-1.52554))\n",
    "\n",
    "# 1.611572 (african-american race) / (1 - 0.1786472 + (0.1786472 * 1.611572) = 1.452841\n",
    "exp(0.47721) / (1 - control + (control * exp(0.47721)))"
   ]
  },
  {
   "cell_type": "markdown",
   "metadata": {
    "collapsed": false
   },
   "source": [
    "Women are 19.4% more likely than men to get a higher score.\n",
    "\n",
    "---\n",
    "As mulheres são 19,4% mais propensas do que os homens a obter uma pontuação mais alta."
   ]
  },
  {
   "cell_type": "code",
   "execution_count": 19,
   "metadata": {
    "collapsed": false
   },
   "outputs": [
    {
     "name": "stdout",
     "output_type": "stream",
     "text": [
      "[1] 1.194798\n"
     ]
    }
   ],
   "source": [
    "%%R\n",
    "exp(0.22127) / (1 - control + (control * exp(0.22127)))"
   ]
  },
  {
   "cell_type": "markdown",
   "metadata": {},
   "source": [
    "Most surprisingly, people under 25 are 2.5 times as likely to get a higher score as middle aged defendants.\n",
    "\n",
    "---\n",
    "O mais surpreendente é que as pessoas com menos de 25 anos têm 2,5 vezes mais chances de obter uma pontuação mais alta do que os réus de meia-idade."
   ]
  },
  {
   "cell_type": "code",
   "execution_count": 20,
   "metadata": {
    "collapsed": false
   },
   "outputs": [
    {
     "name": "stdout",
     "output_type": "stream",
     "text": [
      "[1] 2.49612\n"
     ]
    }
   ],
   "source": [
    "%%R\n",
    "exp(1.30839) / (1 - control + (control * exp(1.30839)))"
   ]
  },
  {
   "cell_type": "markdown",
   "metadata": {},
   "source": [
    "### Risk of Violent Recidivism\n",
    "\n",
    "Compas also offers a score that aims to measure a persons risk of violent recidivism, which has a similar overall accuracy to the Recidivism score. As before, we can use a logistic regression to test for racial bias.\n",
    "\n",
    "---\n",
    "### Risco de reincidência violenta\n",
    "\n",
    "O Compas também oferece uma pontuação que visa medir o risco de reincidência violenta de uma pessoa, que tem uma precisão geral semelhante à pontuação de reincidência. Como antes, podemos usar uma regressão logística para testar o viés racial."
   ]
  },
  {
   "cell_type": "code",
   "execution_count": 21,
   "metadata": {
    "collapsed": false
   },
   "outputs": [
    {
     "name": "stdout",
     "output_type": "stream",
     "text": [
      "[1] 4743\n"
     ]
    }
   ],
   "source": [
    "%%R\n",
    "raw_data <- read.csv(\"./compas-scores-two-years-violent.csv\")\n",
    "nrow(raw_data)"
   ]
  },
  {
   "cell_type": "code",
   "execution_count": 22,
   "metadata": {
    "collapsed": false
   },
   "outputs": [
    {
     "name": "stdout",
     "output_type": "stream",
     "text": [
      "[1] 4020\n"
     ]
    }
   ],
   "source": [
    "%%R\n",
    "df <- dplyr::select(raw_data, age, c_charge_degree, race, age_cat, v_score_text, sex, priors_count, days_b_screening_arrest, v_decile_score, is_recid, two_year_recid) %>% \n",
    "        filter(days_b_screening_arrest <= 30) %>%\n",
    "        filter(days_b_screening_arrest >= -30) %>% \n",
    "        filter(is_recid != -1) %>%\n",
    "        filter(c_charge_degree != \"O\") %>%\n",
    "        filter(v_score_text != 'N/A')\n",
    "nrow(df)"
   ]
  },
  {
   "cell_type": "code",
   "execution_count": 23,
   "metadata": {
    "collapsed": false
   },
   "outputs": [
    {
     "name": "stdout",
     "output_type": "stream",
     "text": [
      "          age_cat    n\n",
      "1         25 - 45 2300\n",
      "2 Greater than 45  954\n",
      "3    Less than 25  766\n"
     ]
    }
   ],
   "source": [
    "%%R\n",
    "count(df,age_cat)"
   ]
  },
  {
   "cell_type": "code",
   "execution_count": 24,
   "metadata": {
    "collapsed": false
   },
   "outputs": [
    {
     "name": "stdout",
     "output_type": "stream",
     "text": [
      "              race    n\n",
      "1 African-American 1918\n",
      "2            Asian   26\n",
      "3        Caucasian 1459\n",
      "4         Hispanic  355\n",
      "5  Native American    7\n",
      "6            Other  255\n"
     ]
    }
   ],
   "source": [
    "%%R\n",
    "count(df,race)"
   ]
  },
  {
   "cell_type": "code",
   "execution_count": 25,
   "metadata": {
    "collapsed": false
   },
   "outputs": [
    {
     "name": "stdout",
     "output_type": "stream",
     "text": [
      "  v_score_text    n\n",
      "1         High  279\n",
      "2          Low 2913\n",
      "3       Medium  828\n"
     ]
    }
   ],
   "source": [
    "%%R\n",
    "count(df,v_score_text)"
   ]
  },
  {
   "cell_type": "code",
   "execution_count": 26,
   "metadata": {
    "collapsed": false
   },
   "outputs": [
    {
     "name": "stdout",
     "output_type": "stream",
     "text": [
      "[1] 16.21891\n"
     ]
    }
   ],
   "source": [
    "%%R\n",
    "nrow(filter(df, two_year_recid == 1)) / nrow(df) * 100"
   ]
  },
  {
   "cell_type": "code",
   "execution_count": 27,
   "metadata": {
    "collapsed": false
   },
   "outputs": [
    {
     "name": "stdout",
     "output_type": "stream",
     "text": [
      "[1] 652\n"
     ]
    }
   ],
   "source": [
    "%%R\n",
    "nrow(filter(df, two_year_recid == 1))"
   ]
  },
  {
   "cell_type": "code",
   "execution_count": 28,
   "metadata": {
    "collapsed": false
   },
   "outputs": [
    {
     "data": {
      "image/png": "[encoded data removed]"
     },
     "metadata": {},
     "output_type": "display_data"
    }
   ],
   "source": [
    "%%R -w 900 -h 363 -u px\n",
    "library(grid)\n",
    "library(gridExtra)\n",
    "\n",
    "pblack <- ggplot(data=filter(df, race ==\"African-American\"), aes(ordered(v_decile_score))) +\n",
    "    geom_bar() + xlab(\"Violent Decile Score\") +\n",
    "    ylim(0, 700) + ggtitle(\"Black Defendant's Violent Decile Scores\")\n",
    "\n",
    "pwhite <- ggplot(data=filter(df, race ==\"Caucasian\"), aes(ordered(v_decile_score))) +\n",
    "    geom_bar() + xlab(\"Violent Decile Score\") +\n",
    "    ylim(0, 700) + ggtitle(\"White Defendant's Violent Decile Scores\")\n",
    "grid.arrange(pblack, pwhite,  ncol = 2)"
   ]
  },
  {
   "cell_type": "code",
   "execution_count": 29,
   "metadata": {
    "collapsed": false
   },
   "outputs": [
    {
     "name": "stdout",
     "output_type": "stream",
     "text": [
      "\n",
      "Call:\n",
      "glm(formula = score_factor ~ gender_factor + age_factor + race_factor + \n",
      "    priors_count + crime_factor + two_year_recid, family = \"binomial\", \n",
      "    data = df)\n",
      "\n",
      "Deviance Residuals: \n",
      "    Min       1Q   Median       3Q      Max  \n",
      "-2.9304  -0.5667  -0.3161   0.4192   2.8386  \n",
      "\n",
      "Coefficients:\n",
      "                            Estimate Std. Error z value Pr(>|z|)    \n",
      "(Intercept)                 -2.24274    0.11326 -19.802  < 2e-16 ***\n",
      "gender_factorFemale         -0.72890    0.12666  -5.755 8.66e-09 ***\n",
      "age_factorGreater than 45   -1.74208    0.18415  -9.460  < 2e-16 ***\n",
      "age_factorLess than 25       3.14591    0.11541  27.259  < 2e-16 ***\n",
      "race_factorAfrican-American  0.65893    0.10815   6.093 1.11e-09 ***\n",
      "race_factorAsian            -0.98521    0.70537  -1.397   0.1625    \n",
      "race_factorHispanic         -0.06416    0.19133  -0.335   0.7374    \n",
      "race_factorNative American   0.44793    1.03546   0.433   0.6653    \n",
      "race_factorOther            -0.20543    0.22464  -0.914   0.3605    \n",
      "priors_count                 0.13764    0.01161  11.854  < 2e-16 ***\n",
      "crime_factorM               -0.16367    0.09807  -1.669   0.0951 .  \n",
      "two_year_recid               0.93448    0.11527   8.107 5.20e-16 ***\n",
      "---\n",
      "Signif. codes:  0 '***' 0.001 '**' 0.01 '*' 0.05 '.' 0.1 ' ' 1\n",
      "\n",
      "(Dispersion parameter for binomial family taken to be 1)\n",
      "\n",
      "    Null deviance: 4731.8  on 4019  degrees of freedom\n",
      "Residual deviance: 2998.8  on 4008  degrees of freedom\n",
      "AIC: 3022.8\n",
      "\n",
      "Number of Fisher Scoring iterations: 6\n",
      "\n"
     ]
    }
   ],
   "source": [
    "%%R\n",
    "df <- mutate(df, crime_factor = factor(c_charge_degree)) %>%\n",
    "      mutate(age_factor = as.factor(age_cat)) %>%\n",
    "      within(age_factor <- relevel(age_factor, ref = 1)) %>%\n",
    "      mutate(race_factor = factor(race,\n",
    "                                  labels = c(\"African-American\", \n",
    "                                             \"Asian\",\n",
    "                                             \"Caucasian\", \n",
    "                                             \"Hispanic\", \n",
    "                                             \"Native American\",\n",
    "                                             \"Other\"))) %>%\n",
    "      within(race_factor <- relevel(race_factor, ref = 3)) %>%\n",
    "      mutate(gender_factor = factor(sex, labels= c(\"Female\",\"Male\"))) %>%\n",
    "      within(gender_factor <- relevel(gender_factor, ref = 2)) %>%\n",
    "      mutate(score_factor = factor(v_score_text != \"Low\", labels = c(\"LowScore\",\"HighScore\")))\n",
    "model <- glm(score_factor ~ gender_factor + age_factor + race_factor +\n",
    "                            priors_count + crime_factor + two_year_recid, family=\"binomial\", data=df)\n",
    "summary(model)"
   ]
  },
  {
   "cell_type": "markdown",
   "metadata": {},
   "source": [
    "The violent score overpredicts recidivism for black defendants by 77.3% compared to white defendants.\n",
    "\n",
    "---\n",
    "A pontuação violenta supera a reincidência para réus negros em 77,3% em comparação com réus brancos."
   ]
  },
  {
   "cell_type": "code",
   "execution_count": 30,
   "metadata": {
    "collapsed": false
   },
   "outputs": [
    {
     "name": "stdout",
     "output_type": "stream",
     "text": [
      "[1] 1.773921\n"
     ]
    }
   ],
   "source": [
    "%%R\n",
    "control <- exp(-2.24274) / (1 + exp(-2.24274))\n",
    "exp(0.65893) / (1 - control + (control * exp(0.65893)))"
   ]
  },
  {
   "cell_type": "markdown",
   "metadata": {},
   "source": [
    "Defendands under 25 are 7.4 times as likely to get a higher score as middle aged defendants.\n",
    "\n",
    "---\n",
    "Os réus com menos de 25 anos tem 7,4 vezes mais chances de obter uma pontuação mais alta do que os réus de meia-idade."
   ]
  },
  {
   "cell_type": "code",
   "execution_count": 31,
   "metadata": {
    "collapsed": false
   },
   "outputs": [
    {
     "name": "stdout",
     "output_type": "stream",
     "text": [
      "[1] 7.41424\n"
     ]
    }
   ],
   "source": [
    "%%R\n",
    "exp(3.14591) / (1 - control + (control * exp(3.14591)))"
   ]
  },
  {
   "cell_type": "markdown",
   "metadata": {},
   "source": [
    "## Predictive Accuracy of COMPAS\n",
    "\n",
    "In order to test whether Compas scores do an accurate job of deciding whether an offender is Low, Medium or High risk,  we ran a Cox Proportional Hazards model. Northpointe, the company that created COMPAS and markets it to Law Enforcement, also ran a Cox model in their [validation study](http://cjb.sagepub.com/content/36/1/21.abstract).\n",
    "\n",
    "We used the counting model and removed people when they were incarcerated. Due to errors in the underlying jail data, we need to filter out 32 rows that have an end date more than the start date. Considering that there are 13,334 total rows in the data, such a small amount of errors will not affect the results.\n",
    "\n",
    "---\n",
    "## Precisão Preditiva do COMPAS\n",
    "\n",
    "Para testar se as pontuações do Compas fazem um trabalho preciso ao decidir se um infrator é de risco baixo, médio ou alto, executamos um modelo de riscos proporcionais de Cox. A Northpointe, a empresa que criou o COMPAS e o comercializa para a Polícia, também executou um modelo Cox em seu [estudo de validação] (http://cjb.sagepub.com/content/36/1/21.abstract).\n",
    "\n",
    "Usamos o modelo de contagem e removemos as pessoas quando estavam encarceradas. Devido a erros nos dados de prisões subjacentes, precisamos filtrar 32 linhas que têm uma data de término maior que a data de início. Considerando que existem 13.334 linhas totais nos dados, uma quantidade tão pequena de erros não afetará os resultados."
   ]
  },
  {
   "cell_type": "code",
   "execution_count": 32,
   "metadata": {
    "collapsed": false
   },
   "outputs": [
    {
     "name": "stdout",
     "output_type": "stream",
     "text": [
      "[1] 10314\n"
     ]
    }
   ],
   "source": [
    "%%R\n",
    "library(survival)\n",
    "library(ggfortify)\n",
    "\n",
    "data <- filter(filter(read.csv(\"./cox-parsed.csv\"), score_text != \"N/A\"), end > start) %>%\n",
    "        mutate(race_factor = factor(race,\n",
    "                                  labels = c(\"African-American\", \n",
    "                                             \"Asian\",\n",
    "                                             \"Caucasian\", \n",
    "                                             \"Hispanic\", \n",
    "                                             \"Native American\",\n",
    "                                             \"Other\"))) %>%\n",
    "        within(race_factor <- relevel(race_factor, ref = 3)) %>%\n",
    "        mutate(score_factor = factor(score_text)) %>%\n",
    "        within(score_factor <- relevel(score_factor, ref=2))\n",
    "\n",
    "grp <- data[!duplicated(data$id),]\n",
    "nrow(grp)"
   ]
  },
  {
   "cell_type": "code",
   "execution_count": 33,
   "metadata": {
    "collapsed": false
   },
   "outputs": [
    {
     "name": "stdout",
     "output_type": "stream",
     "text": [
      "   Low   High Medium \n",
      "  5751   1952   2611 \n"
     ]
    }
   ],
   "source": [
    "%%R\n",
    "summary(grp$score_factor)"
   ]
  },
  {
   "cell_type": "code",
   "execution_count": 34,
   "metadata": {
    "collapsed": false
   },
   "outputs": [
    {
     "name": "stdout",
     "output_type": "stream",
     "text": [
      "       Caucasian African-American            Asian         Hispanic \n",
      "            3569             5147               51              944 \n",
      " Native American            Other \n",
      "              32              571 \n"
     ]
    }
   ],
   "source": [
    "%%R\n",
    "summary(grp$race_factor)"
   ]
  },
  {
   "cell_type": "code",
   "execution_count": 35,
   "metadata": {},
   "outputs": [
    {
     "name": "stdout",
     "output_type": "stream",
     "text": [
      "# A tibble: 10 x 1\n",
      "   decile_score\n",
      "          <int>\n",
      " 1         2206\n",
      " 2         1384\n",
      " 3         1094\n",
      " 4         1067\n",
      " 5          922\n",
      " 6          881\n",
      " 7          808\n",
      " 8          712\n",
      " 9          706\n",
      "10          534\n"
     ]
    }
   ],
   "source": [
    "%%R\n",
    "#summary(grp$decile_score)\n",
    "grp %>% \n",
    "  group_by(decile_score) %>%\n",
    "  summarise(decile_score=n())"
   ]
  },
  {
   "cell_type": "code",
   "execution_count": 36,
   "metadata": {
    "collapsed": false
   },
   "outputs": [
    {
     "name": "stdout",
     "output_type": "stream",
     "text": [
      "Call:\n",
      "coxph(formula = f, data = grp)\n",
      "\n",
      "  n= 10314, number of events= 2759 \n",
      "\n",
      "                      coef exp(coef) se(coef)     z Pr(>|z|)    \n",
      "score_factorHigh   1.24301   3.46603  0.04712 26.38   <2e-16 ***\n",
      "score_factorMedium 0.81404   2.25701  0.04518 18.02   <2e-16 ***\n",
      "---\n",
      "Signif. codes:  0 '***' 0.001 '**' 0.01 '*' 0.05 '.' 0.1 ' ' 1\n",
      "\n",
      "                   exp(coef) exp(-coef) lower .95 upper .95\n",
      "score_factorHigh       3.466     0.2885     3.160     3.801\n",
      "score_factorMedium     2.257     0.4431     2.066     2.466\n",
      "\n",
      "Concordance= 0.635  (se = 0.005 )\n",
      "Likelihood ratio test= 737.5  on 2 df,   p=<2e-16\n",
      "Wald test            = 751.8  on 2 df,   p=<2e-16\n",
      "Score (logrank) test = 828.2  on 2 df,   p=<2e-16\n",
      "\n"
     ]
    }
   ],
   "source": [
    "%%R\n",
    "# cria um modelo de sobrevivência utilizando start e end\n",
    "f <- Surv(start, end, event, type=\"counting\") ~ score_factor\n",
    "model <- coxph(f, data=grp)\n",
    "summary(model)"
   ]
  },
  {
   "cell_type": "markdown",
   "metadata": {},
   "source": [
    "People placed in the High category are 3.5 times as likely to recidivate, and the COMPAS system's concordance 63.6%. This is lower than the accuracy quoted in the Northpoint study of 68%.\n",
    "\n",
    "---\n",
    "As pessoas colocadas na categoria Alta têm 3,5 vezes mais chances de reincidência, e a concordância do sistema COMPAS 63,6%. Isso é menor do que a precisão citada no estudo Northpoint de 68%."
   ]
  },
  {
   "cell_type": "code",
   "execution_count": 37,
   "metadata": {
    "collapsed": false
   },
   "outputs": [
    {
     "name": "stdout",
     "output_type": "stream",
     "text": [
      "Call:\n",
      "coxph(formula = decile_f, data = data)\n",
      "\n",
      "  n= 13344, number of events= 3469 \n",
      "\n",
      "                 coef exp(coef) se(coef)     z Pr(>|z|)    \n",
      "decile_score 0.194931  1.215228 0.005801 33.61   <2e-16 ***\n",
      "---\n",
      "Signif. codes:  0 '***' 0.001 '**' 0.01 '*' 0.05 '.' 0.1 ' ' 1\n",
      "\n",
      "             exp(coef) exp(-coef) lower .95 upper .95\n",
      "decile_score     1.215     0.8229     1.201     1.229\n",
      "\n",
      "Concordance= 0.664  (se = 0.005 )\n",
      "Likelihood ratio test= 1112  on 1 df,   p=<2e-16\n",
      "Wald test            = 1129  on 1 df,   p=<2e-16\n",
      "Score (logrank) test = 1208  on 1 df,   p=<2e-16\n",
      "\n"
     ]
    }
   ],
   "source": [
    "%%R\n",
    "decile_f <- Surv(start, end, event, type=\"counting\") ~ decile_score\n",
    "dmodel <- coxph(decile_f, data=data)\n",
    "summary(dmodel)"
   ]
  },
  {
   "cell_type": "markdown",
   "metadata": {},
   "source": [
    "COMPAS's decile scores are a bit more accurate at 66%.\n",
    "\n",
    "We can test if the algorithm is behaving differently across races by including a race interaction term in the cox model.\n",
    "\n",
    "---\n",
    "As pontuações decis do COMPAS são um pouco mais precisas em 66%.\n",
    "\n",
    "Podemos testar se o algoritmo está se comportando de maneira diferente entre as raças, incluindo um termo de interação de raça no modelo cox."
   ]
  },
  {
   "cell_type": "code",
   "execution_count": 38,
   "metadata": {
    "collapsed": false,
    "scrolled": false
   },
   "outputs": [
    {
     "name": "stdout",
     "output_type": "stream",
     "text": [
      "Call:\n",
      "coxph(formula = f2, data = data)\n",
      "\n",
      "  n= 13344, number of events= 3469 \n",
      "\n",
      "                                                   coef exp(coef) se(coef)\n",
      "race_factorAfrican-American                     0.27879   1.32154  0.06080\n",
      "race_factorAsian                               -0.77694   0.45981  0.50200\n",
      "race_factorHispanic                            -0.06352   0.93846  0.09673\n",
      "race_factorNative American                     -1.25468   0.28517  1.00100\n",
      "race_factorOther                                0.01419   1.01429  0.11049\n",
      "score_factorHigh                                1.28350   3.60927  0.08357\n",
      "score_factorMedium                              0.84286   2.32301  0.07142\n",
      "race_factorAfrican-American:score_factorHigh   -0.18976   0.82716  0.09985\n",
      "race_factorAsian:score_factorHigh               1.31556   3.72684  0.76835\n",
      "race_factorHispanic:score_factorHigh           -0.11913   0.88769  0.19833\n",
      "race_factorNative American:score_factorHigh     1.95571   7.06896  1.08336\n",
      "race_factorOther:score_factorHigh               0.41455   1.51369  0.25921\n",
      "race_factorAfrican-American:score_factorMedium -0.17261   0.84147  0.09097\n",
      "race_factorAsian:score_factorMedium             0.98619   2.68101  0.71072\n",
      "race_factorHispanic:score_factorMedium          0.06529   1.06747  0.16415\n",
      "race_factorNative American:score_factorMedium   1.38965   4.01345  1.12032\n",
      "race_factorOther:score_factorMedium            -0.33393   0.71610  0.23188\n",
      "                                                    z Pr(>|z|)    \n",
      "race_factorAfrican-American                     4.586 4.52e-06 ***\n",
      "race_factorAsian                               -1.548   0.1217    \n",
      "race_factorHispanic                            -0.657   0.5114    \n",
      "race_factorNative American                     -1.253   0.2101    \n",
      "race_factorOther                                0.128   0.8978    \n",
      "score_factorHigh                               15.358  < 2e-16 ***\n",
      "score_factorMedium                             11.801  < 2e-16 ***\n",
      "race_factorAfrican-American:score_factorHigh   -1.900   0.0574 .  \n",
      "race_factorAsian:score_factorHigh               1.712   0.0869 .  \n",
      "race_factorHispanic:score_factorHigh           -0.601   0.5480    \n",
      "race_factorNative American:score_factorHigh     1.805   0.0710 .  \n",
      "race_factorOther:score_factorHigh               1.599   0.1098    \n",
      "race_factorAfrican-American:score_factorMedium -1.897   0.0578 .  \n",
      "race_factorAsian:score_factorMedium             1.388   0.1653    \n",
      "race_factorHispanic:score_factorMedium          0.398   0.6908    \n",
      "race_factorNative American:score_factorMedium   1.240   0.2148    \n",
      "race_factorOther:score_factorMedium            -1.440   0.1498    \n",
      "---\n",
      "Signif. codes:  0 '***' 0.001 '**' 0.01 '*' 0.05 '.' 0.1 ' ' 1\n",
      "\n",
      "                                               exp(coef) exp(-coef) lower .95\n",
      "race_factorAfrican-American                       1.3215     0.7567   1.17308\n",
      "race_factorAsian                                  0.4598     2.1748   0.17190\n",
      "race_factorHispanic                               0.9385     1.0656   0.77638\n",
      "race_factorNative American                        0.2852     3.5067   0.04009\n",
      "race_factorOther                                  1.0143     0.9859   0.81680\n",
      "score_factorHigh                                  3.6093     0.2771   3.06395\n",
      "score_factorMedium                                2.3230     0.4305   2.01956\n",
      "race_factorAfrican-American:score_factorHigh      0.8272     1.2090   0.68014\n",
      "race_factorAsian:score_factorHigh                 3.7268     0.2683   0.82664\n",
      "race_factorHispanic:score_factorHigh              0.8877     1.1265   0.60179\n",
      "race_factorNative American:score_factorHigh       7.0690     0.1415   0.84566\n",
      "race_factorOther:score_factorHigh                 1.5137     0.6606   0.91075\n",
      "race_factorAfrican-American:score_factorMedium    0.8415     1.1884   0.70405\n",
      "race_factorAsian:score_factorMedium               2.6810     0.3730   0.66579\n",
      "race_factorHispanic:score_factorMedium            1.0675     0.9368   0.77380\n",
      "race_factorNative American:score_factorMedium     4.0135     0.2492   0.44658\n",
      "race_factorOther:score_factorMedium               0.7161     1.3964   0.45457\n",
      "                                               upper .95\n",
      "race_factorAfrican-American                        1.489\n",
      "race_factorAsian                                   1.230\n",
      "race_factorHispanic                                1.134\n",
      "race_factorNative American                         2.028\n",
      "race_factorOther                                   1.260\n",
      "score_factorHigh                                   4.252\n",
      "score_factorMedium                                 2.672\n",
      "race_factorAfrican-American:score_factorHigh       1.006\n",
      "race_factorAsian:score_factorHigh                 16.802\n",
      "race_factorHispanic:score_factorHigh               1.309\n",
      "race_factorNative American:score_factorHigh       59.090\n",
      "race_factorOther:score_factorHigh                  2.516\n",
      "race_factorAfrican-American:score_factorMedium     1.006\n",
      "race_factorAsian:score_factorMedium               10.796\n",
      "race_factorHispanic:score_factorMedium             1.473\n",
      "race_factorNative American:score_factorMedium     36.069\n",
      "race_factorOther:score_factorMedium                1.128\n",
      "\n",
      "Concordance= 0.646  (se = 0.005 )\n",
      "Likelihood ratio test= 993.7  on 17 df,   p=<2e-16\n",
      "Wald test            = 988.8  on 17 df,   p=<2e-16\n",
      "Score (logrank) test = 1105  on 17 df,   p=<2e-16\n",
      "\n"
     ]
    }
   ],
   "source": [
    "%%R\n",
    "f2 <- Surv(start, end, event, type=\"counting\") ~ race_factor + score_factor + race_factor * score_factor\n",
    "model <- coxph(f2, data=data)\n",
    "print(summary(model))"
   ]
  },
  {
   "cell_type": "markdown",
   "metadata": {},
   "source": [
    "The interaction term shows a similar disparity as the logistic regression above.\n",
    "\n",
    "High risk white defendants are 3.61 more likely than low risk white defendants, while High risk black defendants are 2.99 more likely than low.\n",
    "\n",
    "---\n",
    "O termo de interação mostra uma disparidade semelhante à regressão logística acima.\n",
    "\n",
    "Os réus brancos de alto risco são 3,61 mais prováveis do que os réus brancos de baixo risco, enquanto os réus negros de alto risco são 2,99 mais prováveis do que os de baixo risco."
   ]
  },
  {
   "cell_type": "code",
   "execution_count": 39,
   "metadata": {
    "collapsed": false
   },
   "outputs": [
    {
     "name": "stdout",
     "output_type": "stream",
     "text": [
      "Black High Hazard: 2.99\n",
      "White High Hazard: 3.61\n",
      "Black Medium Hazard: 1.95\n",
      "White Medium Hazard: 2.32\n"
     ]
    }
   ],
   "source": [
    "import math\n",
    "print(\"Black High Hazard: %.2f\" % (math.exp(-0.18976 + 1.28350)))\n",
    "print(\"White High Hazard: %.2f\" % (math.exp(1.28350)))\n",
    "print(\"Black Medium Hazard: %.2f\" % (math.exp(0.84286 - 0.17261)))\n",
    "print(\"White Medium Hazard: %.2f\" % (math.exp(0.84286)))"
   ]
  },
  {
   "cell_type": "code",
   "execution_count": 40,
   "metadata": {
    "collapsed": false,
    "scrolled": false
   },
   "outputs": [
    {
     "name": "stderr",
     "output_type": "stream",
     "text": [
      "R[write to console]: Scale for 'y' is already present. Adding another scale for 'y', which will\n",
      "replace the existing scale.\n",
      "\n"
     ]
    },
    {
     "data": {
      "image/png": "[encoded data removed]"
     },
     "metadata": {},
     "output_type": "display_data"
    }
   ],
   "source": [
    "%%R -w 900 -h 563 -u px\n",
    "\n",
    "fit <- survfit(f, data=data)\n",
    "\n",
    "plotty <- function(fit, title) {\n",
    "  return(autoplot(fit, conf.int=T, censor=F) + ggtitle(title) + ylim(0,1))\n",
    "}\n",
    "plotty(fit, \"Overall\")"
   ]
  },
  {
   "cell_type": "markdown",
   "metadata": {},
   "source": [
    "Black defendants do recidivate at higher rates according to race specific Kaplan Meier plots.\n",
    "\n",
    "---\n",
    "Os réus negros reincidem a taxas mais altas de acordo com os enredos Kaplan Meier específicos da raça."
   ]
  },
  {
   "cell_type": "code",
   "execution_count": 41,
   "metadata": {
    "collapsed": false
   },
   "outputs": [
    {
     "name": "stderr",
     "output_type": "stream",
     "text": [
      "R[write to console]: Scale for 'y' is already present. Adding another scale for 'y', which will\n",
      "replace the existing scale.\n",
      "\n",
      "R[write to console]: Scale for 'y' is already present. Adding another scale for 'y', which will\n",
      "replace the existing scale.\n",
      "\n"
     ]
    },
    {
     "data": {
      "image/png": "[encoded data removed]"
     },
     "metadata": {},
     "output_type": "display_data"
    }
   ],
   "source": [
    "%%R -w 900 -h 363 -u px\n",
    "white <- filter(data, race == \"Caucasian\")\n",
    "white_fit <- survfit(f, data=white)\n",
    "\n",
    "black <- filter(data, race == \"African-American\")\n",
    "black_fit <- survfit(f, data=black)\n",
    "\n",
    "grid.arrange(plotty(white_fit, \"White defendants\"), \n",
    "             plotty(black_fit, \"Black defendants\"), ncol=2)"
   ]
  },
  {
   "cell_type": "code",
   "execution_count": 42,
   "metadata": {
    "collapsed": false,
    "scrolled": true
   },
   "outputs": [
    {
     "name": "stdout",
     "output_type": "stream",
     "text": [
      "Call: survfit(formula = f, data = data)\n",
      "\n",
      "                score_factor=Low \n",
      "        time       n.risk      n.event     survival      std.err lower 95% CI \n",
      "    7.30e+02     2.75e+03     1.21e+03     7.76e-01     5.74e-03     7.64e-01 \n",
      "upper 95% CI \n",
      "    7.87e-01 \n",
      "\n",
      "                score_factor=High \n",
      "        time       n.risk      n.event     survival      std.err lower 95% CI \n",
      "    730.0000     505.0000     972.0000       0.4081       0.0122       0.3850 \n",
      "upper 95% CI \n",
      "      0.4327 \n",
      "\n",
      "                score_factor=Medium \n",
      "        time       n.risk      n.event     survival      std.err lower 95% CI \n",
      "    7.30e+02     9.79e+02     1.02e+03     5.63e-01     1.03e-02     5.43e-01 \n",
      "upper 95% CI \n",
      "    5.84e-01 \n",
      "\n"
     ]
    }
   ],
   "source": [
    "%%R\n",
    "summary(fit, times=c(730))"
   ]
  },
  {
   "cell_type": "code",
   "execution_count": 43,
   "metadata": {
    "collapsed": false
   },
   "outputs": [
    {
     "name": "stdout",
     "output_type": "stream",
     "text": [
      "Call: survfit(formula = f, data = black)\n",
      "\n",
      "                score_factor=Low \n",
      "        time       n.risk      n.event     survival      std.err lower 95% CI \n",
      "    7.30e+02     1.02e+03     5.29e+02     7.43e-01     9.70e-03     7.24e-01 \n",
      "upper 95% CI \n",
      "    7.62e-01 \n",
      "\n",
      "                score_factor=High \n",
      "        time       n.risk      n.event     survival      std.err lower 95% CI \n",
      "    730.0000     362.0000     719.0000       0.3976       0.0142       0.3707 \n",
      "upper 95% CI \n",
      "      0.4265 \n",
      "\n",
      "                score_factor=Medium \n",
      "        time       n.risk      n.event     survival      std.err lower 95% CI \n",
      "    730.0000     578.0000     623.0000       0.5485       0.0134       0.5227 \n",
      "upper 95% CI \n",
      "      0.5755 \n",
      "\n"
     ]
    }
   ],
   "source": [
    "%%R\n",
    "summary(black_fit, times=c(730))"
   ]
  },
  {
   "cell_type": "code",
   "execution_count": 44,
   "metadata": {
    "collapsed": false
   },
   "outputs": [
    {
     "name": "stdout",
     "output_type": "stream",
     "text": [
      "Call: survfit(formula = f, data = white)\n",
      "\n",
      "                score_factor=Low \n",
      "        time       n.risk      n.event     survival      std.err lower 95% CI \n",
      "    7.30e+02     1.16e+03     4.57e+02     7.95e-01     8.63e-03     7.78e-01 \n",
      "upper 95% CI \n",
      "    8.12e-01 \n",
      "\n",
      "                score_factor=High \n",
      "        time       n.risk      n.event     survival      std.err lower 95% CI \n",
      "    730.0000     102.0000     191.0000       0.4347       0.0272       0.3846 \n",
      "upper 95% CI \n",
      "      0.4914 \n",
      "\n",
      "                score_factor=Medium \n",
      "        time       n.risk      n.event     survival      std.err lower 95% CI \n",
      "    730.0000     299.0000     306.0000       0.5757       0.0185       0.5405 \n",
      "upper 95% CI \n",
      "      0.6132 \n",
      "\n"
     ]
    }
   ],
   "source": [
    "%%R\n",
    "summary(white_fit, times=c(730))"
   ]
  },
  {
   "cell_type": "markdown",
   "metadata": {},
   "source": [
    "Race specific models have similar concordance values.\n",
    "\n",
    "---\n",
    "Modelos específicos de raça têm valores de concordância semelhantes."
   ]
  },
  {
   "cell_type": "code",
   "execution_count": 45,
   "metadata": {
    "collapsed": false
   },
   "outputs": [
    {
     "name": "stdout",
     "output_type": "stream",
     "text": [
      "Call:\n",
      "coxph(formula = f, data = white)\n",
      "\n",
      "  n= 4564, number of events= 1023 \n",
      "\n",
      "                      coef exp(coef) se(coef)     z Pr(>|z|)    \n",
      "score_factorHigh   1.27628   3.58327  0.08365 15.26   <2e-16 ***\n",
      "score_factorMedium 0.83965   2.31556  0.07144 11.75   <2e-16 ***\n",
      "---\n",
      "Signif. codes:  0 '***' 0.001 '**' 0.01 '*' 0.05 '.' 0.1 ' ' 1\n",
      "\n",
      "                   exp(coef) exp(-coef) lower .95 upper .95\n",
      "score_factorHigh       3.583     0.2791     3.041     4.222\n",
      "score_factorMedium     2.316     0.4319     2.013     2.664\n",
      "\n",
      "Concordance= 0.625  (se = 0.008 )\n",
      "Likelihood ratio test= 262.8  on 2 df,   p=<2e-16\n",
      "Wald test            = 282.2  on 2 df,   p=<2e-16\n",
      "Score (logrank) test = 311.7  on 2 df,   p=<2e-16\n",
      "\n"
     ]
    }
   ],
   "source": [
    "%%R\n",
    "summary(coxph(f, data=white))"
   ]
  },
  {
   "cell_type": "code",
   "execution_count": 46,
   "metadata": {
    "collapsed": false
   },
   "outputs": [
    {
     "name": "stdout",
     "output_type": "stream",
     "text": [
      "Call:\n",
      "coxph(formula = f, data = black)\n",
      "\n",
      "  n= 6862, number of events= 2035 \n",
      "\n",
      "                      coef exp(coef) se(coef)     z Pr(>|z|)    \n",
      "score_factorHigh   1.09514   2.98959  0.05475 20.00   <2e-16 ***\n",
      "score_factorMedium 0.67025   1.95473  0.05636 11.89   <2e-16 ***\n",
      "---\n",
      "Signif. codes:  0 '***' 0.001 '**' 0.01 '*' 0.05 '.' 0.1 ' ' 1\n",
      "\n",
      "                   exp(coef) exp(-coef) lower .95 upper .95\n",
      "score_factorHigh       2.990     0.3345     2.685     3.328\n",
      "score_factorMedium     1.955     0.5116     1.750     2.183\n",
      "\n",
      "Concordance= 0.623  (se = 0.006 )\n",
      "Likelihood ratio test= 416.9  on 2 df,   p=<2e-16\n",
      "Wald test            = 401.3  on 2 df,   p=<2e-16\n",
      "Score (logrank) test = 432.9  on 2 df,   p=<2e-16\n",
      "\n"
     ]
    }
   ],
   "source": [
    "%%R\n",
    "summary(coxph(f, data=black))"
   ]
  },
  {
   "cell_type": "markdown",
   "metadata": {},
   "source": [
    "Compas's violent recidivism score has a slightly higher overall concordance score of 65.1%.\n",
    "\n",
    "---\n",
    "A pontuação de reincidência violenta da Compas tem uma pontuação geral de concordância ligeiramente superior de 65,1%."
   ]
  },
  {
   "cell_type": "code",
   "execution_count": 47,
   "metadata": {
    "collapsed": false
   },
   "outputs": [
    {
     "name": "stdout",
     "output_type": "stream",
     "text": [
      "[1] 10985\n",
      "Call:\n",
      "coxph(formula = vf, data = violent_data)\n",
      "\n",
      "  n= 18178, number of events= 818 \n",
      "\n",
      "                      coef exp(coef) se(coef)      z Pr(>|z|)    \n",
      "score_factorHigh   1.38311   3.98729  0.08410 16.447   <2e-16 ***\n",
      "score_factorMedium 0.80350   2.23334  0.08699  9.236   <2e-16 ***\n",
      "---\n",
      "Signif. codes:  0 '***' 0.001 '**' 0.01 '*' 0.05 '.' 0.1 ' ' 1\n",
      "\n",
      "                   exp(coef) exp(-coef) lower .95 upper .95\n",
      "score_factorHigh       3.987     0.2508     3.381     4.702\n",
      "score_factorMedium     2.233     0.4478     1.883     2.649\n",
      "\n",
      "Concordance= 0.651  (se = 0.009 )\n",
      "Likelihood ratio test= 270.6  on 2 df,   p=<2e-16\n",
      "Wald test            = 272.2  on 2 df,   p=<2e-16\n",
      "Score (logrank) test = 307.9  on 2 df,   p=<2e-16\n",
      "\n"
     ]
    }
   ],
   "source": [
    "%%R\n",
    "violent_data <- filter(filter(read.csv(\"./cox-violent-parsed.csv\"), score_text != \"N/A\"), end > start) %>%\n",
    "        mutate(race_factor = factor(race,\n",
    "                                  labels = c(\"African-American\", \n",
    "                                             \"Asian\",\n",
    "                                             \"Caucasian\", \n",
    "                                             \"Hispanic\", \n",
    "                                             \"Native American\",\n",
    "                                             \"Other\"))) %>%\n",
    "        within(race_factor <- relevel(race_factor, ref = 3)) %>%\n",
    "        mutate(score_factor = factor(score_text)) %>%\n",
    "        within(score_factor <- relevel(score_factor, ref=2))\n",
    "\n",
    "\n",
    "vf <- Surv(start, end, event, type=\"counting\") ~ score_factor\n",
    "vmodel <- coxph(vf, data=violent_data)\n",
    "vgrp <- violent_data[!duplicated(violent_data$id),]\n",
    "print(nrow(vgrp))\n",
    "summary(vmodel)"
   ]
  },
  {
   "cell_type": "markdown",
   "metadata": {},
   "source": [
    "In this case, there isn't a significant coefficient on African American's with High Scores.\n",
    "\n",
    "---\n",
    "Neste caso, não há um coeficiente significativo nos afro-americanos com pontuações altas."
   ]
  },
  {
   "cell_type": "code",
   "execution_count": 48,
   "metadata": {
    "collapsed": false
   },
   "outputs": [
    {
     "name": "stdout",
     "output_type": "stream",
     "text": [
      "Call:\n",
      "coxph(formula = vf2, data = violent_data)\n",
      "\n",
      "  n= 18178, number of events= 818 \n",
      "\n",
      "                                                     coef  exp(coef)   se(coef)\n",
      "race_factorAfrican-American                     1.976e-01  1.219e+00  1.321e-01\n",
      "race_factorAsian                               -5.838e-01  5.577e-01  1.005e+00\n",
      "race_factorHispanic                            -1.754e-01  8.391e-01  2.150e-01\n",
      "race_factorNative American                     -1.304e+01  2.162e-06  7.607e+02\n",
      "race_factorOther                               -4.459e-02  9.564e-01  2.433e-01\n",
      "score_factorHigh                                1.250e+00  3.491e+00  1.720e-01\n",
      "score_factorMedium                              6.292e-01  1.876e+00  1.583e-01\n",
      "race_factorAfrican-American:score_factorHigh   -7.627e-03  9.924e-01  2.063e-01\n",
      "race_factorAsian:score_factorHigh               1.552e+00  4.721e+00  1.425e+00\n",
      "race_factorHispanic:score_factorHigh            1.606e-01  1.174e+00  3.969e-01\n",
      "race_factorNative American:score_factorHigh     1.465e+01  2.307e+06  7.607e+02\n",
      "race_factorOther:score_factorHigh               1.440e+00  4.220e+00  4.037e-01\n",
      "race_factorAfrican-American:score_factorMedium  1.297e-01  1.139e+00  1.987e-01\n",
      "race_factorAsian:score_factorMedium             1.651e+00  5.211e+00  1.235e+00\n",
      "race_factorHispanic:score_factorMedium          4.632e-01  1.589e+00  3.430e-01\n",
      "race_factorNative American:score_factorMedium   1.343e+01  6.782e+05  7.607e+02\n",
      "race_factorOther:score_factorMedium            -1.562e-02  9.845e-01  4.916e-01\n",
      "                                                    z Pr(>|z|)    \n",
      "race_factorAfrican-American                     1.497 0.134487    \n",
      "race_factorAsian                               -0.581 0.561115    \n",
      "race_factorHispanic                            -0.816 0.414623    \n",
      "race_factorNative American                     -0.017 0.986318    \n",
      "race_factorOther                               -0.183 0.854546    \n",
      "score_factorHigh                                7.268 3.64e-13 ***\n",
      "score_factorMedium                              3.976 7.02e-05 ***\n",
      "race_factorAfrican-American:score_factorHigh   -0.037 0.970513    \n",
      "race_factorAsian:score_factorHigh               1.089 0.275997    \n",
      "race_factorHispanic:score_factorHigh            0.405 0.685751    \n",
      "race_factorNative American:score_factorHigh     0.019 0.984633    \n",
      "race_factorOther:score_factorHigh               3.567 0.000361 ***\n",
      "race_factorAfrican-American:score_factorMedium  0.653 0.513889    \n",
      "race_factorAsian:score_factorMedium             1.337 0.181322    \n",
      "race_factorHispanic:score_factorMedium          1.350 0.176860    \n",
      "race_factorNative American:score_factorMedium   0.018 0.985917    \n",
      "race_factorOther:score_factorMedium            -0.032 0.974652    \n",
      "---\n",
      "Signif. codes:  0 '***' 0.001 '**' 0.01 '*' 0.05 '.' 0.1 ' ' 1\n",
      "\n",
      "                                               exp(coef) exp(-coef) lower .95\n",
      "race_factorAfrican-American                    1.219e+00  8.207e-01   0.94065\n",
      "race_factorAsian                               5.577e-01  1.793e+00   0.07786\n",
      "race_factorHispanic                            8.391e-01  1.192e+00   0.55062\n",
      "race_factorNative American                     2.162e-06  4.625e+05   0.00000\n",
      "race_factorOther                               9.564e-01  1.046e+00   0.59370\n",
      "score_factorHigh                               3.491e+00  2.865e-01   2.49195\n",
      "score_factorMedium                             1.876e+00  5.330e-01   1.37575\n",
      "race_factorAfrican-American:score_factorHigh   9.924e-01  1.008e+00   0.66232\n",
      "race_factorAsian:score_factorHigh              4.721e+00  2.118e-01   0.28928\n",
      "race_factorHispanic:score_factorHigh           1.174e+00  8.516e-01   0.53939\n",
      "race_factorNative American:score_factorHigh    2.307e+06  4.334e-07   0.00000\n",
      "race_factorOther:score_factorHigh              4.220e+00  2.369e-01   1.91314\n",
      "race_factorAfrican-American:score_factorMedium 1.139e+00  8.783e-01   0.77125\n",
      "race_factorAsian:score_factorMedium            5.211e+00  1.919e-01   0.46315\n",
      "race_factorHispanic:score_factorMedium         1.589e+00  6.293e-01   0.81136\n",
      "race_factorNative American:score_factorMedium  6.782e+05  1.474e-06   0.00000\n",
      "race_factorOther:score_factorMedium            9.845e-01  1.016e+00   0.37560\n",
      "                                               upper .95\n",
      "race_factorAfrican-American                        1.578\n",
      "race_factorAsian                                   3.995\n",
      "race_factorHispanic                                1.279\n",
      "race_factorNative American                           Inf\n",
      "race_factorOther                                   1.541\n",
      "score_factorHigh                                   4.891\n",
      "score_factorMedium                                 2.558\n",
      "race_factorAfrican-American:score_factorHigh       1.487\n",
      "race_factorAsian:score_factorHigh                 77.045\n",
      "race_factorHispanic:score_factorHigh               2.556\n",
      "race_factorNative American:score_factorHigh          Inf\n",
      "race_factorOther:score_factorHigh                  9.310\n",
      "race_factorAfrican-American:score_factorMedium     1.681\n",
      "race_factorAsian:score_factorMedium               58.627\n",
      "race_factorHispanic:score_factorMedium             3.113\n",
      "race_factorNative American:score_factorMedium        Inf\n",
      "race_factorOther:score_factorMedium                2.581\n",
      "\n",
      "Concordance= 0.663  (se = 0.01 )\n",
      "Likelihood ratio test= 303  on 17 df,   p=<2e-16\n",
      "Wald test            = 317.9  on 17 df,   p=<2e-16\n",
      "Score (logrank) test = 387.1  on 17 df,   p=<2e-16\n",
      "\n"
     ]
    }
   ],
   "source": [
    "%%R\n",
    "vf2 <- Surv(start, end, event, type=\"counting\") ~ race_factor + race_factor * score_factor\n",
    "vmodel <- coxph(vf2, data=violent_data)\n",
    "summary(vmodel)"
   ]
  },
  {
   "cell_type": "code",
   "execution_count": 49,
   "metadata": {
    "collapsed": false
   },
   "outputs": [
    {
     "name": "stdout",
     "output_type": "stream",
     "text": [
      "Call:\n",
      "coxph(formula = vf, data = filter(violent_data, race == \"African-American\"))\n",
      "\n",
      "  n= 9712, number of events= 495 \n",
      "\n",
      "                     coef exp(coef) se(coef)      z Pr(>|z|)    \n",
      "score_factorHigh   1.2412    3.4596   0.1140 10.891  < 2e-16 ***\n",
      "score_factorMedium 0.7589    2.1359   0.1202  6.315 2.71e-10 ***\n",
      "---\n",
      "Signif. codes:  0 '***' 0.001 '**' 0.01 '*' 0.05 '.' 0.1 ' ' 1\n",
      "\n",
      "                   exp(coef) exp(-coef) lower .95 upper .95\n",
      "score_factorHigh       3.460     0.2891     2.767     4.325\n",
      "score_factorMedium     2.136     0.4682     1.688     2.703\n",
      "\n",
      "Concordance= 0.638  (se = 0.012 )\n",
      "Likelihood ratio test= 127.5  on 2 df,   p=<2e-16\n",
      "Wald test            = 118.7  on 2 df,   p=<2e-16\n",
      "Score (logrank) test = 130.9  on 2 df,   p=<2e-16\n",
      "\n"
     ]
    }
   ],
   "source": [
    "%%R\n",
    "summary(coxph(vf, data=filter(violent_data, race == \"African-American\")))"
   ]
  },
  {
   "cell_type": "code",
   "execution_count": 50,
   "metadata": {
    "collapsed": false
   },
   "outputs": [
    {
     "name": "stdout",
     "output_type": "stream",
     "text": [
      "Call:\n",
      "coxph(formula = vf, data = filter(violent_data, race == \"Caucasian\"))\n",
      "\n",
      "  n= 6041, number of events= 221 \n",
      "\n",
      "                     coef exp(coef) se(coef)     z Pr(>|z|)    \n",
      "score_factorHigh   1.2502    3.4909   0.1720 7.267 3.67e-13 ***\n",
      "score_factorMedium 0.6310    1.8794   0.1583 3.986 6.71e-05 ***\n",
      "---\n",
      "Signif. codes:  0 '***' 0.001 '**' 0.01 '*' 0.05 '.' 0.1 ' ' 1\n",
      "\n",
      "                   exp(coef) exp(-coef) lower .95 upper .95\n",
      "score_factorHigh       3.491     0.2865     2.492     4.891\n",
      "score_factorMedium     1.879     0.5321     1.378     2.563\n",
      "\n",
      "Concordance= 0.61  (se = 0.018 )\n",
      "Likelihood ratio test= 49.63  on 2 df,   p=2e-11\n",
      "Wald test            = 55.48  on 2 df,   p=9e-13\n",
      "Score (logrank) test = 61.24  on 2 df,   p=5e-14\n",
      "\n"
     ]
    }
   ],
   "source": [
    "%%R\n",
    "summary(coxph(vf, data=filter(violent_data, race == \"Caucasian\")))"
   ]
  },
  {
   "cell_type": "code",
   "execution_count": 51,
   "metadata": {
    "collapsed": false
   },
   "outputs": [
    {
     "name": "stderr",
     "output_type": "stream",
     "text": [
      "R[write to console]: Scale for 'y' is already present. Adding another scale for 'y', which will\n",
      "replace the existing scale.\n",
      "\n",
      "R[write to console]: Scale for 'y' is already present. Adding another scale for 'y', which will\n",
      "replace the existing scale.\n",
      "\n"
     ]
    },
    {
     "data": {
      "image/png": "[encoded data removed]"
     },
     "metadata": {},
     "output_type": "display_data"
    }
   ],
   "source": [
    "%%R -w 900 -h 363 -u px\n",
    "white <- filter(violent_data, race == \"Caucasian\")\n",
    "white_fit <- survfit(vf, data=white)\n",
    "\n",
    "black <- filter(violent_data, race == \"African-American\")\n",
    "black_fit <- survfit(vf, data=black)\n",
    "\n",
    "grid.arrange(plotty(white_fit, \"White defendants\"), \n",
    "             plotty(black_fit, \"Black defendants\"), ncol=2)"
   ]
  },
  {
   "cell_type": "markdown",
   "metadata": {},
   "source": [
    "## Directions of the Racial Bias\n",
    "\n",
    "The above analysis shows that the Compas algorithm does overpredict African-American defendant's future recidivism, but we haven't yet explored the direction of the bias. We can discover fine differences in overprediction and underprediction by comparing Compas scores across racial lines.\n",
    "\n",
    "---\n",
    "## Direções do preconceito racial\n",
    "\n",
    "A análise acima mostra que o algoritmo Compas superestima a futura reincidência do réu afro-americano, mas ainda não exploramos a direção do viés. Podemos descobrir diferenças sutis na previsão excessiva e insuficiente comparando as pontuações do Compas entre as linhas raciais."
   ]
  },
  {
   "cell_type": "code",
   "execution_count": 52,
   "metadata": {
    "collapsed": false
   },
   "outputs": [],
   "source": [
    "from truth_tables import PeekyReader, Person, table, is_race, count, vtable, hightable, vhightable\n",
    "from csv import DictReader\n",
    "\n",
    "people = []\n",
    "with open(\"./cox-parsed.csv\") as f:\n",
    "    reader = PeekyReader(DictReader(f))\n",
    "    try:\n",
    "        while True:\n",
    "            p = Person(reader)\n",
    "            if p.valid:\n",
    "                people.append(p)\n",
    "    except StopIteration:\n",
    "        pass\n",
    "\n",
    "pop = list(filter(lambda i: ((i.recidivist == True and i.lifetime <= 730) or i.lifetime > 730), list(filter(lambda x: x.score_valid, people))))\n",
    "recid = list(filter(lambda i: i.recidivist == True and i.lifetime <= 730, pop))\n",
    "rset = set(recid)\n",
    "surv = [i for i in pop if i not in rset]"
   ]
  },
  {
   "cell_type": "code",
   "execution_count": 53,
   "metadata": {
    "collapsed": false
   },
   "outputs": [
    {
     "name": "stdout",
     "output_type": "stream",
     "text": [
      "All defendants\n",
      "           \tLow\tHigh\n",
      "Survived   \t2681\t1282\t0.55\n",
      "Recidivated\t1216\t2035\t0.45\n",
      "Total: 7214.00\n",
      "False positive rate: 32.35\n",
      "False negative rate: 37.40\n",
      "Specificity: 0.68\n",
      "Sensitivity: 0.63\n",
      "Prevalence: 0.45\n",
      "PPV: 0.61\n",
      "NPV: 0.69\n",
      "LR+: 1.94\n",
      "LR-: 0.55\n"
     ]
    }
   ],
   "source": [
    "print(\"All defendants\")\n",
    "table(list(recid), list(surv))"
   ]
  },
  {
   "cell_type": "code",
   "execution_count": 54,
   "metadata": {
    "collapsed": false
   },
   "outputs": [
    {
     "name": "stdout",
     "output_type": "stream",
     "text": [
      "Total pop: 7214\n"
     ]
    }
   ],
   "source": [
    "print(\"Total pop: %i\" % (2681 + 1282 + 1216 + 2035))"
   ]
  },
  {
   "cell_type": "code",
   "execution_count": 55,
   "metadata": {
    "collapsed": false
   },
   "outputs": [
    {
     "name": "stdout",
     "output_type": "stream",
     "text": [
      "Average followup time 622.87 (sd 392.19)\n",
      "Median followup time 766\n"
     ]
    }
   ],
   "source": [
    "import statistics\n",
    "print(\"Average followup time %.2f (sd %.2f)\" % (statistics.mean(map(lambda i: i.lifetime, pop)),\n",
    "                                                statistics.stdev(map(lambda i: i.lifetime, pop))))\n",
    "print(\"Median followup time %i\" % (statistics.median(map(lambda i: i.lifetime, pop))))"
   ]
  },
  {
   "cell_type": "markdown",
   "metadata": {},
   "source": [
    "Overall, the false positive rate is 32.35%.\n",
    "\n",
    "---\n",
    "No geral, a taxa de falsos positivos é de 32,35%."
   ]
  },
  {
   "cell_type": "code",
   "execution_count": 56,
   "metadata": {
    "collapsed": false
   },
   "outputs": [
    {
     "name": "stdout",
     "output_type": "stream",
     "text": [
      "Black defendants\n",
      "           \tLow\tHigh\n",
      "Survived   \t990\t805\t0.49\n",
      "Recidivated\t532\t1369\t0.51\n",
      "Total: 3696.00\n",
      "False positive rate: 44.85\n",
      "False negative rate: 27.99\n",
      "Specificity: 0.55\n",
      "Sensitivity: 0.72\n",
      "Prevalence: 0.51\n",
      "PPV: 0.63\n",
      "NPV: 0.65\n",
      "LR+: 1.61\n",
      "LR-: 0.51\n"
     ]
    }
   ],
   "source": [
    "print(\"Black defendants\")\n",
    "is_afam = is_race(\"African-American\")\n",
    "table(list(filter(is_afam, recid)), list(filter(is_afam, surv)))"
   ]
  },
  {
   "cell_type": "markdown",
   "metadata": {},
   "source": [
    "That number is higher for African Americans at 44.85%.\n",
    "\n",
    "---\n",
    "Esse número é maior para os afro-americanos em 44,85%."
   ]
  },
  {
   "cell_type": "code",
   "execution_count": 57,
   "metadata": {
    "collapsed": false
   },
   "outputs": [
    {
     "name": "stdout",
     "output_type": "stream",
     "text": [
      "White defendants\n",
      "           \tLow\tHigh\n",
      "Survived   \t1139\t349\t0.61\n",
      "Recidivated\t461\t505\t0.39\n",
      "Total: 2454.00\n",
      "False positive rate: 23.45\n",
      "False negative rate: 47.72\n",
      "Specificity: 0.77\n",
      "Sensitivity: 0.52\n",
      "Prevalence: 0.39\n",
      "PPV: 0.59\n",
      "NPV: 0.71\n",
      "LR+: 2.23\n",
      "LR-: 0.62\n"
     ]
    }
   ],
   "source": [
    "print(\"White defendants\")\n",
    "is_white = is_race(\"Caucasian\")\n",
    "table(list(filter(is_white, recid)), list(filter(is_white, surv)))"
   ]
  },
  {
   "cell_type": "markdown",
   "metadata": {},
   "source": [
    "And lower for whites at 23.45%.\n",
    "\n",
    "---\n",
    "E menor para brancos em 23,45%."
   ]
  },
  {
   "cell_type": "code",
   "execution_count": 58,
   "metadata": {
    "collapsed": false
   },
   "outputs": [
    {
     "data": {
      "text/plain": [
       "1.9125799573560769"
      ]
     },
     "execution_count": 58,
     "metadata": {},
     "output_type": "execute_result"
    }
   ],
   "source": [
    "44.85 / 23.45"
   ]
  },
  {
   "cell_type": "markdown",
   "metadata": {},
   "source": [
    "Which means under COMPAS black defendants are 91% more likely to get a higher score and not go on to commit more crimes than white defendants after two year.\n",
    "\n",
    "COMPAS scores misclassify white reoffenders as low risk at 70.4% more often than black reoffenders.\n",
    "\n",
    "---\n",
    "O que significa que, sob o COMPAS, os réus negros têm 91% mais chances de obter uma pontuação mais alta e não cometer mais crimes do que os réus brancos após dois anos.\n",
    "\n",
    "As pontuações do COMPAS classificam erroneamente os reincidentes brancos como de baixo risco em 70,4% mais frequentemente do que os reincidentes negros."
   ]
  },
  {
   "cell_type": "code",
   "execution_count": 59,
   "metadata": {
    "collapsed": false
   },
   "outputs": [
    {
     "data": {
      "text/plain": [
       "1.7048946052161487"
      ]
     },
     "execution_count": 59,
     "metadata": {},
     "output_type": "execute_result"
    }
   ],
   "source": [
    "47.72 / 27.99"
   ]
  },
  {
   "cell_type": "code",
   "execution_count": 60,
   "metadata": {
    "collapsed": false
   },
   "outputs": [
    {
     "name": "stdout",
     "output_type": "stream",
     "text": [
      "           \tLow\tHigh\n",
      "Survived   \t1407\t81\t0.61\n",
      "Recidivated\t771\t195\t0.39\n",
      "Total: 2454.00\n",
      "False positive rate: 5.44\n",
      "False negative rate: 79.81\n",
      "Specificity: 0.95\n",
      "Sensitivity: 0.20\n",
      "Prevalence: 0.39\n",
      "PPV: 0.71\n",
      "NPV: 0.65\n",
      "LR+: 3.71\n",
      "LR-: 0.84\n"
     ]
    }
   ],
   "source": [
    "hightable(list(filter(is_white, recid)), list(filter(is_white, surv)))"
   ]
  },
  {
   "cell_type": "code",
   "execution_count": 61,
   "metadata": {
    "collapsed": false
   },
   "outputs": [
    {
     "name": "stdout",
     "output_type": "stream",
     "text": [
      "           \tLow\tHigh\n",
      "Survived   \t1511\t284\t0.49\n",
      "Recidivated\t1160\t741\t0.51\n",
      "Total: 3696.00\n",
      "False positive rate: 15.82\n",
      "False negative rate: 61.02\n",
      "Specificity: 0.84\n",
      "Sensitivity: 0.39\n",
      "Prevalence: 0.51\n",
      "PPV: 0.72\n",
      "NPV: 0.57\n",
      "LR+: 2.46\n",
      "LR-: 0.72\n"
     ]
    }
   ],
   "source": [
    "hightable(list(filter(is_afam, recid)), list(filter(is_afam, surv)))"
   ]
  },
  {
   "cell_type": "markdown",
   "metadata": {
    "collapsed": true
   },
   "source": [
    "## Risk of Violent Recidivism\n",
    "\n",
    "Compas also offers a score that aims to measure a persons risk of violent recidivism, which has a similar overall accuracy to the Recidivism score.\n",
    "\n",
    "---\n",
    "## Risco de reincidência violenta\n",
    "\n",
    "O Compas também oferece uma pontuação que visa medir o risco de reincidência violenta de uma pessoa, que tem uma precisão geral semelhante à pontuação de reincidência."
   ]
  },
  {
   "cell_type": "code",
   "execution_count": 62,
   "metadata": {
    "collapsed": false
   },
   "outputs": [],
   "source": [
    "vpeople = []\n",
    "with open(\"./cox-violent-parsed.csv\") as f:\n",
    "    reader = PeekyReader(DictReader(f))\n",
    "    try:\n",
    "        while True:\n",
    "            p = Person(reader)\n",
    "            if p.valid:\n",
    "                vpeople.append(p)\n",
    "    except StopIteration:\n",
    "        pass\n",
    "\n",
    "vpop = list(filter(lambda i: ((i.violent_recidivist == True and i.lifetime <= 730) or\n",
    "                              i.lifetime > 730), list(filter(lambda x: x.vscore_valid, vpeople))))\n",
    "vrecid = list(filter(lambda i: i.violent_recidivist == True and i.lifetime <= 730, vpeople))\n",
    "vrset = set(vrecid)\n",
    "vsurv = [i for i in vpop if i not in vrset]"
   ]
  },
  {
   "cell_type": "code",
   "execution_count": 63,
   "metadata": {
    "collapsed": false
   },
   "outputs": [
    {
     "name": "stdout",
     "output_type": "stream",
     "text": [
      "All defendants\n",
      "           \tLow\tHigh\n",
      "Survived   \t4121\t1597\t0.89\n",
      "Recidivated\t347\t389\t0.11\n",
      "Total: 6454.00\n",
      "False positive rate: 27.93\n",
      "False negative rate: 47.15\n",
      "Specificity: 0.72\n",
      "Sensitivity: 0.53\n",
      "Prevalence: 0.11\n",
      "PPV: 0.20\n",
      "NPV: 0.92\n",
      "LR+: 1.89\n",
      "LR-: 0.65\n"
     ]
    }
   ],
   "source": [
    "print(\"All defendants\")\n",
    "vtable(list(vrecid), list(vsurv))"
   ]
  },
  {
   "cell_type": "markdown",
   "metadata": {},
   "source": [
    "Even moreso for Black defendants.\n",
    "\n",
    "---\n",
    "Ainda mais para réus negros."
   ]
  },
  {
   "cell_type": "code",
   "execution_count": 64,
   "metadata": {
    "collapsed": false
   },
   "outputs": [
    {
     "name": "stdout",
     "output_type": "stream",
     "text": [
      "Black defendants\n",
      "           \tLow\tHigh\n",
      "Survived   \t1692\t1043\t0.86\n",
      "Recidivated\t170\t273\t0.14\n",
      "Total: 3178.00\n",
      "False positive rate: 38.14\n",
      "False negative rate: 38.37\n",
      "Specificity: 0.62\n",
      "Sensitivity: 0.62\n",
      "Prevalence: 0.14\n",
      "PPV: 0.21\n",
      "NPV: 0.91\n",
      "LR+: 1.62\n",
      "LR-: 0.62\n"
     ]
    }
   ],
   "source": [
    "print(\"Black defendants\")\n",
    "is_afam = is_race(\"African-American\")\n",
    "vtable(list(filter(is_afam, vrecid)), list(filter(is_afam, vsurv)))"
   ]
  },
  {
   "cell_type": "code",
   "execution_count": 65,
   "metadata": {
    "collapsed": false
   },
   "outputs": [
    {
     "name": "stdout",
     "output_type": "stream",
     "text": [
      "White defendants\n",
      "           \tLow\tHigh\n",
      "Survived   \t1679\t380\t0.91\n",
      "Recidivated\t129\t77\t0.09\n",
      "Total: 2265.00\n",
      "False positive rate: 18.46\n",
      "False negative rate: 62.62\n",
      "Specificity: 0.82\n",
      "Sensitivity: 0.37\n",
      "Prevalence: 0.09\n",
      "PPV: 0.17\n",
      "NPV: 0.93\n",
      "LR+: 2.03\n",
      "LR-: 0.77\n"
     ]
    }
   ],
   "source": [
    "print(\"White defendants\")\n",
    "is_white = is_race(\"Caucasian\")\n",
    "vtable(list(filter(is_white, vrecid)), list(filter(is_white, vsurv)))"
   ]
  },
  {
   "cell_type": "markdown",
   "metadata": {},
   "source": [
    "Black defendants are twice as likely to be false positives for a Higher violent score than white defendants.\n",
    "\n",
    "---\n",
    "Os réus negros são duas vezes mais propensos a serem falsos positivos para uma pontuação de violência mais alta do que os réus brancos."
   ]
  },
  {
   "cell_type": "code",
   "execution_count": 66,
   "metadata": {
    "collapsed": false
   },
   "outputs": [
    {
     "data": {
      "text/plain": [
       "2.066088840736728"
      ]
     },
     "execution_count": 66,
     "metadata": {},
     "output_type": "execute_result"
    }
   ],
   "source": [
    "38.14 / 18.46"
   ]
  },
  {
   "cell_type": "markdown",
   "metadata": {},
   "source": [
    "White defendants are 63% more likely to get a lower score and commit another crime than Black defendants.\n",
    "\n",
    "---\n",
    "Os réus brancos são 63% mais propensos a obter uma pontuação mais baixa e cometer outro crime do que os réus negros."
   ]
  },
  {
   "cell_type": "code",
   "execution_count": 67,
   "metadata": {
    "collapsed": false
   },
   "outputs": [
    {
     "data": {
      "text/plain": [
       "1.63200416992442"
      ]
     },
     "execution_count": 67,
     "metadata": {},
     "output_type": "execute_result"
    }
   ],
   "source": [
    "62.62 / 38.37"
   ]
  },
  {
   "cell_type": "markdown",
   "metadata": {},
   "source": [
    "## Gender differences in Compas scores\n",
    "\n",
    "In terms of underlying recidivism rates, we can look at gender specific Kaplan Meier estimates. There is a striking difference between women and men.\n",
    "\n",
    "---\n",
    "## Diferenças de gênero nas pontuações do Compas\n",
    "\n",
    "Em termos de taxas de reincidência subjacentes, podemos olhar para as estimativas Kaplan Meier específicas de gênero. Há uma diferença marcante entre mulheres e homens."
   ]
  },
  {
   "cell_type": "code",
   "execution_count": 68,
   "metadata": {
    "collapsed": false
   },
   "outputs": [],
   "source": [
    "%%R\n",
    "\n",
    "female <- filter(data, sex == \"Female\")\n",
    "male   <- filter(data, sex == \"Male\")\n",
    "male_fit <- survfit(f, data=male)\n",
    "female_fit <- survfit(f, data=female)"
   ]
  },
  {
   "cell_type": "code",
   "execution_count": 69,
   "metadata": {
    "collapsed": false
   },
   "outputs": [
    {
     "name": "stdout",
     "output_type": "stream",
     "text": [
      "Call: survfit(formula = f, data = male)\n",
      "\n",
      "                score_factor=Low \n",
      "        time       n.risk      n.event     survival      std.err lower 95% CI \n",
      "    7.30e+02     2.13e+03     1.02e+03     7.58e-01     6.67e-03     7.45e-01 \n",
      "upper 95% CI \n",
      "    7.71e-01 \n",
      "\n",
      "                score_factor=High \n",
      "        time       n.risk      n.event     survival      std.err lower 95% CI \n",
      "     730.000      421.000      857.000        0.388        0.013        0.363 \n",
      "upper 95% CI \n",
      "       0.414 \n",
      "\n",
      "                score_factor=Medium \n",
      "        time       n.risk      n.event     survival      std.err lower 95% CI \n",
      "    730.0000     752.0000     838.0000       0.5352       0.0118       0.5126 \n",
      "upper 95% CI \n",
      "      0.5588 \n",
      "\n"
     ]
    }
   ],
   "source": [
    "%%R\n",
    "summary(male_fit, times=c(730))"
   ]
  },
  {
   "cell_type": "code",
   "execution_count": 70,
   "metadata": {
    "collapsed": false
   },
   "outputs": [
    {
     "name": "stdout",
     "output_type": "stream",
     "text": [
      "Call: survfit(formula = f, data = female)\n",
      "\n",
      "                score_factor=Low \n",
      "        time       n.risk      n.event     survival      std.err lower 95% CI \n",
      "    730.0000     617.0000     194.0000       0.8381       0.0107       0.8174 \n",
      "upper 95% CI \n",
      "      0.8593 \n",
      "\n",
      "                score_factor=High \n",
      "        time       n.risk      n.event     survival      std.err lower 95% CI \n",
      "    730.0000      84.0000     115.0000       0.5252       0.0325       0.4652 \n",
      "upper 95% CI \n",
      "      0.5929 \n",
      "\n",
      "                score_factor=Medium \n",
      "        time       n.risk      n.event     survival      std.err lower 95% CI \n",
      "    730.0000     227.0000     184.0000       0.6586       0.0206       0.6194 \n",
      "upper 95% CI \n",
      "      0.7003 \n",
      "\n"
     ]
    }
   ],
   "source": [
    "%%R\n",
    "summary(female_fit, times=c(730))"
   ]
  },
  {
   "cell_type": "code",
   "execution_count": 71,
   "metadata": {
    "collapsed": false
   },
   "outputs": [
    {
     "name": "stderr",
     "output_type": "stream",
     "text": [
      "R[write to console]: Scale for 'y' is already present. Adding another scale for 'y', which will\n",
      "replace the existing scale.\n",
      "\n",
      "R[write to console]: Scale for 'y' is already present. Adding another scale for 'y', which will\n",
      "replace the existing scale.\n",
      "\n"
     ]
    },
    {
     "data": {
      "image/png": "[encoded data removed]"
     },
     "metadata": {},
     "output_type": "display_data"
    }
   ],
   "source": [
    "%%R -w 900 -h 363 -u px\n",
    "grid.arrange(plotty(female_fit, \"Female\"), plotty(male_fit, \"Male\"),ncol=2)"
   ]
  },
  {
   "cell_type": "markdown",
   "metadata": {},
   "source": [
    "As these plots show, the Compas score treats a High risk women the same as a Medium risk man.\n",
    "\n",
    "---\n",
    "Como esses gráficos mostram, a pontuação Compas trata uma mulher de alto risco da mesma forma que um homem de médio risco."
   ]
  }
 ],
 "metadata": {
  "kernelspec": {
   "display_name": "Python 3",
   "language": "python",
   "name": "python3"
  },
  "language_info": {
   "codemirror_mode": {
    "name": "ipython",
    "version": 3
   },
   "file_extension": ".py",
   "mimetype": "text/x-python",
   "name": "python",
   "nbconvert_exporter": "python",
   "pygments_lexer": "ipython3",
   "version": "3.8.0"
  }
 },
 "nbformat": 4,
 "nbformat_minor": 0
}
