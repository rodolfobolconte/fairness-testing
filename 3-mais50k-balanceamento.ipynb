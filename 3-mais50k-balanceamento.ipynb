{
 "cells": [
  {
   "cell_type": "markdown",
   "source": [
    "# Análises Além Tutorial\r\n",
    "\r\n",
    "## Balanceamento de dados a partir do mais50k e usando Sexo como atributo sensível\r\n",
    "## Classificação utilizando Random Forest e Gradient Boosting a partir de Raça como atributo sensível\r\n",
    "\r\n",
    "<br>\r\n",
    "\r\n",
    "# Carregando Conjunto de Dados"
   ],
   "metadata": {}
  },
  {
   "cell_type": "code",
   "execution_count": 1,
   "source": [
    "import pandas as pd\r\n",
    "\r\n",
    "data = pd.read_csv('2-dados.csv', delimiter=',')"
   ],
   "outputs": [],
   "metadata": {}
  },
  {
   "cell_type": "code",
   "execution_count": 2,
   "source": [
    "#quantidade de pessoas que não juntaram mais de 50k (37155) e que juntaram (11687)\r\n",
    "print(data['mais50k'].value_counts())"
   ],
   "outputs": [
    {
     "output_type": "stream",
     "name": "stdout",
     "text": [
      "0    37155\n",
      "1    11687\n",
      "Name: mais50k, dtype: int64\n"
     ]
    }
   ],
   "metadata": {}
  },
  {
   "cell_type": "markdown",
   "source": [
    "# Balanceamento de Classes\r\n",
    "\r\n",
    "##  Balanceando mais50k e utilizando o sexo como atributo sensível"
   ],
   "metadata": {}
  },
  {
   "cell_type": "markdown",
   "source": [
    "## Oversampling"
   ],
   "metadata": {}
  },
  {
   "cell_type": "code",
   "execution_count": 3,
   "source": [
    "from imblearn.over_sampling import RandomOverSampler\r\n",
    "\r\n",
    "#criando modelo de oversampling\r\n",
    "over_sampler = RandomOverSampler(random_state=99)"
   ],
   "outputs": [],
   "metadata": {}
  },
  {
   "cell_type": "code",
   "execution_count": 4,
   "source": [
    "#realizando reamostragem oversampling, utilizando o mais50k como rótulo para o balanceamento\r\n",
    "sex_over_x, sex_over_y = over_sampler.fit_resample(data.drop(['mais50k'], axis=1), data['mais50k'])"
   ],
   "outputs": [],
   "metadata": {}
  },
  {
   "cell_type": "code",
   "execution_count": 5,
   "source": [
    "#contagem da realização do oversampling\r\n",
    "sex_over_y.value_counts()"
   ],
   "outputs": [
    {
     "output_type": "execute_result",
     "data": {
      "text/plain": [
       "0    37155\n",
       "1    37155\n",
       "Name: mais50k, dtype: int64"
      ]
     },
     "metadata": {},
     "execution_count": 5
    }
   ],
   "metadata": {}
  },
  {
   "cell_type": "code",
   "execution_count": 6,
   "source": [
    "#convertendo variáveis categóricas\r\n",
    "sex_over_x_dummies = pd.get_dummies(sex_over_x)"
   ],
   "outputs": [],
   "metadata": {}
  },
  {
   "cell_type": "code",
   "execution_count": 7,
   "source": [
    "#função que executa a classificação justa\r\n",
    "def run_classification(classifier, x, y, sensitive_feature):\r\n",
    "    demographic_parity = DemographicParity()\r\n",
    "\r\n",
    "    mitigator = ExponentiatedGradient(classifier, demographic_parity)\r\n",
    "\r\n",
    "    #realizando o treino do modelo justo e utilizando o sexo como atributo sensível\r\n",
    "    mitigator.fit(x, y, sensitive_features=sensitive_feature)\r\n",
    "\r\n",
    "    #previsão dos dados utilizando o modelo justo\r\n",
    "    #y_pred_mitigated = mitigator.predict(x)\r\n",
    "    return mitigator.predict(x)\r\n",
    "\r\n",
    "#função que calcula as métricas agrupadas\r\n",
    "def calculate_metrics(y_true, y_pred, sensitive_feature):\r\n",
    "    #agrupamento de métricas para cálculo com MetricFrame\r\n",
    "    metrics = {\r\n",
    "        'accuracy': accuracy_score,\r\n",
    "        'precision': precision_score,\r\n",
    "        'recall': recall_score,\r\n",
    "        'false positive rate': false_positive_rate,\r\n",
    "        'true positive rate': true_positive_rate,\r\n",
    "        'selection rate': selection_rate\r\n",
    "    }\r\n",
    "\r\n",
    "    return MetricFrame(\r\n",
    "        metrics=metrics,\r\n",
    "        y_true=y_true,\r\n",
    "        y_pred=y_pred,\r\n",
    "        sensitive_features=sensitive_feature\r\n",
    "    )"
   ],
   "outputs": [],
   "metadata": {}
  },
  {
   "cell_type": "code",
   "execution_count": 8,
   "source": [
    "from fairlearn.metrics import MetricFrame, selection_rate, false_positive_rate, true_positive_rate, count\r\n",
    "from sklearn.metrics import accuracy_score, accuracy_score, precision_score, recall_score\r\n",
    "from sklearn.tree import DecisionTreeClassifier\r\n",
    "from fairlearn.reductions import ExponentiatedGradient, DemographicParity\r\n",
    "\r\n",
    "#criando modelo de árvore de decisão\r\n",
    "decision_tree_oversampling = DecisionTreeClassifier(min_samples_leaf=10, max_depth=4)"
   ],
   "outputs": [],
   "metadata": {}
  },
  {
   "cell_type": "code",
   "execution_count": 9,
   "source": [
    "sex_over_prev = run_classification(decision_tree_oversampling, sex_over_x_dummies, sex_over_y, sex_over_x['sex'])"
   ],
   "outputs": [],
   "metadata": {}
  },
  {
   "cell_type": "code",
   "execution_count": 10,
   "source": [
    "#calcula métricas para os dados com oversampling\r\n",
    "sex_over_results = calculate_metrics(sex_over_y, sex_over_prev, sex_over_x['sex'])\r\n",
    "\r\n",
    "print(sex_over_results.overall)\r\n",
    "sex_over_results.by_group"
   ],
   "outputs": [
    {
     "output_type": "stream",
     "name": "stdout",
     "text": [
      "accuracy               0.752469\n",
      "precision              0.755439\n",
      "recall                 0.746656\n",
      "false positive rate    0.241717\n",
      "true positive rate     0.746656\n",
      "selection rate         0.494187\n",
      "dtype: object\n"
     ]
    },
    {
     "output_type": "execute_result",
     "data": {
      "text/html": [
       "<div>\n",
       "<style scoped>\n",
       "    .dataframe tbody tr th:only-of-type {\n",
       "        vertical-align: middle;\n",
       "    }\n",
       "\n",
       "    .dataframe tbody tr th {\n",
       "        vertical-align: top;\n",
       "    }\n",
       "\n",
       "    .dataframe thead th {\n",
       "        text-align: right;\n",
       "    }\n",
       "</style>\n",
       "<table border=\"1\" class=\"dataframe\">\n",
       "  <thead>\n",
       "    <tr style=\"text-align: right;\">\n",
       "      <th></th>\n",
       "      <th>accuracy</th>\n",
       "      <th>precision</th>\n",
       "      <th>recall</th>\n",
       "      <th>false positive rate</th>\n",
       "      <th>true positive rate</th>\n",
       "      <th>selection rate</th>\n",
       "    </tr>\n",
       "    <tr>\n",
       "      <th>sex</th>\n",
       "      <th></th>\n",
       "      <th></th>\n",
       "      <th></th>\n",
       "      <th></th>\n",
       "      <th></th>\n",
       "      <th></th>\n",
       "    </tr>\n",
       "  </thead>\n",
       "  <tbody>\n",
       "    <tr>\n",
       "      <th>Female</th>\n",
       "      <td>0.752012</td>\n",
       "      <td>0.53679</td>\n",
       "      <td>0.917177</td>\n",
       "      <td>0.313388</td>\n",
       "      <td>0.917177</td>\n",
       "      <td>0.484653</td>\n",
       "    </tr>\n",
       "    <tr>\n",
       "      <th>Male</th>\n",
       "      <td>0.75264</td>\n",
       "      <td>0.834563</td>\n",
       "      <td>0.715685</td>\n",
       "      <td>0.196243</td>\n",
       "      <td>0.715685</td>\n",
       "      <td>0.49773</td>\n",
       "    </tr>\n",
       "  </tbody>\n",
       "</table>\n",
       "</div>"
      ],
      "text/plain": [
       "        accuracy precision    recall false positive rate true positive rate  \\\n",
       "sex                                                                           \n",
       "Female  0.752012   0.53679  0.917177            0.313388           0.917177   \n",
       "Male     0.75264  0.834563  0.715685            0.196243           0.715685   \n",
       "\n",
       "       selection rate  \n",
       "sex                    \n",
       "Female       0.484653  \n",
       "Male          0.49773  "
      ]
     },
     "metadata": {},
     "execution_count": 10
    }
   ],
   "metadata": {}
  },
  {
   "cell_type": "code",
   "execution_count": 11,
   "source": [
    "sex_over_results.by_group.plot.bar(\r\n",
    "    subplots=True,\r\n",
    "    layout=[3, 3],\r\n",
    "    legend=False,\r\n",
    "    figsize=[12,8],\r\n",
    "    title=\"Todas as Métricas\"\r\n",
    ")"
   ],
   "outputs": [
    {
     "output_type": "execute_result",
     "data": {
      "text/plain": [
       "array([[<AxesSubplot:title={'center':'accuracy'}, xlabel='sex'>,\n",
       "        <AxesSubplot:title={'center':'precision'}, xlabel='sex'>,\n",
       "        <AxesSubplot:title={'center':'recall'}, xlabel='sex'>],\n",
       "       [<AxesSubplot:title={'center':'false positive rate'}, xlabel='sex'>,\n",
       "        <AxesSubplot:title={'center':'true positive rate'}, xlabel='sex'>,\n",
       "        <AxesSubplot:title={'center':'selection rate'}, xlabel='sex'>],\n",
       "       [<AxesSubplot:xlabel='sex'>, <AxesSubplot:xlabel='sex'>,\n",
       "        <AxesSubplot:xlabel='sex'>]], dtype=object)"
      ]
     },
     "metadata": {},
     "execution_count": 11
    },
    {
     "output_type": "display_data",
     "data": {
      "image/png": "[encoded data removed]",
      "text/plain": [
       "<Figure size 864x576 with 9 Axes>"
      ]
     },
     "metadata": {
      "needs_background": "light"
     }
    }
   ],
   "metadata": {}
  },
  {
   "cell_type": "markdown",
   "source": [
    "## Undersampling"
   ],
   "metadata": {}
  },
  {
   "cell_type": "code",
   "execution_count": 12,
   "source": [
    "from imblearn.under_sampling import RandomUnderSampler\r\n",
    "\r\n",
    "#criando modelo de undersampling\r\n",
    "under_sampler = RandomUnderSampler(random_state=99)"
   ],
   "outputs": [],
   "metadata": {}
  },
  {
   "cell_type": "code",
   "execution_count": 13,
   "source": [
    "#realizando reamostragem undersampling, utilizando o mais50k como rótulo para o balanceamento\r\n",
    "sex_under_x, sex_under_y = under_sampler.fit_resample(data.drop(['mais50k'], axis=1), data['mais50k'])"
   ],
   "outputs": [],
   "metadata": {}
  },
  {
   "cell_type": "code",
   "execution_count": 14,
   "source": [
    "#contagem da realização do undersampling\r\n",
    "sex_under_y.value_counts()"
   ],
   "outputs": [
    {
     "output_type": "execute_result",
     "data": {
      "text/plain": [
       "0    11687\n",
       "1    11687\n",
       "Name: mais50k, dtype: int64"
      ]
     },
     "metadata": {},
     "execution_count": 14
    }
   ],
   "metadata": {}
  },
  {
   "cell_type": "code",
   "execution_count": 15,
   "source": [
    "#convertendo variáveis categóricas\r\n",
    "sex_under_x_dummies = pd.get_dummies(sex_under_x)"
   ],
   "outputs": [],
   "metadata": {}
  },
  {
   "cell_type": "code",
   "execution_count": 16,
   "source": [
    "#criação do classificador de árvore de decisão\r\n",
    "\r\n",
    "decision_tree_undersampling = DecisionTreeClassifier(min_samples_leaf=10, max_depth=4)"
   ],
   "outputs": [],
   "metadata": {}
  },
  {
   "cell_type": "code",
   "execution_count": 17,
   "source": [
    "#execução do treino e previsão do modelo justo\r\n",
    "sex_under_prev = run_classification(decision_tree_undersampling, sex_under_x_dummies, sex_under_y, sex_under_x['sex'])"
   ],
   "outputs": [],
   "metadata": {}
  },
  {
   "cell_type": "code",
   "execution_count": 18,
   "source": [
    "sex_under_results = calculate_metrics(sex_under_y, sex_under_prev, sex_under_x['sex'])\r\n",
    "\r\n",
    "print(sex_under_results.overall)\r\n",
    "sex_under_results.by_group"
   ],
   "outputs": [
    {
     "output_type": "stream",
     "name": "stdout",
     "text": [
      "accuracy               0.754642\n",
      "precision              0.762573\n",
      "recall                  0.73954\n",
      "false positive rate    0.230256\n",
      "true positive rate      0.73954\n",
      "selection rate         0.484898\n",
      "dtype: object\n"
     ]
    },
    {
     "output_type": "execute_result",
     "data": {
      "text/html": [
       "<div>\n",
       "<style scoped>\n",
       "    .dataframe tbody tr th:only-of-type {\n",
       "        vertical-align: middle;\n",
       "    }\n",
       "\n",
       "    .dataframe tbody tr th {\n",
       "        vertical-align: top;\n",
       "    }\n",
       "\n",
       "    .dataframe thead th {\n",
       "        text-align: right;\n",
       "    }\n",
       "</style>\n",
       "<table border=\"1\" class=\"dataframe\">\n",
       "  <thead>\n",
       "    <tr style=\"text-align: right;\">\n",
       "      <th></th>\n",
       "      <th>accuracy</th>\n",
       "      <th>precision</th>\n",
       "      <th>recall</th>\n",
       "      <th>false positive rate</th>\n",
       "      <th>true positive rate</th>\n",
       "      <th>selection rate</th>\n",
       "    </tr>\n",
       "    <tr>\n",
       "      <th>sex</th>\n",
       "      <th></th>\n",
       "      <th></th>\n",
       "      <th></th>\n",
       "      <th></th>\n",
       "      <th></th>\n",
       "      <th></th>\n",
       "    </tr>\n",
       "  </thead>\n",
       "  <tbody>\n",
       "    <tr>\n",
       "      <th>Female</th>\n",
       "      <td>0.759942</td>\n",
       "      <td>0.546196</td>\n",
       "      <td>0.908988</td>\n",
       "      <td>0.299082</td>\n",
       "      <td>0.908988</td>\n",
       "      <td>0.472097</td>\n",
       "    </tr>\n",
       "    <tr>\n",
       "      <th>Male</th>\n",
       "      <td>0.752713</td>\n",
       "      <td>0.838498</td>\n",
       "      <td>0.709316</td>\n",
       "      <td>0.187673</td>\n",
       "      <td>0.709316</td>\n",
       "      <td>0.489555</td>\n",
       "    </tr>\n",
       "  </tbody>\n",
       "</table>\n",
       "</div>"
      ],
      "text/plain": [
       "        accuracy precision    recall false positive rate true positive rate  \\\n",
       "sex                                                                           \n",
       "Female  0.759942  0.546196  0.908988            0.299082           0.908988   \n",
       "Male    0.752713  0.838498  0.709316            0.187673           0.709316   \n",
       "\n",
       "       selection rate  \n",
       "sex                    \n",
       "Female       0.472097  \n",
       "Male         0.489555  "
      ]
     },
     "metadata": {},
     "execution_count": 18
    }
   ],
   "metadata": {}
  },
  {
   "cell_type": "code",
   "execution_count": 19,
   "source": [
    "sex_under_results.by_group.plot.bar(\r\n",
    "    subplots=True,\r\n",
    "    layout=[3, 3],\r\n",
    "    legend=False,\r\n",
    "    figsize=[12,8],\r\n",
    "    title=\"Todas as Métricas\"\r\n",
    ")"
   ],
   "outputs": [
    {
     "output_type": "execute_result",
     "data": {
      "text/plain": [
       "array([[<AxesSubplot:title={'center':'accuracy'}, xlabel='sex'>,\n",
       "        <AxesSubplot:title={'center':'precision'}, xlabel='sex'>,\n",
       "        <AxesSubplot:title={'center':'recall'}, xlabel='sex'>],\n",
       "       [<AxesSubplot:title={'center':'false positive rate'}, xlabel='sex'>,\n",
       "        <AxesSubplot:title={'center':'true positive rate'}, xlabel='sex'>,\n",
       "        <AxesSubplot:title={'center':'selection rate'}, xlabel='sex'>],\n",
       "       [<AxesSubplot:xlabel='sex'>, <AxesSubplot:xlabel='sex'>,\n",
       "        <AxesSubplot:xlabel='sex'>]], dtype=object)"
      ]
     },
     "metadata": {},
     "execution_count": 19
    },
    {
     "output_type": "display_data",
     "data": {
      "image/png": "[encoded data removed]",
      "text/plain": [
       "<Figure size 864x576 with 9 Axes>"
      ]
     },
     "metadata": {
      "needs_background": "light"
     }
    }
   ],
   "metadata": {}
  },
  {
   "cell_type": "markdown",
   "source": [
    "# Atributo Sensível: Raça"
   ],
   "metadata": {}
  },
  {
   "cell_type": "code",
   "execution_count": 20,
   "source": [
    "data['race'].value_counts().sort_values().plot(kind='barh', title='Quantidade de Indivíduos Étnicos')\r\n",
    "\r\n",
    "data['race'].value_counts()"
   ],
   "outputs": [
    {
     "output_type": "execute_result",
     "data": {
      "text/plain": [
       "White                 41762\n",
       "Black                  4685\n",
       "Asian-Pac-Islander     1519\n",
       "Amer-Indian-Eskimo      470\n",
       "Other                   406\n",
       "Name: race, dtype: int64"
      ]
     },
     "metadata": {},
     "execution_count": 20
    },
    {
     "output_type": "display_data",
     "data": {
      "image/png": "[encoded data removed]",
      "text/plain": [
       "<Figure size 432x288 with 1 Axes>"
      ]
     },
     "metadata": {
      "needs_background": "light"
     }
    }
   ],
   "metadata": {}
  },
  {
   "cell_type": "code",
   "execution_count": 24,
   "source": [
    "#separando os dados para execução do modelo, apenas brancos (41762) e negros (4685)\r\n",
    "data_black_white = data[data.race.isin(['Black', 'White'])]\r\n",
    "data_black_white['race'].value_counts()"
   ],
   "outputs": [
    {
     "output_type": "execute_result",
     "data": {
      "text/plain": [
       "White    41762\n",
       "Black     4685\n",
       "Name: race, dtype: int64"
      ]
     },
     "metadata": {},
     "execution_count": 24
    }
   ],
   "metadata": {}
  },
  {
   "cell_type": "code",
   "execution_count": 25,
   "source": [
    "race_x = data_black_white.drop(['mais50k'], axis=1)\r\n",
    "race_x_dummies = pd.get_dummies(race_x)\r\n",
    "\r\n",
    "race_y = data_black_white['mais50k']"
   ],
   "outputs": [],
   "metadata": {}
  },
  {
   "cell_type": "code",
   "execution_count": 26,
   "source": [
    "#criando modelo de previsão\r\n",
    "race_decision_tree = DecisionTreeClassifier(min_samples_leaf=10, max_depth=4)\r\n",
    "\r\n",
    "race_decision_tree_prev = run_classification(race_decision_tree, race_x_dummies, race_y, race_x['race'])"
   ],
   "outputs": [],
   "metadata": {}
  },
  {
   "cell_type": "code",
   "execution_count": 27,
   "source": [
    "race_results = calculate_metrics(race_y, race_decision_tree_prev, race_x['race'])\r\n",
    "\r\n",
    "print(race_results.overall)\r\n",
    "race_results.by_group"
   ],
   "outputs": [
    {
     "output_type": "stream",
     "name": "stdout",
     "text": [
      "accuracy               0.839882\n",
      "precision              0.739303\n",
      "recall                 0.516513\n",
      "false positive rate    0.057691\n",
      "true positive rate     0.516513\n",
      "selection rate         0.168063\n",
      "dtype: object\n"
     ]
    },
    {
     "output_type": "execute_result",
     "data": {
      "text/html": [
       "<div>\n",
       "<style scoped>\n",
       "    .dataframe tbody tr th:only-of-type {\n",
       "        vertical-align: middle;\n",
       "    }\n",
       "\n",
       "    .dataframe tbody tr th {\n",
       "        vertical-align: top;\n",
       "    }\n",
       "\n",
       "    .dataframe thead th {\n",
       "        text-align: right;\n",
       "    }\n",
       "</style>\n",
       "<table border=\"1\" class=\"dataframe\">\n",
       "  <thead>\n",
       "    <tr style=\"text-align: right;\">\n",
       "      <th></th>\n",
       "      <th>accuracy</th>\n",
       "      <th>precision</th>\n",
       "      <th>recall</th>\n",
       "      <th>false positive rate</th>\n",
       "      <th>true positive rate</th>\n",
       "      <th>selection rate</th>\n",
       "    </tr>\n",
       "    <tr>\n",
       "      <th>race</th>\n",
       "      <th></th>\n",
       "      <th></th>\n",
       "      <th></th>\n",
       "      <th></th>\n",
       "      <th></th>\n",
       "      <th></th>\n",
       "    </tr>\n",
       "  </thead>\n",
       "  <tbody>\n",
       "    <tr>\n",
       "      <th>Black</th>\n",
       "      <td>0.872785</td>\n",
       "      <td>0.47905</td>\n",
       "      <td>0.606007</td>\n",
       "      <td>0.090556</td>\n",
       "      <td>0.606007</td>\n",
       "      <td>0.152828</td>\n",
       "    </tr>\n",
       "    <tr>\n",
       "      <th>White</th>\n",
       "      <td>0.836191</td>\n",
       "      <td>0.765585</td>\n",
       "      <td>0.511738</td>\n",
       "      <td>0.053346</td>\n",
       "      <td>0.511738</td>\n",
       "      <td>0.169772</td>\n",
       "    </tr>\n",
       "  </tbody>\n",
       "</table>\n",
       "</div>"
      ],
      "text/plain": [
       "       accuracy precision    recall false positive rate true positive rate  \\\n",
       "race                                                                         \n",
       "Black  0.872785   0.47905  0.606007            0.090556           0.606007   \n",
       "White  0.836191  0.765585  0.511738            0.053346           0.511738   \n",
       "\n",
       "      selection rate  \n",
       "race                  \n",
       "Black       0.152828  \n",
       "White       0.169772  "
      ]
     },
     "metadata": {},
     "execution_count": 27
    }
   ],
   "metadata": {}
  },
  {
   "cell_type": "markdown",
   "source": [
    "## Oversampling e Undersampling de mais50k"
   ],
   "metadata": {}
  },
  {
   "cell_type": "code",
   "execution_count": 31,
   "source": [
    "def resample(sampling_model, data):\r\n",
    "    x, y = sampling_model.fit_resample(\r\n",
    "        data.drop(['mais50k'], axis=1),\r\n",
    "        data['mais50k']\r\n",
    "    )\r\n",
    "\r\n",
    "    sensitive_feature = x['race']\r\n",
    "    x_dummies = pd.get_dummies(x)\r\n",
    "\r\n",
    "    return x_dummies, y, sensitive_feature"
   ],
   "outputs": [],
   "metadata": {}
  },
  {
   "cell_type": "code",
   "execution_count": 32,
   "source": [
    "#realizando reamostragem over e undersampling dos dados de pessoas brancas e negras\r\n",
    "bw_over_x, bw_over_y, bw_over_sen = resample(over_sampler, data_black_white)\r\n",
    "bw_under_x, bw_under_y, bw_under_sen = resample(under_sampler, data_black_white)"
   ],
   "outputs": [],
   "metadata": {}
  },
  {
   "cell_type": "code",
   "execution_count": 33,
   "source": [
    "#criando modelo árvore de decisão e realizando previsões\r\n",
    "\r\n",
    "bw_decision_tree = DecisionTreeClassifier(min_samples_leaf=10, max_depth=4)\r\n",
    "\r\n",
    "bw_over_prev = run_classification(bw_decision_tree, bw_over_x, bw_over_y, bw_over_sen)\r\n",
    "bw_under_prev = run_classification(bw_decision_tree, bw_under_x, bw_under_y, bw_under_sen)"
   ],
   "outputs": [],
   "metadata": {}
  },
  {
   "cell_type": "code",
   "execution_count": 34,
   "source": [
    "#calculando os valores das métricas\r\n",
    "bw_over_results = calculate_metrics(bw_over_y, bw_over_prev, bw_over_sen)\r\n",
    "bw_under_results = calculate_metrics(bw_under_y, bw_under_prev, bw_under_sen)"
   ],
   "outputs": [],
   "metadata": {}
  },
  {
   "cell_type": "code",
   "execution_count": 39,
   "source": [
    "print('**OVERSAMPLING**')\r\n",
    "\r\n",
    "bw_over_results.by_group.plot.bar(\r\n",
    "    subplots=True,\r\n",
    "    layout=[3, 3],\r\n",
    "    legend=False,\r\n",
    "    figsize=[12,8],\r\n",
    "    title=\"Black/White Oversampling\"\r\n",
    ")\r\n",
    "\r\n",
    "bw_over_results.by_group"
   ],
   "outputs": [
    {
     "output_type": "stream",
     "name": "stdout",
     "text": [
      "**OVERSAMPLING**\n"
     ]
    },
    {
     "output_type": "execute_result",
     "data": {
      "text/html": [
       "<div>\n",
       "<style scoped>\n",
       "    .dataframe tbody tr th:only-of-type {\n",
       "        vertical-align: middle;\n",
       "    }\n",
       "\n",
       "    .dataframe tbody tr th {\n",
       "        vertical-align: top;\n",
       "    }\n",
       "\n",
       "    .dataframe thead th {\n",
       "        text-align: right;\n",
       "    }\n",
       "</style>\n",
       "<table border=\"1\" class=\"dataframe\">\n",
       "  <thead>\n",
       "    <tr style=\"text-align: right;\">\n",
       "      <th></th>\n",
       "      <th>accuracy</th>\n",
       "      <th>precision</th>\n",
       "      <th>recall</th>\n",
       "      <th>false positive rate</th>\n",
       "      <th>true positive rate</th>\n",
       "      <th>selection rate</th>\n",
       "    </tr>\n",
       "    <tr>\n",
       "      <th>race</th>\n",
       "      <th></th>\n",
       "      <th></th>\n",
       "      <th></th>\n",
       "      <th></th>\n",
       "      <th></th>\n",
       "      <th></th>\n",
       "    </tr>\n",
       "  </thead>\n",
       "  <tbody>\n",
       "    <tr>\n",
       "      <th>Black</th>\n",
       "      <td>0.692634</td>\n",
       "      <td>0.494103</td>\n",
       "      <td>0.897913</td>\n",
       "      <td>0.395727</td>\n",
       "      <td>0.897913</td>\n",
       "      <td>0.546843</td>\n",
       "    </tr>\n",
       "    <tr>\n",
       "      <th>White</th>\n",
       "      <td>0.790538</td>\n",
       "      <td>0.77851</td>\n",
       "      <td>0.832632</td>\n",
       "      <td>0.254726</td>\n",
       "      <td>0.832632</td>\n",
       "      <td>0.554164</td>\n",
       "    </tr>\n",
       "  </tbody>\n",
       "</table>\n",
       "</div>"
      ],
      "text/plain": [
       "       accuracy precision    recall false positive rate true positive rate  \\\n",
       "race                                                                         \n",
       "Black  0.692634  0.494103  0.897913            0.395727           0.897913   \n",
       "White  0.790538   0.77851  0.832632            0.254726           0.832632   \n",
       "\n",
       "      selection rate  \n",
       "race                  \n",
       "Black       0.546843  \n",
       "White       0.554164  "
      ]
     },
     "metadata": {},
     "execution_count": 39
    },
    {
     "output_type": "display_data",
     "data": {
      "image/png": "[encoded data removed]",
      "text/plain": [
       "<Figure size 864x576 with 9 Axes>"
      ]
     },
     "metadata": {
      "needs_background": "light"
     }
    }
   ],
   "metadata": {}
  },
  {
   "cell_type": "code",
   "execution_count": 40,
   "source": [
    "print('**UNDERSAMPLING**')\r\n",
    "\r\n",
    "bw_under_results.by_group.plot.bar(\r\n",
    "    subplots=True,\r\n",
    "    layout=[3, 3],\r\n",
    "    legend=False,\r\n",
    "    figsize=[12,8],\r\n",
    "    title=\"Black/White Undersampling\"\r\n",
    ")\r\n",
    "\r\n",
    "bw_under_results.by_group"
   ],
   "outputs": [
    {
     "output_type": "stream",
     "name": "stdout",
     "text": [
      "**UNDERSAMPLING**\n"
     ]
    },
    {
     "output_type": "execute_result",
     "data": {
      "text/html": [
       "<div>\n",
       "<style scoped>\n",
       "    .dataframe tbody tr th:only-of-type {\n",
       "        vertical-align: middle;\n",
       "    }\n",
       "\n",
       "    .dataframe tbody tr th {\n",
       "        vertical-align: top;\n",
       "    }\n",
       "\n",
       "    .dataframe thead th {\n",
       "        text-align: right;\n",
       "    }\n",
       "</style>\n",
       "<table border=\"1\" class=\"dataframe\">\n",
       "  <thead>\n",
       "    <tr style=\"text-align: right;\">\n",
       "      <th></th>\n",
       "      <th>accuracy</th>\n",
       "      <th>precision</th>\n",
       "      <th>recall</th>\n",
       "      <th>false positive rate</th>\n",
       "      <th>true positive rate</th>\n",
       "      <th>selection rate</th>\n",
       "    </tr>\n",
       "    <tr>\n",
       "      <th>race</th>\n",
       "      <th></th>\n",
       "      <th></th>\n",
       "      <th></th>\n",
       "      <th></th>\n",
       "      <th></th>\n",
       "      <th></th>\n",
       "    </tr>\n",
       "  </thead>\n",
       "  <tbody>\n",
       "    <tr>\n",
       "      <th>Black</th>\n",
       "      <td>0.699125</td>\n",
       "      <td>0.508197</td>\n",
       "      <td>0.876325</td>\n",
       "      <td>0.380349</td>\n",
       "      <td>0.876325</td>\n",
       "      <td>0.533917</td>\n",
       "    </tr>\n",
       "    <tr>\n",
       "      <th>White</th>\n",
       "      <td>0.792329</td>\n",
       "      <td>0.780449</td>\n",
       "      <td>0.832469</td>\n",
       "      <td>0.250631</td>\n",
       "      <td>0.832469</td>\n",
       "      <td>0.551418</td>\n",
       "    </tr>\n",
       "  </tbody>\n",
       "</table>\n",
       "</div>"
      ],
      "text/plain": [
       "       accuracy precision    recall false positive rate true positive rate  \\\n",
       "race                                                                         \n",
       "Black  0.699125  0.508197  0.876325            0.380349           0.876325   \n",
       "White  0.792329  0.780449  0.832469            0.250631           0.832469   \n",
       "\n",
       "      selection rate  \n",
       "race                  \n",
       "Black       0.533917  \n",
       "White       0.551418  "
      ]
     },
     "metadata": {},
     "execution_count": 40
    },
    {
     "output_type": "display_data",
     "data": {
      "image/png": "[encoded data removed]",
      "text/plain": [
       "<Figure size 864x576 with 9 Axes>"
      ]
     },
     "metadata": {
      "needs_background": "light"
     }
    }
   ],
   "metadata": {}
  },
  {
   "cell_type": "markdown",
   "source": [
    "# Modelos de Classificação Diferentes (Random Forest e Gradient Boosting)\r\n",
    "## Utilizando Raça como Atributo Sensível"
   ],
   "metadata": {}
  },
  {
   "cell_type": "code",
   "execution_count": 41,
   "source": [
    "#executando com outros modelos\r\n",
    "from sklearn.ensemble import RandomForestClassifier, GradientBoostingClassifier\r\n",
    "\r\n",
    "#criando floresta aleatória\r\n",
    "bw_random_forest = RandomForestClassifier(n_estimators=100,bootstrap=True, max_depth=3, max_features=9, max_leaf_nodes=8)\r\n",
    "\r\n",
    "#criando aumento gradiente\r\n",
    "bw_gradient_boost = GradientBoostingClassifier(n_estimators=100, max_depth=3, max_features=9, max_leaf_nodes=8, loss='deviance', learning_rate=0.2, subsample=1)\r\n"
   ],
   "outputs": [],
   "metadata": {}
  },
  {
   "cell_type": "code",
   "execution_count": 42,
   "source": [
    "#executando treino e previsão dos dois modelos\r\n",
    "\r\n",
    "bw_random_forest_prev = run_classification(bw_random_forest,\r\n",
    "                                           race_x_dummies,\r\n",
    "                                           race_y,\r\n",
    "                                           race_x['race'])\r\n",
    "\r\n",
    "bw_gradient_boost_prev = run_classification(bw_gradient_boost,\r\n",
    "                                           race_x_dummies,\r\n",
    "                                           race_y,\r\n",
    "                                           race_x['race'])"
   ],
   "outputs": [],
   "metadata": {}
  },
  {
   "cell_type": "code",
   "execution_count": 43,
   "source": [
    "#calculando valores métricos para os dois novos classificadores\r\n",
    "\r\n",
    "bw_random_forest_results = calculate_metrics(race_y, bw_random_forest_prev, race_x['race'])\r\n",
    "\r\n",
    "bw_gradient_boost_results = calculate_metrics(race_y, bw_gradient_boost_prev, race_x['race'])"
   ],
   "outputs": [],
   "metadata": {}
  },
  {
   "cell_type": "code",
   "execution_count": 45,
   "source": [
    "print('**RANDOM FOREST**\\n')\r\n",
    "\r\n",
    "bw_random_forest_results.by_group.plot.bar(\r\n",
    "    subplots=True,\r\n",
    "    layout=[3, 3],\r\n",
    "    legend=False,\r\n",
    "    figsize=[12,8],\r\n",
    "    title=\"Black/White Random Forest\"\r\n",
    ")\r\n",
    "\r\n",
    "bw_random_forest_results.by_group"
   ],
   "outputs": [
    {
     "output_type": "stream",
     "name": "stdout",
     "text": [
      "**RANDOM FOREST**\n",
      "\n"
     ]
    },
    {
     "output_type": "execute_result",
     "data": {
      "text/html": [
       "<div>\n",
       "<style scoped>\n",
       "    .dataframe tbody tr th:only-of-type {\n",
       "        vertical-align: middle;\n",
       "    }\n",
       "\n",
       "    .dataframe tbody tr th {\n",
       "        vertical-align: top;\n",
       "    }\n",
       "\n",
       "    .dataframe thead th {\n",
       "        text-align: right;\n",
       "    }\n",
       "</style>\n",
       "<table border=\"1\" class=\"dataframe\">\n",
       "  <thead>\n",
       "    <tr style=\"text-align: right;\">\n",
       "      <th></th>\n",
       "      <th>accuracy</th>\n",
       "      <th>precision</th>\n",
       "      <th>recall</th>\n",
       "      <th>false positive rate</th>\n",
       "      <th>true positive rate</th>\n",
       "      <th>selection rate</th>\n",
       "    </tr>\n",
       "    <tr>\n",
       "      <th>race</th>\n",
       "      <th></th>\n",
       "      <th></th>\n",
       "      <th></th>\n",
       "      <th></th>\n",
       "      <th></th>\n",
       "      <th></th>\n",
       "    </tr>\n",
       "  </thead>\n",
       "  <tbody>\n",
       "    <tr>\n",
       "      <th>Black</th>\n",
       "      <td>0.888794</td>\n",
       "      <td>0.666667</td>\n",
       "      <td>0.159011</td>\n",
       "      <td>0.010925</td>\n",
       "      <td>0.159011</td>\n",
       "      <td>0.028815</td>\n",
       "    </tr>\n",
       "    <tr>\n",
       "      <th>White</th>\n",
       "      <td>0.786073</td>\n",
       "      <td>0.99177</td>\n",
       "      <td>0.159046</td>\n",
       "      <td>0.000449</td>\n",
       "      <td>0.159046</td>\n",
       "      <td>0.040731</td>\n",
       "    </tr>\n",
       "  </tbody>\n",
       "</table>\n",
       "</div>"
      ],
      "text/plain": [
       "       accuracy precision    recall false positive rate true positive rate  \\\n",
       "race                                                                         \n",
       "Black  0.888794  0.666667  0.159011            0.010925           0.159011   \n",
       "White  0.786073   0.99177  0.159046            0.000449           0.159046   \n",
       "\n",
       "      selection rate  \n",
       "race                  \n",
       "Black       0.028815  \n",
       "White       0.040731  "
      ]
     },
     "metadata": {},
     "execution_count": 45
    },
    {
     "output_type": "display_data",
     "data": {
      "image/png": "[encoded data removed]",
      "text/plain": [
       "<Figure size 864x576 with 9 Axes>"
      ]
     },
     "metadata": {
      "needs_background": "light"
     }
    }
   ],
   "metadata": {}
  },
  {
   "cell_type": "code",
   "execution_count": 46,
   "source": [
    "print('\\n**GRADIENT BOOSTING**\\n')\r\n",
    "\r\n",
    "bw_gradient_boost_results.by_group.plot.bar(\r\n",
    "    subplots=True,\r\n",
    "    layout=[3, 3],\r\n",
    "    legend=False,\r\n",
    "    figsize=[12,8],\r\n",
    "    title=\"Black/White Gradient Boosting\"\r\n",
    ")\r\n",
    "\r\n",
    "bw_gradient_boost_results.by_group"
   ],
   "outputs": [
    {
     "output_type": "stream",
     "name": "stdout",
     "text": [
      "\n",
      "**GRADIENT BOOSTING**\n",
      "\n"
     ]
    },
    {
     "output_type": "execute_result",
     "data": {
      "text/html": [
       "<div>\n",
       "<style scoped>\n",
       "    .dataframe tbody tr th:only-of-type {\n",
       "        vertical-align: middle;\n",
       "    }\n",
       "\n",
       "    .dataframe tbody tr th {\n",
       "        vertical-align: top;\n",
       "    }\n",
       "\n",
       "    .dataframe thead th {\n",
       "        text-align: right;\n",
       "    }\n",
       "</style>\n",
       "<table border=\"1\" class=\"dataframe\">\n",
       "  <thead>\n",
       "    <tr style=\"text-align: right;\">\n",
       "      <th></th>\n",
       "      <th>accuracy</th>\n",
       "      <th>precision</th>\n",
       "      <th>recall</th>\n",
       "      <th>false positive rate</th>\n",
       "      <th>true positive rate</th>\n",
       "      <th>selection rate</th>\n",
       "    </tr>\n",
       "    <tr>\n",
       "      <th>race</th>\n",
       "      <th></th>\n",
       "      <th></th>\n",
       "      <th></th>\n",
       "      <th></th>\n",
       "      <th></th>\n",
       "      <th></th>\n",
       "    </tr>\n",
       "  </thead>\n",
       "  <tbody>\n",
       "    <tr>\n",
       "      <th>Black</th>\n",
       "      <td>0.894984</td>\n",
       "      <td>0.544578</td>\n",
       "      <td>0.798587</td>\n",
       "      <td>0.09177</td>\n",
       "      <td>0.798587</td>\n",
       "      <td>0.177161</td>\n",
       "    </tr>\n",
       "    <tr>\n",
       "      <th>White</th>\n",
       "      <td>0.861094</td>\n",
       "      <td>0.805182</td>\n",
       "      <td>0.597718</td>\n",
       "      <td>0.049238</td>\n",
       "      <td>0.597718</td>\n",
       "      <td>0.188545</td>\n",
       "    </tr>\n",
       "  </tbody>\n",
       "</table>\n",
       "</div>"
      ],
      "text/plain": [
       "       accuracy precision    recall false positive rate true positive rate  \\\n",
       "race                                                                         \n",
       "Black  0.894984  0.544578  0.798587             0.09177           0.798587   \n",
       "White  0.861094  0.805182  0.597718            0.049238           0.597718   \n",
       "\n",
       "      selection rate  \n",
       "race                  \n",
       "Black       0.177161  \n",
       "White       0.188545  "
      ]
     },
     "metadata": {},
     "execution_count": 46
    },
    {
     "output_type": "display_data",
     "data": {
      "image/png": "[encoded data removed]",
      "text/plain": [
       "<Figure size 864x576 with 9 Axes>"
      ]
     },
     "metadata": {
      "needs_background": "light"
     }
    }
   ],
   "metadata": {}
  }
 ],
 "metadata": {
  "interpreter": {
   "hash": "e859d2b2c5ec404c80be3ae1107f381ab65c60291df144b2c8070f47769fe782"
  },
  "kernelspec": {
   "name": "python3",
   "display_name": "Python 3.8.8 64-bit ('base': conda)"
  },
  "language_info": {
   "codemirror_mode": {
    "name": "ipython",
    "version": 3
   },
   "file_extension": ".py",
   "mimetype": "text/x-python",
   "name": "python",
   "nbconvert_exporter": "python",
   "pygments_lexer": "ipython3",
   "version": "3.8.8"
  }
 },
 "nbformat": 4,
 "nbformat_minor": 2
}